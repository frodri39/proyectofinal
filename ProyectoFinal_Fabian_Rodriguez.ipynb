{
 "cells": [
  {
   "cell_type": "code",
   "execution_count": 854,
   "id": "eb9c87a7-514b-4131-b6af-3546ea61e37b",
   "metadata": {},
   "outputs": [],
   "source": [
    "import sklearn\n",
    "import pandas as pd\n",
    "import numpy as np\n",
    "import matplotlib.pyplot as plt\n",
    "import time\n",
    "from datetime import time, date, datetime\n",
    "import os\n",
    "from ldap3 import Server, Connection, SIMPLE, SYNC, ALL\n",
    "#from pyad import *\n",
    "import pyodbc\n",
    "import os\n",
    "import re\n",
    "from unidecode import unidecode\n",
    "from datetime import datetime\n",
    "from unidecode import unidecode\n",
    "%matplotlib inline\n",
    "import statsmodels.api as sm\n",
    "from sklearn.metrics import r2_score, mean_squared_error, mean_absolute_error"
   ]
  },
  {
   "cell_type": "code",
   "execution_count": 2,
   "id": "5d1a96f2-7773-46dc-9592-dd85b98745df",
   "metadata": {},
   "outputs": [],
   "source": [
    "#Timestap para validar inicio del notebook\n",
    "comienzonotebook = datetime.now()"
   ]
  },
  {
   "cell_type": "code",
   "execution_count": 861,
   "id": "77e6c98c-9a52-4b97-84ea-2ad17694c130",
   "metadata": {},
   "outputs": [],
   "source": [
    "# Creacion de la conexión a la base de datos ITSM Aranda\n",
    "connAranda = pyodbc.connect(driver=\"{SQL Server}\",server='172.16.20.90',database='ArandaDB8',uid='arandauser',pwd='XXXXXXX3')\n",
    "#connAranda = pyodbc.connect(\"DSN=ArandaDSN\")\n",
    "\n",
    "# Creacion de la conexión a la base de datos ITSM DiscoveryHawk\n",
    "connDiscov = pyodbc.connect(driver=\"{SQL Server}\",server='172.16.20.70',database='DiscovSQL',uid='discoveryuser',pwd='XXXXXX2024')\n",
    "#connDiscov = pyodbc.connect(\"DSN=DiscovDSN\")\n"
   ]
  },
  {
   "cell_type": "code",
   "execution_count": 862,
   "id": "81425e4a-c25f-405a-a089-18a4edcaaf75",
   "metadata": {},
   "outputs": [
    {
     "name": "stderr",
     "output_type": "stream",
     "text": [
      "C:\\Users\\ferodriguez\\AppData\\Local\\Temp\\ipykernel_6744\\4038889648.py:9: UserWarning: pandas only supports SQLAlchemy connectable (engine/connection) or database string URI or sqlite3 DBAPI2 connection. Other DBAPI2 objects are not tested. Please consider using SQLAlchemy.\n",
      "  kactus = pd.read_sql(queryKactus, connKactus)\n"
     ]
    }
   ],
   "source": [
    "#conexion con la BD de Kactus de empleados\n",
    "#connKactus = pyodbc.connect(\"DSN=KactusDSN\")\n",
    "connKactus = pyodbc.connect(driver=\"{SQL Server}\",server='172.16.20.70',database='kactus',uid='discoveryuser',pwd='XXXXXX2024')\n",
    "\n",
    "#query de lectura para generar tabla maestra de usuarios y con nombre completo, cedula y correo\n",
    "queryKactus = \"select distinct  RTRIM(emp.nom_empl) + ' ' + RTRIM(emp.ape_empl) as NombreCompleto, cast(emp.cod_empl as varchar(50)) as cedula, case when CHARINDEX('@', emp.box_mail) > 0 then left(emp.box_mail, CHARINDEX('@', emp.box_mail) -1 ) else emp.box_mail end as username  from gn_accaj gn  inner join bi_emple emp on gn.COD_EMPL = emp.cod_empl  where CHARINDEX('@', emp.box_mail) > 0  order by NombreCompleto \"\n",
    "\n",
    "#leyendo la consulta de SQL y creando un dataframe maestro de \n",
    "kactus = pd.read_sql(queryKactus, connKactus)"
   ]
  },
  {
   "cell_type": "code",
   "execution_count": 5,
   "id": "485b4d3d-ad58-4085-b22a-aacfe0bc3863",
   "metadata": {},
   "outputs": [
    {
     "data": {
      "text/html": [
       "<div>\n",
       "<style scoped>\n",
       "    .dataframe tbody tr th:only-of-type {\n",
       "        vertical-align: middle;\n",
       "    }\n",
       "\n",
       "    .dataframe tbody tr th {\n",
       "        vertical-align: top;\n",
       "    }\n",
       "\n",
       "    .dataframe thead th {\n",
       "        text-align: right;\n",
       "    }\n",
       "</style>\n",
       "<table border=\"1\" class=\"dataframe\">\n",
       "  <thead>\n",
       "    <tr style=\"text-align: right;\">\n",
       "      <th></th>\n",
       "      <th>NombreCompleto</th>\n",
       "      <th>cedula</th>\n",
       "      <th>username</th>\n",
       "    </tr>\n",
       "  </thead>\n",
       "  <tbody>\n",
       "    <tr>\n",
       "      <th>0</th>\n",
       "      <td>ADALBERTO CHARRIS MEJIA</td>\n",
       "      <td>72314652</td>\n",
       "      <td>acharris</td>\n",
       "    </tr>\n",
       "    <tr>\n",
       "      <th>1</th>\n",
       "      <td>ADOLFO CACERES MELO</td>\n",
       "      <td>79691436</td>\n",
       "      <td>acaceres</td>\n",
       "    </tr>\n",
       "    <tr>\n",
       "      <th>2</th>\n",
       "      <td>ADRIAN IVANOV CORREA MORENO</td>\n",
       "      <td>91176740</td>\n",
       "      <td>acorrea</td>\n",
       "    </tr>\n",
       "    <tr>\n",
       "      <th>3</th>\n",
       "      <td>ADRIANA CRISTINA PINZON NIÑO</td>\n",
       "      <td>46450472</td>\n",
       "      <td>apinzon</td>\n",
       "    </tr>\n",
       "    <tr>\n",
       "      <th>4</th>\n",
       "      <td>ADRIANA MERCEDES AMADOR DE VIVERO</td>\n",
       "      <td>1018430921</td>\n",
       "      <td>aamador</td>\n",
       "    </tr>\n",
       "  </tbody>\n",
       "</table>\n",
       "</div>"
      ],
      "text/plain": [
       "                      NombreCompleto      cedula  username\n",
       "0            ADALBERTO CHARRIS MEJIA    72314652  acharris\n",
       "1                ADOLFO CACERES MELO    79691436  acaceres\n",
       "2        ADRIAN IVANOV CORREA MORENO    91176740   acorrea\n",
       "3       ADRIANA CRISTINA PINZON NIÑO    46450472   apinzon\n",
       "4  ADRIANA MERCEDES AMADOR DE VIVERO  1018430921   aamador"
      ]
     },
     "execution_count": 5,
     "metadata": {},
     "output_type": "execute_result"
    }
   ],
   "source": [
    "#visualizacion de este dataframe que cuenta como columna maestra\n",
    "kactus.head()"
   ]
  },
  {
   "cell_type": "code",
   "execution_count": 6,
   "id": "0b71ba96-66ea-4a64-b9d7-ad9bf102b5ec",
   "metadata": {},
   "outputs": [
    {
     "name": "stderr",
     "output_type": "stream",
     "text": [
      "C:\\Users\\ferodriguez\\AppData\\Local\\Temp\\ipykernel_6744\\3907531157.py:7: UserWarning: pandas only supports SQLAlchemy connectable (engine/connection) or database string URI or sqlite3 DBAPI2 connection. Other DBAPI2 objects are not tested. Please consider using SQLAlchemy.\n",
      "  discovery = pd.read_sql(sp_discovery, connDiscov)\n"
     ]
    }
   ],
   "source": [
    "#Conversión de los query en los dataframes de las herramientas ITSM Discovery y Aranda\n",
    "#Definicion de los query SQL para ejecutar los procedimientos almacenados que se habían creado previamente\n",
    "sp_discovery = \"exec SP_CASOS_DISCOVERYGTI_V1\"\n",
    "#leyendo la consulta de SQL y convirtiendolas en dataframes\n",
    "discovery = pd.read_sql(sp_discovery, connDiscov)"
   ]
  },
  {
   "cell_type": "code",
   "execution_count": 7,
   "id": "35abffaf-faa5-4a0f-9c74-0d0ae828cebf",
   "metadata": {},
   "outputs": [
    {
     "name": "stderr",
     "output_type": "stream",
     "text": [
      "C:\\Users\\ferodriguez\\AppData\\Local\\Temp\\ipykernel_6744\\2222913784.py:7: UserWarning: pandas only supports SQLAlchemy connectable (engine/connection) or database string URI or sqlite3 DBAPI2 connection. Other DBAPI2 objects are not tested. Please consider using SQLAlchemy.\n",
      "  arandaInci = pd.read_sql(sp_incAranda, connAranda)\n",
      "C:\\Users\\ferodriguez\\AppData\\Local\\Temp\\ipykernel_6744\\2222913784.py:8: UserWarning: pandas only supports SQLAlchemy connectable (engine/connection) or database string URI or sqlite3 DBAPI2 connection. Other DBAPI2 objects are not tested. Please consider using SQLAlchemy.\n",
      "  arandaReq = pd.read_sql(sp_reqAranda, connAranda)\n",
      "C:\\Users\\ferodriguez\\AppData\\Local\\Temp\\ipykernel_6744\\2222913784.py:9: UserWarning: pandas only supports SQLAlchemy connectable (engine/connection) or database string URI or sqlite3 DBAPI2 connection. Other DBAPI2 objects are not tested. Please consider using SQLAlchemy.\n",
      "  arandaDes = pd.read_sql(sp_cambAranda, connAranda)\n"
     ]
    }
   ],
   "source": [
    "#definicion de los query y lectura de los datos SQL con la ejecución de los SP\n",
    "#conversión del resultado a dataframe\n",
    "sp_cambAranda = \"exec SP_CHANGES\"\n",
    "sp_reqAranda = \"exec SP_SERVICECALL\"\n",
    "sp_incAranda = \"exec SP_INCIDENTESGTI\"\n",
    "\n",
    "arandaInci = pd.read_sql(sp_incAranda, connAranda)\n",
    "arandaReq = pd.read_sql(sp_reqAranda, connAranda)\n",
    "arandaDes = pd.read_sql(sp_cambAranda, connAranda)"
   ]
  },
  {
   "cell_type": "code",
   "execution_count": 8,
   "id": "5e1f3612-3962-4464-b165-afcf45cedfc2",
   "metadata": {},
   "outputs": [],
   "source": [
    "#Copia del dataframe para no trabajar con el original\n",
    "discovery1 = discovery.copy()"
   ]
  },
  {
   "cell_type": "code",
   "execution_count": 9,
   "id": "8c4e0b2c-beab-4558-8fa3-e39f7e40d065",
   "metadata": {},
   "outputs": [],
   "source": [
    "#ciclo para  guardar los números de cédula que estan en lugar del usuario de AD, para su validacion\n",
    "listacedulas = []\n",
    "for i, fila, in discovery.iterrows():\n",
    "    if str(fila['username_ufinal']).isdigit():\n",
    "        listacedulas.append(discovery.loc[i , 'username_ufinal'])\n"
   ]
  },
  {
   "cell_type": "code",
   "execution_count": 10,
   "id": "883aad99-b42d-449c-960c-a876d4fbc18a",
   "metadata": {},
   "outputs": [
    {
     "name": "stderr",
     "output_type": "stream",
     "text": [
      "<>:7: SyntaxWarning: invalid escape sequence '\\e'\n",
      "<>:7: SyntaxWarning: invalid escape sequence '\\e'\n",
      "C:\\Users\\ferodriguez\\AppData\\Local\\Temp\\ipykernel_6744\\2337078097.py:7: SyntaxWarning: invalid escape sequence '\\e'\n",
      "  username = 'FINAGRO\\entrustuser'\n"
     ]
    }
   ],
   "source": [
    "#Conexión a LDAP AD y pruebas\n",
    "server_address = 'ldap://172.16.0.5:389'  # Conexión al servidor de LDAP AD\n",
    "base_dn = 'dc=FINAGRO,dc=LOC'  # Base domain name\n",
    "#ou = 'ou=FINAGRO'  # Unidad organizativa\n",
    "username = 'FINAGRO\\entrustuser'\n",
    "password = 'XXXXXXXX!/'\n",
    "\n",
    "# Crea el objeto Server\n",
    "server = Server(server_address)\n",
    "def convertirCedula(cedula):\n",
    "    username1 = ''\n",
    "    try:\n",
    "        # Intenta conectarte al servidor LDAP\n",
    "        with Connection(server, user=username, password=password, authentication=SIMPLE, raise_exceptions=True) as conn:\n",
    "            # Bind al servidor LDAP\n",
    "            conn.bind()\n",
    "            # Realiza una búsqueda por el ID del empleado\n",
    "            search_filter = f'(&(objectClass=user)(employeeID={cedula}))' #busqueda del colaborador por su cedula\n",
    "            conn.search(search_base=base_dn,\n",
    "                        search_filter=search_filter,\n",
    "                        search_scope='SUBTREE',\n",
    "                        attributes=['sAMAccountName'])\n",
    "            \n",
    "            # Imprime los resultados de la búsqueda\n",
    "            for entry in conn.entries:\n",
    "               username1 = entry.sAMAccountName.value if 'sAMAccountName' in entry else 'N/A'\n",
    "               print(f'ID de Empleado: {cedula} - encontrado el: {username1}')\n",
    "           # entry = conn.entries.first()\n",
    "           \n",
    "    except Exception as e:\n",
    "        print(f'Error: {e}')\n",
    "    return username1"
   ]
  },
  {
   "cell_type": "code",
   "execution_count": 11,
   "id": "c6d36599-d6e3-4d9e-b9db-61513424bb2f",
   "metadata": {},
   "outputs": [
    {
     "data": {
      "text/html": [
       "<div>\n",
       "<style scoped>\n",
       "    .dataframe tbody tr th:only-of-type {\n",
       "        vertical-align: middle;\n",
       "    }\n",
       "\n",
       "    .dataframe tbody tr th {\n",
       "        vertical-align: top;\n",
       "    }\n",
       "\n",
       "    .dataframe thead th {\n",
       "        text-align: right;\n",
       "    }\n",
       "</style>\n",
       "<table border=\"1\" class=\"dataframe\">\n",
       "  <thead>\n",
       "    <tr style=\"text-align: right;\">\n",
       "      <th></th>\n",
       "      <th>tipo_de_caso</th>\n",
       "      <th>origen_caso</th>\n",
       "      <th>proyecto</th>\n",
       "      <th>numero_caso</th>\n",
       "      <th>servicio</th>\n",
       "      <th>responsable</th>\n",
       "      <th>username_resp</th>\n",
       "      <th>usuariofinal</th>\n",
       "      <th>username_ufinal</th>\n",
       "      <th>fecha_creacion</th>\n",
       "      <th>fecha_atencion</th>\n",
       "      <th>fecha_solucion</th>\n",
       "      <th>tiempoTranscurrido</th>\n",
       "      <th>CUMPLE_ANS</th>\n",
       "    </tr>\n",
       "  </thead>\n",
       "  <tbody>\n",
       "    <tr>\n",
       "      <th>0</th>\n",
       "      <td>REQUERIMIENTO</td>\n",
       "      <td>Discovery</td>\n",
       "      <td>Soporte</td>\n",
       "      <td>56060</td>\n",
       "      <td>APLICATIVO BUZON SEGURO</td>\n",
       "      <td>CAROLINE PAEZ CHINONES</td>\n",
       "      <td>CPAEZ</td>\n",
       "      <td>SANDRA PATRICIA CASTILLO RAMIREZ</td>\n",
       "      <td>SCASTILLO</td>\n",
       "      <td>2024-04-22 15:31:15</td>\n",
       "      <td>2024-05-02 11:58:25</td>\n",
       "      <td>2024-05-02 11:58:46</td>\n",
       "      <td>3574</td>\n",
       "      <td>SI</td>\n",
       "    </tr>\n",
       "    <tr>\n",
       "      <th>1</th>\n",
       "      <td>INCIDENTE</td>\n",
       "      <td>Discovery</td>\n",
       "      <td>Soporte</td>\n",
       "      <td>56057</td>\n",
       "      <td>APLICATIVOS MICROSOFT OFFICE (EXCEL - ACCESS -...</td>\n",
       "      <td>JESUS MARTIN QUINTERO</td>\n",
       "      <td>MQUINTERO</td>\n",
       "      <td>None</td>\n",
       "      <td>1016019641</td>\n",
       "      <td>2024-03-20 15:47:39</td>\n",
       "      <td>2024-03-21 10:04:03</td>\n",
       "      <td>2024-03-21 11:51:09</td>\n",
       "      <td>75</td>\n",
       "      <td>SI</td>\n",
       "    </tr>\n",
       "    <tr>\n",
       "      <th>2</th>\n",
       "      <td>INCIDENTE</td>\n",
       "      <td>Discovery</td>\n",
       "      <td>Soporte</td>\n",
       "      <td>56055</td>\n",
       "      <td>APLICATIVO SARLAFT</td>\n",
       "      <td>YENNIFER ALEJANDRA VARGAS ZABALA</td>\n",
       "      <td>YAVARGAS</td>\n",
       "      <td>GUILLERMO GUTIERREZ CRUZ</td>\n",
       "      <td>GGUTIERREZ</td>\n",
       "      <td>2024-03-20 07:50:04</td>\n",
       "      <td>2024-03-20 08:22:48</td>\n",
       "      <td>2024-03-20 08:56:38</td>\n",
       "      <td>56</td>\n",
       "      <td>SI</td>\n",
       "    </tr>\n",
       "    <tr>\n",
       "      <th>3</th>\n",
       "      <td>INCIDENTE</td>\n",
       "      <td>Discovery</td>\n",
       "      <td>Soporte</td>\n",
       "      <td>56054</td>\n",
       "      <td>APLICATIVO SARLAFT</td>\n",
       "      <td>YENNIFER ALEJANDRA VARGAS ZABALA</td>\n",
       "      <td>YAVARGAS</td>\n",
       "      <td>GUILLERMO GUTIERREZ CRUZ</td>\n",
       "      <td>GGUTIERREZ</td>\n",
       "      <td>2024-03-18 14:05:53</td>\n",
       "      <td>2024-03-19 15:20:27</td>\n",
       "      <td>2024-03-20 07:34:45</td>\n",
       "      <td>717</td>\n",
       "      <td>SI</td>\n",
       "    </tr>\n",
       "    <tr>\n",
       "      <th>4</th>\n",
       "      <td>INCIDENTE</td>\n",
       "      <td>Discovery</td>\n",
       "      <td>Soporte</td>\n",
       "      <td>56053</td>\n",
       "      <td>APLICATIVO SARLAFT</td>\n",
       "      <td>YENNIFER ALEJANDRA VARGAS ZABALA</td>\n",
       "      <td>YAVARGAS</td>\n",
       "      <td>GUILLERMO GUTIERREZ CRUZ</td>\n",
       "      <td>GGUTIERREZ</td>\n",
       "      <td>2024-03-18 14:05:49</td>\n",
       "      <td>2024-03-19 15:11:22</td>\n",
       "      <td>2024-03-20 07:34:12</td>\n",
       "      <td>717</td>\n",
       "      <td>SI</td>\n",
       "    </tr>\n",
       "    <tr>\n",
       "      <th>5</th>\n",
       "      <td>REQUERIMIENTO</td>\n",
       "      <td>Discovery</td>\n",
       "      <td>Soporte</td>\n",
       "      <td>56052</td>\n",
       "      <td>APLICATIVO BUZON SEGURO</td>\n",
       "      <td>JESUS MARTIN QUINTERO</td>\n",
       "      <td>MQUINTERO</td>\n",
       "      <td>SANDRA PATRICIA CASTILLO RAMIREZ</td>\n",
       "      <td>SCASTILLO</td>\n",
       "      <td>2024-03-13 14:30:40</td>\n",
       "      <td>2024-03-21 07:08:00</td>\n",
       "      <td>2024-03-21 07:26:38</td>\n",
       "      <td>2856</td>\n",
       "      <td>SI</td>\n",
       "    </tr>\n",
       "  </tbody>\n",
       "</table>\n",
       "</div>"
      ],
      "text/plain": [
       "    tipo_de_caso origen_caso proyecto  numero_caso  \\\n",
       "0  REQUERIMIENTO   Discovery  Soporte        56060   \n",
       "1      INCIDENTE   Discovery  Soporte        56057   \n",
       "2      INCIDENTE   Discovery  Soporte        56055   \n",
       "3      INCIDENTE   Discovery  Soporte        56054   \n",
       "4      INCIDENTE   Discovery  Soporte        56053   \n",
       "5  REQUERIMIENTO   Discovery  Soporte        56052   \n",
       "\n",
       "                                            servicio  \\\n",
       "0                            APLICATIVO BUZON SEGURO   \n",
       "1  APLICATIVOS MICROSOFT OFFICE (EXCEL - ACCESS -...   \n",
       "2                                 APLICATIVO SARLAFT   \n",
       "3                                 APLICATIVO SARLAFT   \n",
       "4                                 APLICATIVO SARLAFT   \n",
       "5                            APLICATIVO BUZON SEGURO   \n",
       "\n",
       "                        responsable username_resp  \\\n",
       "0            CAROLINE PAEZ CHINONES         CPAEZ   \n",
       "1             JESUS MARTIN QUINTERO     MQUINTERO   \n",
       "2  YENNIFER ALEJANDRA VARGAS ZABALA      YAVARGAS   \n",
       "3  YENNIFER ALEJANDRA VARGAS ZABALA      YAVARGAS   \n",
       "4  YENNIFER ALEJANDRA VARGAS ZABALA      YAVARGAS   \n",
       "5             JESUS MARTIN QUINTERO     MQUINTERO   \n",
       "\n",
       "                       usuariofinal username_ufinal      fecha_creacion  \\\n",
       "0  SANDRA PATRICIA CASTILLO RAMIREZ       SCASTILLO 2024-04-22 15:31:15   \n",
       "1                              None      1016019641 2024-03-20 15:47:39   \n",
       "2          GUILLERMO GUTIERREZ CRUZ      GGUTIERREZ 2024-03-20 07:50:04   \n",
       "3          GUILLERMO GUTIERREZ CRUZ      GGUTIERREZ 2024-03-18 14:05:53   \n",
       "4          GUILLERMO GUTIERREZ CRUZ      GGUTIERREZ 2024-03-18 14:05:49   \n",
       "5  SANDRA PATRICIA CASTILLO RAMIREZ       SCASTILLO 2024-03-13 14:30:40   \n",
       "\n",
       "       fecha_atencion      fecha_solucion  tiempoTranscurrido CUMPLE_ANS  \n",
       "0 2024-05-02 11:58:25 2024-05-02 11:58:46                3574         SI  \n",
       "1 2024-03-21 10:04:03 2024-03-21 11:51:09                  75         SI  \n",
       "2 2024-03-20 08:22:48 2024-03-20 08:56:38                  56         SI  \n",
       "3 2024-03-19 15:20:27 2024-03-20 07:34:45                 717         SI  \n",
       "4 2024-03-19 15:11:22 2024-03-20 07:34:12                 717         SI  \n",
       "5 2024-03-21 07:08:00 2024-03-21 07:26:38                2856         SI  "
      ]
     },
     "execution_count": 11,
     "metadata": {},
     "output_type": "execute_result"
    }
   ],
   "source": [
    "#exploración de los datos a nivel dataframe\n",
    "discovery.head(6)"
   ]
  },
  {
   "cell_type": "code",
   "execution_count": 12,
   "id": "b98f2c05-3612-4e94-83a8-5a88169b7fde",
   "metadata": {},
   "outputs": [],
   "source": [
    "listacedulas1 = []\n",
    "for i, fila, in discovery.iterrows():\n",
    "    if str(fila['username_ufinal']).isdigit():\n",
    "        listacedulas1.append(discovery.loc[i , 'username_ufinal'])"
   ]
  },
  {
   "cell_type": "code",
   "execution_count": 13,
   "id": "6b201f34-9eda-407f-af5e-7171d183e200",
   "metadata": {},
   "outputs": [
    {
     "name": "stdout",
     "output_type": "stream",
     "text": [
      "1016019641\n"
     ]
    },
    {
     "data": {
      "text/plain": [
       "841"
      ]
     },
     "execution_count": 13,
     "metadata": {},
     "output_type": "execute_result"
    }
   ],
   "source": [
    "#Impresion de la cantidad de filas que contienen cedulas\n",
    "print(listacedulas1[0])\n",
    "len(listacedulas1)"
   ]
  },
  {
   "cell_type": "code",
   "execution_count": 14,
   "id": "e6751bfd-9b22-4ad6-b6e7-9aaad5f5f096",
   "metadata": {},
   "outputs": [
    {
     "name": "stdout",
     "output_type": "stream",
     "text": [
      "<class 'pandas.core.frame.DataFrame'>\n",
      "RangeIndex: 706 entries, 0 to 705\n",
      "Data columns (total 3 columns):\n",
      " #   Column          Non-Null Count  Dtype \n",
      "---  ------          --------------  ----- \n",
      " 0   NombreCompleto  706 non-null    object\n",
      " 1   cedula          706 non-null    object\n",
      " 2   username        706 non-null    object\n",
      "dtypes: object(3)\n",
      "memory usage: 16.7+ KB\n"
     ]
    }
   ],
   "source": [
    "#revision de dataframe kactus que servirá para llenar datos de los empleados del dataframe Discovery\n",
    "kactus.info()"
   ]
  },
  {
   "cell_type": "code",
   "execution_count": 15,
   "id": "9b175655-ae01-4bff-9908-455514e703bb",
   "metadata": {},
   "outputs": [
    {
     "name": "stdout",
     "output_type": "stream",
     "text": [
      "2024-05-29 10:00:09.172065\n",
      "2024-05-29 10:00:57.817363\n"
     ]
    }
   ],
   "source": [
    "#Ciclo para llenar los nombres de usuario restantes cuando el campo contiene la cedula en lugar del username, valores inconsistentes\n",
    "#valiendose del dataframe Kactus el cual contiene los usernames reales por cédula\n",
    "print(datetime.now())\n",
    "for i, fila, in discovery1.iterrows():\n",
    "    \n",
    "    \n",
    "    if discovery1.loc[i , 'username_ufinal'].isdigit():\n",
    "       # print(f\"{discovery1.loc[i , 'username_ufinal']} tiene cedula en lugar de username; se convierte\")\n",
    "        for j, fila, in kactus.iterrows():\n",
    "            if kactus.loc[j,'cedula'] == discovery1.loc[i , 'username_ufinal']:\n",
    "                valor = kactus.loc[j, 'username']\n",
    "                valorNombre = kactus.loc[j, 'NombreCompleto']\n",
    "                discovery1.loc[i , 'username_ufinal'] = valor              \n",
    "                discovery1.loc[i , 'usuariofinal'] = valorNombre\n",
    "\n",
    "    elif discovery1.loc[i , 'username_ufinal'] == '172.16.9.85':\n",
    "        #corrección de una data específica inconsistente donde el sistema tomó la IP del equipo en lugar del username\n",
    "        #print('Corregida inconsistencia 172.16.9.85 a verdadero nombre de usuario masmar')\n",
    "        discovery1.loc[i , 'username_ufinal'] = 'masmar'\n",
    "    \n",
    "    elif pd.isna(discovery1.loc[i , 'responsable']):\n",
    "        #print(f\"{discovery1.loc[i , 'username_resp']} responsable vacio; se convierte\")\n",
    "        for j, fila, in kactus.iterrows():\n",
    "            if kactus.loc[j,'username'].lower() == discovery1.loc[i , 'username_resp'].lower():\n",
    "                valorNombre = kactus.loc[j, 'NombreCompleto']\n",
    "                discovery1.loc[i , 'responsable'] = valorNombre\n",
    "                            \n",
    "print(datetime.now())"
   ]
  },
  {
   "cell_type": "code",
   "execution_count": 16,
   "id": "e3032420-69f3-42c0-a709-cd4e1a1183fb",
   "metadata": {},
   "outputs": [
    {
     "data": {
      "text/html": [
       "<div>\n",
       "<style scoped>\n",
       "    .dataframe tbody tr th:only-of-type {\n",
       "        vertical-align: middle;\n",
       "    }\n",
       "\n",
       "    .dataframe tbody tr th {\n",
       "        vertical-align: top;\n",
       "    }\n",
       "\n",
       "    .dataframe thead th {\n",
       "        text-align: right;\n",
       "    }\n",
       "</style>\n",
       "<table border=\"1\" class=\"dataframe\">\n",
       "  <thead>\n",
       "    <tr style=\"text-align: right;\">\n",
       "      <th></th>\n",
       "      <th>tipo_de_caso</th>\n",
       "      <th>origen_caso</th>\n",
       "      <th>proyecto</th>\n",
       "      <th>numero_caso</th>\n",
       "      <th>servicio</th>\n",
       "      <th>responsable</th>\n",
       "      <th>username_resp</th>\n",
       "      <th>usuariofinal</th>\n",
       "      <th>username_ufinal</th>\n",
       "      <th>fecha_creacion</th>\n",
       "      <th>fecha_atencion</th>\n",
       "      <th>fecha_solucion</th>\n",
       "      <th>tiempoTranscurrido</th>\n",
       "      <th>CUMPLE_ANS</th>\n",
       "    </tr>\n",
       "  </thead>\n",
       "  <tbody>\n",
       "    <tr>\n",
       "      <th>26311</th>\n",
       "      <td>INCIDENTE</td>\n",
       "      <td>Discovery</td>\n",
       "      <td>Soporte</td>\n",
       "      <td>5</td>\n",
       "      <td>APLICATIVO CARTERAS SFI</td>\n",
       "      <td>JESUS MARTIN QUINTERO</td>\n",
       "      <td>MQUINTERO</td>\n",
       "      <td>JESUS MARTIN QUINTERO</td>\n",
       "      <td>MQUINTERO</td>\n",
       "      <td>2014-12-05 20:15:42</td>\n",
       "      <td>2014-12-05</td>\n",
       "      <td>2014-12-05 20:45:36</td>\n",
       "      <td>0</td>\n",
       "      <td>SI</td>\n",
       "    </tr>\n",
       "    <tr>\n",
       "      <th>26312</th>\n",
       "      <td>INCIDENTE</td>\n",
       "      <td>Discovery</td>\n",
       "      <td>Soporte</td>\n",
       "      <td>4</td>\n",
       "      <td>APLICATIVO CARTERAS SFI</td>\n",
       "      <td>JESUS MARTIN QUINTERO</td>\n",
       "      <td>MQUINTERO</td>\n",
       "      <td>JESUS MARTIN QUINTERO</td>\n",
       "      <td>MQUINTERO</td>\n",
       "      <td>2014-12-05 20:08:11</td>\n",
       "      <td>2014-12-05</td>\n",
       "      <td>2014-12-05 20:46:36</td>\n",
       "      <td>0</td>\n",
       "      <td>SI</td>\n",
       "    </tr>\n",
       "  </tbody>\n",
       "</table>\n",
       "</div>"
      ],
      "text/plain": [
       "      tipo_de_caso origen_caso proyecto  numero_caso                 servicio  \\\n",
       "26311    INCIDENTE   Discovery  Soporte            5  APLICATIVO CARTERAS SFI   \n",
       "26312    INCIDENTE   Discovery  Soporte            4  APLICATIVO CARTERAS SFI   \n",
       "\n",
       "                 responsable username_resp           usuariofinal  \\\n",
       "26311  JESUS MARTIN QUINTERO     MQUINTERO  JESUS MARTIN QUINTERO   \n",
       "26312  JESUS MARTIN QUINTERO     MQUINTERO  JESUS MARTIN QUINTERO   \n",
       "\n",
       "      username_ufinal      fecha_creacion fecha_atencion      fecha_solucion  \\\n",
       "26311       MQUINTERO 2014-12-05 20:15:42     2014-12-05 2014-12-05 20:45:36   \n",
       "26312       MQUINTERO 2014-12-05 20:08:11     2014-12-05 2014-12-05 20:46:36   \n",
       "\n",
       "       tiempoTranscurrido CUMPLE_ANS  \n",
       "26311                   0         SI  \n",
       "26312                   0         SI  "
      ]
     },
     "execution_count": 16,
     "metadata": {},
     "output_type": "execute_result"
    }
   ],
   "source": [
    "#exploracion df \n",
    "discovery1.tail(2)"
   ]
  },
  {
   "cell_type": "code",
   "execution_count": 17,
   "id": "f34aa3ca-3b26-406f-a19d-84d8f8b0feb2",
   "metadata": {},
   "outputs": [
    {
     "name": "stdout",
     "output_type": "stream",
     "text": [
      "2024-05-29 10:00:57.858208\n",
      "1030547774 es digito y se agrega en el campo\n",
      "ID de Empleado: 1030547774 - encontrado el: xvargas\n",
      "314 es digito y se agrega en el campo\n",
      "1075262699 es digito y se agrega en el campo\n",
      "ID de Empleado: 1075262699 - encontrado el: raordonez\n",
      "1136911310 es digito y se agrega en el campo\n",
      "ID de Empleado: 1136911310 - encontrado el: fbecker\n",
      "1136911310 es digito y se agrega en el campo\n",
      "ID de Empleado: 1136911310 - encontrado el: fbecker\n",
      "1136911310 es digito y se agrega en el campo\n",
      "ID de Empleado: 1136911310 - encontrado el: fbecker\n",
      "1136911310 es digito y se agrega en el campo\n",
      "ID de Empleado: 1136911310 - encontrado el: fbecker\n",
      "1136911310 es digito y se agrega en el campo\n",
      "ID de Empleado: 1136911310 - encontrado el: fbecker\n",
      "1136911310 es digito y se agrega en el campo\n",
      "ID de Empleado: 1136911310 - encontrado el: fbecker\n",
      "1136911310 es digito y se agrega en el campo\n",
      "ID de Empleado: 1136911310 - encontrado el: fbecker\n",
      "1136911310 es digito y se agrega en el campo\n",
      "ID de Empleado: 1136911310 - encontrado el: fbecker\n",
      "1136911310 es digito y se agrega en el campo\n",
      "ID de Empleado: 1136911310 - encontrado el: fbecker\n",
      "1136911310 es digito y se agrega en el campo\n",
      "ID de Empleado: 1136911310 - encontrado el: fbecker\n",
      "1136911310 es digito y se agrega en el campo\n",
      "ID de Empleado: 1136911310 - encontrado el: fbecker\n",
      "1136911310 es digito y se agrega en el campo\n",
      "ID de Empleado: 1136911310 - encontrado el: fbecker\n",
      "1136911310 es digito y se agrega en el campo\n",
      "ID de Empleado: 1136911310 - encontrado el: fbecker\n",
      "1136911310 es digito y se agrega en el campo\n",
      "ID de Empleado: 1136911310 - encontrado el: fbecker\n",
      "1110553814 es digito y se agrega en el campo\n",
      "1110553814 es digito y se agrega en el campo\n",
      "1110553814 es digito y se agrega en el campo\n",
      "1110553814 es digito y se agrega en el campo\n",
      "1110553814 es digito y se agrega en el campo\n",
      "2024-05-29 10:01:13.471312\n"
     ]
    }
   ],
   "source": [
    "#CICLO CON LDAP AD FINAGRO.LOC\n",
    "#Ciclo para llenar los valores de username a traves de los numeros de cedula y LDAP que quedaron en la columna username_ufinal\n",
    "#pues no todos se pudieron procesar a traves de la consulta de base de datos de nomina (kactus)\n",
    "print(datetime.now())\n",
    "for i, fila, in discovery.iterrows():\n",
    "    if discovery1.loc[i , 'username_ufinal'].isdigit():\n",
    "        #print(discovery1.loc[i, 'username_ufinal'],\"es digito y se agrega en el campo\")\n",
    "        #enviar las consultas con un argumento a la funcion de LDAP\n",
    "        discovery1.loc[i, 'username_ufinal'] = convertirCedula(discovery1.loc[i, 'username_ufinal'])\n",
    "        \n",
    "        \n",
    "    \n",
    "\n",
    "print(datetime.now())"
   ]
  },
  {
   "cell_type": "code",
   "execution_count": 18,
   "id": "d3d4dc8f-7191-48df-a37e-b785cf2f0775",
   "metadata": {},
   "outputs": [
    {
     "data": {
      "text/plain": [
       "tipo_de_caso             0\n",
       "origen_caso              0\n",
       "proyecto                 0\n",
       "numero_caso              0\n",
       "servicio                 0\n",
       "responsable              1\n",
       "username_resp            0\n",
       "usuariofinal          1696\n",
       "username_ufinal          0\n",
       "fecha_creacion           0\n",
       "fecha_atencion           0\n",
       "fecha_solucion           0\n",
       "tiempoTranscurrido       0\n",
       "CUMPLE_ANS               0\n",
       "dtype: int64"
      ]
     },
     "execution_count": 18,
     "metadata": {},
     "output_type": "execute_result"
    }
   ],
   "source": [
    "#validación de nulos restants\n",
    "discovery1.isnull().sum()"
   ]
  },
  {
   "cell_type": "code",
   "execution_count": 19,
   "id": "c1f4d3f9-a2fd-49c2-a31f-80617da2868a",
   "metadata": {},
   "outputs": [],
   "source": [
    "#Eliminacion de algunos username que quedaron con el correo, aplicando funcion split para quitar del @ en adelante\n",
    "discovery1['username_ufinal'] = discovery1['username_ufinal'].str.split('@').str[0]"
   ]
  },
  {
   "cell_type": "code",
   "execution_count": 20,
   "id": "730387e9-bbfc-4be1-967b-273d4ada51d7",
   "metadata": {},
   "outputs": [],
   "source": [
    "#impresion provisional en excel para validar información del dataframe\n",
    "discovery1.to_excel('provisional.xlsx')"
   ]
  },
  {
   "cell_type": "code",
   "execution_count": 21,
   "id": "1eb55886-f73a-475c-be74-22c81ad2b9ad",
   "metadata": {},
   "outputs": [
    {
     "name": "stdout",
     "output_type": "stream",
     "text": [
      "Se resuelven las inconsistencias de los usuarios restantes mediante tabla maestra kactus\n"
     ]
    }
   ],
   "source": [
    "#Ciclo para completar nombre y apellidos (reales segun LDAP) con los datos del dataframe kactus\n",
    "for i, fila, in discovery1.iterrows():\n",
    "     \n",
    "    if pd.isna(discovery1.loc[i , 'usuariofinal']):\n",
    "        #print(f\"{discovery1.loc[i , 'username_ufinal']} nombre de usuario vacio, se resuelve inconsistencia\")\n",
    "        for j, fila, in kactus.iterrows():\n",
    "            if kactus.loc[j,'username'].lower() == discovery1.loc[i , 'username_ufinal'].lower():\n",
    "                valor = kactus.loc[j, 'NombreCompleto']\n",
    "                discovery1.loc[i , 'usuariofinal'] = valor              \n",
    "                \n",
    "print(\"Se resuelven las inconsistencias de los usuarios restantes mediante tabla maestra kactus\")"
   ]
  },
  {
   "cell_type": "code",
   "execution_count": 22,
   "id": "f26a6a4d-f364-4c72-8d8e-b8af1a6b3f9b",
   "metadata": {},
   "outputs": [
    {
     "data": {
      "text/html": [
       "<div>\n",
       "<style scoped>\n",
       "    .dataframe tbody tr th:only-of-type {\n",
       "        vertical-align: middle;\n",
       "    }\n",
       "\n",
       "    .dataframe tbody tr th {\n",
       "        vertical-align: top;\n",
       "    }\n",
       "\n",
       "    .dataframe thead th {\n",
       "        text-align: right;\n",
       "    }\n",
       "</style>\n",
       "<table border=\"1\" class=\"dataframe\">\n",
       "  <thead>\n",
       "    <tr style=\"text-align: right;\">\n",
       "      <th></th>\n",
       "      <th>tipo_de_caso</th>\n",
       "      <th>origen_caso</th>\n",
       "      <th>proyecto</th>\n",
       "      <th>numero_caso</th>\n",
       "      <th>servicio</th>\n",
       "      <th>responsable</th>\n",
       "      <th>username_resp</th>\n",
       "      <th>usuariofinal</th>\n",
       "      <th>username_ufinal</th>\n",
       "      <th>fecha_creacion</th>\n",
       "      <th>fecha_atencion</th>\n",
       "      <th>fecha_solucion</th>\n",
       "      <th>tiempoTranscurrido</th>\n",
       "      <th>CUMPLE_ANS</th>\n",
       "    </tr>\n",
       "  </thead>\n",
       "  <tbody>\n",
       "    <tr>\n",
       "      <th>0</th>\n",
       "      <td>REQUERIMIENTO</td>\n",
       "      <td>Discovery</td>\n",
       "      <td>Soporte</td>\n",
       "      <td>56060</td>\n",
       "      <td>APLICATIVO BUZON SEGURO</td>\n",
       "      <td>CAROLINE PAEZ CHINONES</td>\n",
       "      <td>CPAEZ</td>\n",
       "      <td>SANDRA PATRICIA CASTILLO RAMIREZ</td>\n",
       "      <td>SCASTILLO</td>\n",
       "      <td>2024-04-22 15:31:15</td>\n",
       "      <td>2024-05-02 11:58:25</td>\n",
       "      <td>2024-05-02 11:58:46</td>\n",
       "      <td>3574</td>\n",
       "      <td>SI</td>\n",
       "    </tr>\n",
       "    <tr>\n",
       "      <th>1</th>\n",
       "      <td>INCIDENTE</td>\n",
       "      <td>Discovery</td>\n",
       "      <td>Soporte</td>\n",
       "      <td>56057</td>\n",
       "      <td>APLICATIVOS MICROSOFT OFFICE (EXCEL - ACCESS -...</td>\n",
       "      <td>JESUS MARTIN QUINTERO</td>\n",
       "      <td>MQUINTERO</td>\n",
       "      <td>VLADIMIR ALONSO BARAHONA PALACIOS</td>\n",
       "      <td>vbarahona</td>\n",
       "      <td>2024-03-20 15:47:39</td>\n",
       "      <td>2024-03-21 10:04:03</td>\n",
       "      <td>2024-03-21 11:51:09</td>\n",
       "      <td>75</td>\n",
       "      <td>SI</td>\n",
       "    </tr>\n",
       "    <tr>\n",
       "      <th>2</th>\n",
       "      <td>INCIDENTE</td>\n",
       "      <td>Discovery</td>\n",
       "      <td>Soporte</td>\n",
       "      <td>56055</td>\n",
       "      <td>APLICATIVO SARLAFT</td>\n",
       "      <td>YENNIFER ALEJANDRA VARGAS ZABALA</td>\n",
       "      <td>YAVARGAS</td>\n",
       "      <td>GUILLERMO GUTIERREZ CRUZ</td>\n",
       "      <td>GGUTIERREZ</td>\n",
       "      <td>2024-03-20 07:50:04</td>\n",
       "      <td>2024-03-20 08:22:48</td>\n",
       "      <td>2024-03-20 08:56:38</td>\n",
       "      <td>56</td>\n",
       "      <td>SI</td>\n",
       "    </tr>\n",
       "    <tr>\n",
       "      <th>3</th>\n",
       "      <td>INCIDENTE</td>\n",
       "      <td>Discovery</td>\n",
       "      <td>Soporte</td>\n",
       "      <td>56054</td>\n",
       "      <td>APLICATIVO SARLAFT</td>\n",
       "      <td>YENNIFER ALEJANDRA VARGAS ZABALA</td>\n",
       "      <td>YAVARGAS</td>\n",
       "      <td>GUILLERMO GUTIERREZ CRUZ</td>\n",
       "      <td>GGUTIERREZ</td>\n",
       "      <td>2024-03-18 14:05:53</td>\n",
       "      <td>2024-03-19 15:20:27</td>\n",
       "      <td>2024-03-20 07:34:45</td>\n",
       "      <td>717</td>\n",
       "      <td>SI</td>\n",
       "    </tr>\n",
       "    <tr>\n",
       "      <th>4</th>\n",
       "      <td>INCIDENTE</td>\n",
       "      <td>Discovery</td>\n",
       "      <td>Soporte</td>\n",
       "      <td>56053</td>\n",
       "      <td>APLICATIVO SARLAFT</td>\n",
       "      <td>YENNIFER ALEJANDRA VARGAS ZABALA</td>\n",
       "      <td>YAVARGAS</td>\n",
       "      <td>GUILLERMO GUTIERREZ CRUZ</td>\n",
       "      <td>GGUTIERREZ</td>\n",
       "      <td>2024-03-18 14:05:49</td>\n",
       "      <td>2024-03-19 15:11:22</td>\n",
       "      <td>2024-03-20 07:34:12</td>\n",
       "      <td>717</td>\n",
       "      <td>SI</td>\n",
       "    </tr>\n",
       "    <tr>\n",
       "      <th>5</th>\n",
       "      <td>REQUERIMIENTO</td>\n",
       "      <td>Discovery</td>\n",
       "      <td>Soporte</td>\n",
       "      <td>56052</td>\n",
       "      <td>APLICATIVO BUZON SEGURO</td>\n",
       "      <td>JESUS MARTIN QUINTERO</td>\n",
       "      <td>MQUINTERO</td>\n",
       "      <td>SANDRA PATRICIA CASTILLO RAMIREZ</td>\n",
       "      <td>SCASTILLO</td>\n",
       "      <td>2024-03-13 14:30:40</td>\n",
       "      <td>2024-03-21 07:08:00</td>\n",
       "      <td>2024-03-21 07:26:38</td>\n",
       "      <td>2856</td>\n",
       "      <td>SI</td>\n",
       "    </tr>\n",
       "    <tr>\n",
       "      <th>6</th>\n",
       "      <td>REQUERIMIENTO</td>\n",
       "      <td>Discovery</td>\n",
       "      <td>Soporte</td>\n",
       "      <td>56051</td>\n",
       "      <td>APLICATIVO KACTUS</td>\n",
       "      <td>GILBERTO SEGURA VILLA</td>\n",
       "      <td>GSEGURA</td>\n",
       "      <td>LUIS FRANCISCO VEGA GALVIS</td>\n",
       "      <td>LVEGA</td>\n",
       "      <td>2024-03-13 13:39:08</td>\n",
       "      <td>2024-04-11 09:49:40</td>\n",
       "      <td>2024-04-11 09:50:02</td>\n",
       "      <td>9578</td>\n",
       "      <td>NO</td>\n",
       "    </tr>\n",
       "    <tr>\n",
       "      <th>7</th>\n",
       "      <td>INCIDENTE</td>\n",
       "      <td>Discovery</td>\n",
       "      <td>Soporte</td>\n",
       "      <td>56050</td>\n",
       "      <td>APLICATIVOS MICROSOFT OFFICE (EXCEL - ACCESS -...</td>\n",
       "      <td>JESUS MARTIN QUINTERO</td>\n",
       "      <td>MQUINTERO</td>\n",
       "      <td>MAURICIO AUGUSTO BERRIO GRACIA</td>\n",
       "      <td>MBERRIO</td>\n",
       "      <td>2024-03-12 18:10:15</td>\n",
       "      <td>2024-03-21 07:06:25</td>\n",
       "      <td>2024-03-21 07:06:53</td>\n",
       "      <td>3246</td>\n",
       "      <td>SI</td>\n",
       "    </tr>\n",
       "    <tr>\n",
       "      <th>8</th>\n",
       "      <td>REQUERIMIENTO</td>\n",
       "      <td>Discovery</td>\n",
       "      <td>Soporte</td>\n",
       "      <td>56049</td>\n",
       "      <td>APLICATIVO SARLAFT</td>\n",
       "      <td>YENNIFER ALEJANDRA VARGAS ZABALA</td>\n",
       "      <td>YAVARGAS</td>\n",
       "      <td>OLGA CONSUELO GARZON PARRA</td>\n",
       "      <td>OGARZON</td>\n",
       "      <td>2024-03-11 17:23:03</td>\n",
       "      <td>2024-03-12 06:58:26</td>\n",
       "      <td>2024-03-12 09:20:38</td>\n",
       "      <td>79</td>\n",
       "      <td>SI</td>\n",
       "    </tr>\n",
       "    <tr>\n",
       "      <th>9</th>\n",
       "      <td>REQUERIMIENTO</td>\n",
       "      <td>Discovery</td>\n",
       "      <td>Soporte</td>\n",
       "      <td>56048</td>\n",
       "      <td>APLICATIVO SARLAFT</td>\n",
       "      <td>YENNIFER ALEJANDRA VARGAS ZABALA</td>\n",
       "      <td>YAVARGAS</td>\n",
       "      <td>OLGA CONSUELO GARZON PARRA</td>\n",
       "      <td>OGARZON</td>\n",
       "      <td>2024-03-11 17:17:20</td>\n",
       "      <td>2024-03-12 06:57:26</td>\n",
       "      <td>2024-03-12 09:19:53</td>\n",
       "      <td>78</td>\n",
       "      <td>SI</td>\n",
       "    </tr>\n",
       "    <tr>\n",
       "      <th>10</th>\n",
       "      <td>INCIDENTE</td>\n",
       "      <td>Discovery</td>\n",
       "      <td>Soporte</td>\n",
       "      <td>56047</td>\n",
       "      <td>APLICATIVO SARLAFT</td>\n",
       "      <td>YENNIFER ALEJANDRA VARGAS ZABALA</td>\n",
       "      <td>YAVARGAS</td>\n",
       "      <td>GUILLERMO GUTIERREZ CRUZ</td>\n",
       "      <td>GGUTIERREZ</td>\n",
       "      <td>2024-03-11 14:15:23</td>\n",
       "      <td>2024-03-11 14:15:40</td>\n",
       "      <td>2024-03-11 16:20:23</td>\n",
       "      <td>124</td>\n",
       "      <td>SI</td>\n",
       "    </tr>\n",
       "    <tr>\n",
       "      <th>11</th>\n",
       "      <td>INCIDENTE</td>\n",
       "      <td>Discovery</td>\n",
       "      <td>Soporte</td>\n",
       "      <td>56046</td>\n",
       "      <td>APLICATIVO SARLAFT</td>\n",
       "      <td>YENNIFER ALEJANDRA VARGAS ZABALA</td>\n",
       "      <td>YAVARGAS</td>\n",
       "      <td>GUILLERMO GUTIERREZ CRUZ</td>\n",
       "      <td>GGUTIERREZ</td>\n",
       "      <td>2024-03-11 14:10:30</td>\n",
       "      <td>2024-03-11 14:12:55</td>\n",
       "      <td>2024-03-11 16:09:42</td>\n",
       "      <td>118</td>\n",
       "      <td>SI</td>\n",
       "    </tr>\n",
       "    <tr>\n",
       "      <th>12</th>\n",
       "      <td>INCIDENTE</td>\n",
       "      <td>Discovery</td>\n",
       "      <td>Soporte</td>\n",
       "      <td>56045</td>\n",
       "      <td>APLICATIVO SARLAFT</td>\n",
       "      <td>YENNIFER ALEJANDRA VARGAS ZABALA</td>\n",
       "      <td>YAVARGAS</td>\n",
       "      <td>GUILLERMO GUTIERREZ CRUZ</td>\n",
       "      <td>GGUTIERREZ</td>\n",
       "      <td>2024-03-11 14:05:24</td>\n",
       "      <td>2024-03-11 14:06:30</td>\n",
       "      <td>2024-03-11 16:08:44</td>\n",
       "      <td>122</td>\n",
       "      <td>SI</td>\n",
       "    </tr>\n",
       "    <tr>\n",
       "      <th>13</th>\n",
       "      <td>REQUERIMIENTO</td>\n",
       "      <td>Discovery</td>\n",
       "      <td>Soporte</td>\n",
       "      <td>56044</td>\n",
       "      <td>APLICATIVO SARLAFT</td>\n",
       "      <td>YENNIFER ALEJANDRA VARGAS ZABALA</td>\n",
       "      <td>YAVARGAS</td>\n",
       "      <td>OLGA CONSUELO GARZON PARRA</td>\n",
       "      <td>OGARZON</td>\n",
       "      <td>2024-03-08 13:19:33</td>\n",
       "      <td>2024-03-08 15:24:14</td>\n",
       "      <td>2024-03-08 16:32:25</td>\n",
       "      <td>218</td>\n",
       "      <td>SI</td>\n",
       "    </tr>\n",
       "    <tr>\n",
       "      <th>14</th>\n",
       "      <td>REQUERIMIENTO</td>\n",
       "      <td>Discovery</td>\n",
       "      <td>Soporte</td>\n",
       "      <td>56043</td>\n",
       "      <td>APLICATIVO SARLAFT</td>\n",
       "      <td>YENNIFER ALEJANDRA VARGAS ZABALA</td>\n",
       "      <td>YAVARGAS</td>\n",
       "      <td>OLGA CONSUELO GARZON PARRA</td>\n",
       "      <td>OGARZON</td>\n",
       "      <td>2024-03-08 13:15:27</td>\n",
       "      <td>2024-03-08 15:23:54</td>\n",
       "      <td>2024-03-08 16:30:33</td>\n",
       "      <td>221</td>\n",
       "      <td>SI</td>\n",
       "    </tr>\n",
       "    <tr>\n",
       "      <th>15</th>\n",
       "      <td>REQUERIMIENTO</td>\n",
       "      <td>Discovery</td>\n",
       "      <td>Soporte</td>\n",
       "      <td>56042</td>\n",
       "      <td>APLICATIVO SARLAFT</td>\n",
       "      <td>YENNIFER ALEJANDRA VARGAS ZABALA</td>\n",
       "      <td>YAVARGAS</td>\n",
       "      <td>OLGA CONSUELO GARZON PARRA</td>\n",
       "      <td>OGARZON</td>\n",
       "      <td>2024-03-08 13:15:19</td>\n",
       "      <td>2024-03-08 14:49:49</td>\n",
       "      <td>2024-03-08 16:30:13</td>\n",
       "      <td>221</td>\n",
       "      <td>SI</td>\n",
       "    </tr>\n",
       "    <tr>\n",
       "      <th>16</th>\n",
       "      <td>REQUERIMIENTO</td>\n",
       "      <td>Discovery</td>\n",
       "      <td>Soporte</td>\n",
       "      <td>56041</td>\n",
       "      <td>APLICATIVO SARLAFT</td>\n",
       "      <td>YENNIFER ALEJANDRA VARGAS ZABALA</td>\n",
       "      <td>YAVARGAS</td>\n",
       "      <td>OLGA CONSUELO GARZON PARRA</td>\n",
       "      <td>OGARZON</td>\n",
       "      <td>2024-03-08 13:11:10</td>\n",
       "      <td>2024-03-08 13:57:49</td>\n",
       "      <td>2024-03-08 14:22:54</td>\n",
       "      <td>81</td>\n",
       "      <td>SI</td>\n",
       "    </tr>\n",
       "    <tr>\n",
       "      <th>17</th>\n",
       "      <td>INCIDENTE</td>\n",
       "      <td>Discovery</td>\n",
       "      <td>Soporte</td>\n",
       "      <td>56040</td>\n",
       "      <td>APLICATIVO BODEGA DE DATOS</td>\n",
       "      <td>CAROLINE PAEZ CHINONES</td>\n",
       "      <td>CPAEZ</td>\n",
       "      <td>SANDRA PATRICIA CASTILLO RAMIREZ</td>\n",
       "      <td>SCASTILLO</td>\n",
       "      <td>2024-03-08 10:33:13</td>\n",
       "      <td>2024-03-19 14:57:11</td>\n",
       "      <td>2024-03-19 14:57:19</td>\n",
       "      <td>4102</td>\n",
       "      <td>NO</td>\n",
       "    </tr>\n",
       "    <tr>\n",
       "      <th>18</th>\n",
       "      <td>REQUERIMIENTO</td>\n",
       "      <td>Discovery</td>\n",
       "      <td>Soporte</td>\n",
       "      <td>56039</td>\n",
       "      <td>APLICATIVO SARLAFT</td>\n",
       "      <td>YENNIFER ALEJANDRA VARGAS ZABALA</td>\n",
       "      <td>YAVARGAS</td>\n",
       "      <td>OLGA CONSUELO GARZON PARRA</td>\n",
       "      <td>OGARZON</td>\n",
       "      <td>2024-03-06 16:21:50</td>\n",
       "      <td>2024-03-06 16:22:14</td>\n",
       "      <td>2024-03-07 16:31:17</td>\n",
       "      <td>550</td>\n",
       "      <td>SI</td>\n",
       "    </tr>\n",
       "    <tr>\n",
       "      <th>19</th>\n",
       "      <td>REQUERIMIENTO</td>\n",
       "      <td>Discovery</td>\n",
       "      <td>Soporte</td>\n",
       "      <td>56038</td>\n",
       "      <td>APLICATIVO SARLAFT</td>\n",
       "      <td>YENNIFER ALEJANDRA VARGAS ZABALA</td>\n",
       "      <td>YAVARGAS</td>\n",
       "      <td>OLGA CONSUELO GARZON PARRA</td>\n",
       "      <td>OGARZON</td>\n",
       "      <td>2024-03-06 15:21:35</td>\n",
       "      <td>2024-03-06 15:54:29</td>\n",
       "      <td>2024-03-06 16:04:23</td>\n",
       "      <td>42</td>\n",
       "      <td>SI</td>\n",
       "    </tr>\n",
       "    <tr>\n",
       "      <th>20</th>\n",
       "      <td>REQUERIMIENTO</td>\n",
       "      <td>Discovery</td>\n",
       "      <td>Soporte</td>\n",
       "      <td>56037</td>\n",
       "      <td>APLICATIVO SARLAFT</td>\n",
       "      <td>YENNIFER ALEJANDRA VARGAS ZABALA</td>\n",
       "      <td>YAVARGAS</td>\n",
       "      <td>OLGA CONSUELO GARZON PARRA</td>\n",
       "      <td>OGARZON</td>\n",
       "      <td>2024-03-06 10:54:10</td>\n",
       "      <td>2024-03-06 10:55:43</td>\n",
       "      <td>2024-03-06 11:48:05</td>\n",
       "      <td>53</td>\n",
       "      <td>SI</td>\n",
       "    </tr>\n",
       "    <tr>\n",
       "      <th>21</th>\n",
       "      <td>INCIDENTE</td>\n",
       "      <td>Discovery</td>\n",
       "      <td>Soporte</td>\n",
       "      <td>56036</td>\n",
       "      <td>INCIDENTES DE RED</td>\n",
       "      <td>RICARDO FRANCISCO QUINTERO</td>\n",
       "      <td>RFORTIZ</td>\n",
       "      <td>ANDRES FELIPE AREVALO AREVALO</td>\n",
       "      <td>AFAREVALO</td>\n",
       "      <td>2024-03-05 14:06:51</td>\n",
       "      <td>2024-03-05 15:47:48</td>\n",
       "      <td>2024-03-05 15:48:31</td>\n",
       "      <td>101</td>\n",
       "      <td>SI</td>\n",
       "    </tr>\n",
       "    <tr>\n",
       "      <th>22</th>\n",
       "      <td>INCIDENTE</td>\n",
       "      <td>Discovery</td>\n",
       "      <td>Soporte</td>\n",
       "      <td>56035</td>\n",
       "      <td>PLANTA TELEFONICA Y TELEFONOS</td>\n",
       "      <td>JESUS MARTIN QUINTERO</td>\n",
       "      <td>MQUINTERO</td>\n",
       "      <td>VLADIMIR ALONSO BARAHONA PALACIOS</td>\n",
       "      <td>vbarahona</td>\n",
       "      <td>2024-03-05 14:02:55</td>\n",
       "      <td>2024-03-05 14:31:48</td>\n",
       "      <td>2024-03-05 14:32:10</td>\n",
       "      <td>29</td>\n",
       "      <td>SI</td>\n",
       "    </tr>\n",
       "    <tr>\n",
       "      <th>23</th>\n",
       "      <td>REQUERIMIENTO</td>\n",
       "      <td>Discovery</td>\n",
       "      <td>Soporte</td>\n",
       "      <td>56034</td>\n",
       "      <td>APLICATIVO SARLAFT</td>\n",
       "      <td>YENNIFER ALEJANDRA VARGAS ZABALA</td>\n",
       "      <td>YAVARGAS</td>\n",
       "      <td>OLGA CONSUELO GARZON PARRA</td>\n",
       "      <td>OGARZON</td>\n",
       "      <td>2024-03-01 16:36:25</td>\n",
       "      <td>2024-03-04 07:27:57</td>\n",
       "      <td>2024-03-04 07:55:22</td>\n",
       "      <td>25</td>\n",
       "      <td>SI</td>\n",
       "    </tr>\n",
       "    <tr>\n",
       "      <th>24</th>\n",
       "      <td>REQUERIMIENTO</td>\n",
       "      <td>Discovery</td>\n",
       "      <td>Soporte</td>\n",
       "      <td>56033</td>\n",
       "      <td>APLICATIVO ALFCOM</td>\n",
       "      <td>HAROLD ADOLFO MENDOZA AVENDAÑO</td>\n",
       "      <td>HAMENDOZA</td>\n",
       "      <td>MARIA CLAUDIA ASMAR GOMEZ</td>\n",
       "      <td>MASMAR</td>\n",
       "      <td>2024-03-01 15:00:08</td>\n",
       "      <td>2024-03-07 14:46:43</td>\n",
       "      <td>2024-03-07 14:46:51</td>\n",
       "      <td>2149</td>\n",
       "      <td>NO</td>\n",
       "    </tr>\n",
       "    <tr>\n",
       "      <th>25</th>\n",
       "      <td>INCIDENTE</td>\n",
       "      <td>Discovery</td>\n",
       "      <td>Soporte</td>\n",
       "      <td>56032</td>\n",
       "      <td>INCIDENTES DE RED</td>\n",
       "      <td>YESID ALEJANDRO ORTIZ PANTOJA</td>\n",
       "      <td>YAMARTINEZ</td>\n",
       "      <td>VLADIMIR ALONSO BARAHONA PALACIOS</td>\n",
       "      <td>vbarahona</td>\n",
       "      <td>2024-03-01 11:03:49</td>\n",
       "      <td>2024-03-01 11:40:45</td>\n",
       "      <td>2024-03-04 07:59:56</td>\n",
       "      <td>110</td>\n",
       "      <td>SI</td>\n",
       "    </tr>\n",
       "    <tr>\n",
       "      <th>26</th>\n",
       "      <td>REQUERIMIENTO</td>\n",
       "      <td>Discovery</td>\n",
       "      <td>Soporte</td>\n",
       "      <td>56031</td>\n",
       "      <td>APLICATIVO SARLAFT</td>\n",
       "      <td>YENNIFER ALEJANDRA VARGAS ZABALA</td>\n",
       "      <td>YAVARGAS</td>\n",
       "      <td>OLGA CONSUELO GARZON PARRA</td>\n",
       "      <td>OGARZON</td>\n",
       "      <td>2024-03-01 10:54:41</td>\n",
       "      <td>2024-03-01 10:55:22</td>\n",
       "      <td>2024-03-01 15:12:21</td>\n",
       "      <td>257</td>\n",
       "      <td>SI</td>\n",
       "    </tr>\n",
       "    <tr>\n",
       "      <th>27</th>\n",
       "      <td>INCIDENTE</td>\n",
       "      <td>Discovery</td>\n",
       "      <td>Soporte</td>\n",
       "      <td>56030</td>\n",
       "      <td>APLICATIVO FAG (SERVICIOS)</td>\n",
       "      <td>HAROLD ADOLFO MENDOZA AVENDAÑO</td>\n",
       "      <td>HAMENDOZA</td>\n",
       "      <td>JENNY MARCELA GARCIA CAMELO</td>\n",
       "      <td>JMGARCIA</td>\n",
       "      <td>2024-03-01 08:37:00</td>\n",
       "      <td>2024-03-05 15:32:48</td>\n",
       "      <td>2024-03-05 15:33:03</td>\n",
       "      <td>1497</td>\n",
       "      <td>NO</td>\n",
       "    </tr>\n",
       "    <tr>\n",
       "      <th>28</th>\n",
       "      <td>INCIDENTE</td>\n",
       "      <td>Discovery</td>\n",
       "      <td>Soporte</td>\n",
       "      <td>56029</td>\n",
       "      <td>APLICATIVO BUZON SEGURO</td>\n",
       "      <td>JESUS MARTIN QUINTERO</td>\n",
       "      <td>MQUINTERO</td>\n",
       "      <td>SANDRA PATRICIA CASTILLO RAMIREZ</td>\n",
       "      <td>SCASTILLO</td>\n",
       "      <td>2024-02-29 15:33:32</td>\n",
       "      <td>2024-02-29 18:31:51</td>\n",
       "      <td>2024-02-29 18:37:56</td>\n",
       "      <td>88</td>\n",
       "      <td>SI</td>\n",
       "    </tr>\n",
       "    <tr>\n",
       "      <th>29</th>\n",
       "      <td>REQUERIMIENTO</td>\n",
       "      <td>Discovery</td>\n",
       "      <td>Soporte</td>\n",
       "      <td>56028</td>\n",
       "      <td>CARPETAS COMPARTIDAS</td>\n",
       "      <td>JESUS MARTIN SEGURA VILLA</td>\n",
       "      <td>MQUINTERO</td>\n",
       "      <td>None</td>\n",
       "      <td>CBERNAL</td>\n",
       "      <td>2024-02-29 08:48:43</td>\n",
       "      <td>2024-03-01 06:30:21</td>\n",
       "      <td>2024-03-01 06:30:42</td>\n",
       "      <td>493</td>\n",
       "      <td>SI</td>\n",
       "    </tr>\n",
       "    <tr>\n",
       "      <th>30</th>\n",
       "      <td>REQUERIMIENTO</td>\n",
       "      <td>Discovery</td>\n",
       "      <td>Soporte</td>\n",
       "      <td>56027</td>\n",
       "      <td>APLICATIVO INFOAGRO</td>\n",
       "      <td>RICARDO FRANCISCO ORTIZ PANTOJA</td>\n",
       "      <td>RFORTIZ</td>\n",
       "      <td>NUBIA ISABEL DE LA PARRA CARRASCO</td>\n",
       "      <td>nparra</td>\n",
       "      <td>2024-02-29 07:15:21</td>\n",
       "      <td>2024-02-29 11:11:36</td>\n",
       "      <td>2024-02-29 11:12:03</td>\n",
       "      <td>191</td>\n",
       "      <td>SI</td>\n",
       "    </tr>\n",
       "    <tr>\n",
       "      <th>31</th>\n",
       "      <td>REQUERIMIENTO</td>\n",
       "      <td>Discovery</td>\n",
       "      <td>Soporte</td>\n",
       "      <td>56026</td>\n",
       "      <td>APLICATIVO INFOAGRO</td>\n",
       "      <td>RICARDO FRANCISCO ORTIZ PANTOJA</td>\n",
       "      <td>RFORTIZ</td>\n",
       "      <td>NUBIA ISABEL DE LA PARRA CARRASCO</td>\n",
       "      <td>nparra</td>\n",
       "      <td>2024-02-29 07:11:30</td>\n",
       "      <td>2024-02-29 10:15:19</td>\n",
       "      <td>2024-02-29 10:16:29</td>\n",
       "      <td>136</td>\n",
       "      <td>SI</td>\n",
       "    </tr>\n",
       "    <tr>\n",
       "      <th>32</th>\n",
       "      <td>REQUERIMIENTO</td>\n",
       "      <td>Discovery</td>\n",
       "      <td>Soporte</td>\n",
       "      <td>56025</td>\n",
       "      <td>APLICATIVO INFOAGRO</td>\n",
       "      <td>JESUS DANIEL PARDO SERRATO</td>\n",
       "      <td>JDPARDO</td>\n",
       "      <td>NUBIA ISABEL DE LA PARRA CARRASCO</td>\n",
       "      <td>nparra</td>\n",
       "      <td>2024-02-28 15:17:35</td>\n",
       "      <td>2024-02-28 15:17:59</td>\n",
       "      <td>2024-02-28 15:23:39</td>\n",
       "      <td>5</td>\n",
       "      <td>SI</td>\n",
       "    </tr>\n",
       "    <tr>\n",
       "      <th>33</th>\n",
       "      <td>INCIDENTE</td>\n",
       "      <td>Discovery</td>\n",
       "      <td>Soporte</td>\n",
       "      <td>56024</td>\n",
       "      <td>APLICATIVO ISA</td>\n",
       "      <td>YENNIFER ALEJANDRA VARGAS ZABALA</td>\n",
       "      <td>YAVARGAS</td>\n",
       "      <td>MARYLUZ OLARTE CORTES</td>\n",
       "      <td>MOLARTE</td>\n",
       "      <td>2024-02-28 08:41:19</td>\n",
       "      <td>2024-02-28 09:08:14</td>\n",
       "      <td>2024-03-01 10:29:43</td>\n",
       "      <td>1190</td>\n",
       "      <td>SI</td>\n",
       "    </tr>\n",
       "    <tr>\n",
       "      <th>34</th>\n",
       "      <td>REQUERIMIENTO</td>\n",
       "      <td>Discovery</td>\n",
       "      <td>Soporte</td>\n",
       "      <td>56023</td>\n",
       "      <td>APLICATIVO INFOAGRO</td>\n",
       "      <td>RICARDO FRANCISCO PARDO SERRATO</td>\n",
       "      <td>RFORTIZ</td>\n",
       "      <td>NUBIA ISABEL DE LA PARRA CARRASCO</td>\n",
       "      <td>nparra</td>\n",
       "      <td>2024-02-28 07:10:17</td>\n",
       "      <td>2024-02-28 08:06:24</td>\n",
       "      <td>2024-02-28 09:25:02</td>\n",
       "      <td>84</td>\n",
       "      <td>SI</td>\n",
       "    </tr>\n",
       "    <tr>\n",
       "      <th>35</th>\n",
       "      <td>REQUERIMIENTO</td>\n",
       "      <td>Discovery</td>\n",
       "      <td>Soporte</td>\n",
       "      <td>56022</td>\n",
       "      <td>APLICATIVO BUZON SEGURO</td>\n",
       "      <td>YESID ALEJANDRO QUINTERO</td>\n",
       "      <td>YAMARTINEZ</td>\n",
       "      <td>NUBIA ISABEL DE LA PARRA CARRASCO</td>\n",
       "      <td>nparra</td>\n",
       "      <td>2024-02-27 09:15:15</td>\n",
       "      <td>2024-02-27 09:55:13</td>\n",
       "      <td>2024-02-27 09:56:10</td>\n",
       "      <td>40</td>\n",
       "      <td>SI</td>\n",
       "    </tr>\n",
       "    <tr>\n",
       "      <th>36</th>\n",
       "      <td>INCIDENTE</td>\n",
       "      <td>Discovery</td>\n",
       "      <td>Soporte</td>\n",
       "      <td>56021</td>\n",
       "      <td>APLICATIVO SARLAFT</td>\n",
       "      <td>YENNIFER ALEJANDRA VARGAS ZABALA</td>\n",
       "      <td>YAVARGAS</td>\n",
       "      <td>GUILLERMO GUTIERREZ CRUZ</td>\n",
       "      <td>GGUTIERREZ</td>\n",
       "      <td>2024-02-27 07:34:05</td>\n",
       "      <td>2024-02-27 08:05:58</td>\n",
       "      <td>2024-02-27 10:20:29</td>\n",
       "      <td>139</td>\n",
       "      <td>SI</td>\n",
       "    </tr>\n",
       "    <tr>\n",
       "      <th>37</th>\n",
       "      <td>INCIDENTE</td>\n",
       "      <td>Discovery</td>\n",
       "      <td>Soporte</td>\n",
       "      <td>56020</td>\n",
       "      <td>APLICATIVO SARLAFT</td>\n",
       "      <td>YENNIFER ALEJANDRA VARGAS ZABALA</td>\n",
       "      <td>YAVARGAS</td>\n",
       "      <td>GUILLERMO GUTIERREZ CRUZ</td>\n",
       "      <td>GGUTIERREZ</td>\n",
       "      <td>2024-02-27 07:23:28</td>\n",
       "      <td>2024-02-27 08:05:48</td>\n",
       "      <td>2024-02-27 10:19:02</td>\n",
       "      <td>138</td>\n",
       "      <td>SI</td>\n",
       "    </tr>\n",
       "    <tr>\n",
       "      <th>38</th>\n",
       "      <td>INCIDENTE</td>\n",
       "      <td>Discovery</td>\n",
       "      <td>Soporte</td>\n",
       "      <td>56019</td>\n",
       "      <td>APLICATIVO MERCURIO</td>\n",
       "      <td>RICARDO FRANCISCO ORTIZ PANTOJA</td>\n",
       "      <td>RFORTIZ</td>\n",
       "      <td>BELKY YOLIVE ALFONSO CASTAÑEDA</td>\n",
       "      <td>BCASTANEDA</td>\n",
       "      <td>2024-02-23 14:43:11</td>\n",
       "      <td>2024-02-26 08:02:28</td>\n",
       "      <td>2024-02-26 08:02:45</td>\n",
       "      <td>139</td>\n",
       "      <td>SI</td>\n",
       "    </tr>\n",
       "    <tr>\n",
       "      <th>39</th>\n",
       "      <td>INCIDENTE</td>\n",
       "      <td>Discovery</td>\n",
       "      <td>Soporte</td>\n",
       "      <td>56018</td>\n",
       "      <td>APLICATIVO SARLAFT</td>\n",
       "      <td>YENNIFER ALEJANDRA VARGAS ZABALA</td>\n",
       "      <td>YAVARGAS</td>\n",
       "      <td>GUILLERMO GUTIERREZ CRUZ</td>\n",
       "      <td>GGUTIERREZ</td>\n",
       "      <td>2024-02-23 08:11:34</td>\n",
       "      <td>2024-02-23 08:16:47</td>\n",
       "      <td>2024-02-23 08:46:29</td>\n",
       "      <td>34</td>\n",
       "      <td>SI</td>\n",
       "    </tr>\n",
       "    <tr>\n",
       "      <th>40</th>\n",
       "      <td>REQUERIMIENTO</td>\n",
       "      <td>Discovery</td>\n",
       "      <td>Soporte</td>\n",
       "      <td>56017</td>\n",
       "      <td>APLICATIVO SARLAFT</td>\n",
       "      <td>YENNIFER ALEJANDRA VARGAS ZABALA</td>\n",
       "      <td>YAVARGAS</td>\n",
       "      <td>OLGA CONSUELO GARZON PARRA</td>\n",
       "      <td>OGARZON</td>\n",
       "      <td>2024-02-22 14:27:38</td>\n",
       "      <td>2024-02-22 14:28:48</td>\n",
       "      <td>2024-02-22 14:46:36</td>\n",
       "      <td>18</td>\n",
       "      <td>SI</td>\n",
       "    </tr>\n",
       "    <tr>\n",
       "      <th>41</th>\n",
       "      <td>INCIDENTE</td>\n",
       "      <td>Discovery</td>\n",
       "      <td>Soporte</td>\n",
       "      <td>56016</td>\n",
       "      <td>APLICATIVO BUZON SEGURO</td>\n",
       "      <td>JESUS MARTIN QUINTERO</td>\n",
       "      <td>MQUINTERO</td>\n",
       "      <td>SANDRA PATRICIA CASTILLO RAMIREZ</td>\n",
       "      <td>SCASTILLO</td>\n",
       "      <td>2024-02-22 09:58:36</td>\n",
       "      <td>2024-02-22 11:51:27</td>\n",
       "      <td>2024-02-22 11:52:07</td>\n",
       "      <td>113</td>\n",
       "      <td>SI</td>\n",
       "    </tr>\n",
       "  </tbody>\n",
       "</table>\n",
       "</div>"
      ],
      "text/plain": [
       "     tipo_de_caso origen_caso proyecto  numero_caso  \\\n",
       "0   REQUERIMIENTO   Discovery  Soporte        56060   \n",
       "1       INCIDENTE   Discovery  Soporte        56057   \n",
       "2       INCIDENTE   Discovery  Soporte        56055   \n",
       "3       INCIDENTE   Discovery  Soporte        56054   \n",
       "4       INCIDENTE   Discovery  Soporte        56053   \n",
       "5   REQUERIMIENTO   Discovery  Soporte        56052   \n",
       "6   REQUERIMIENTO   Discovery  Soporte        56051   \n",
       "7       INCIDENTE   Discovery  Soporte        56050   \n",
       "8   REQUERIMIENTO   Discovery  Soporte        56049   \n",
       "9   REQUERIMIENTO   Discovery  Soporte        56048   \n",
       "10      INCIDENTE   Discovery  Soporte        56047   \n",
       "11      INCIDENTE   Discovery  Soporte        56046   \n",
       "12      INCIDENTE   Discovery  Soporte        56045   \n",
       "13  REQUERIMIENTO   Discovery  Soporte        56044   \n",
       "14  REQUERIMIENTO   Discovery  Soporte        56043   \n",
       "15  REQUERIMIENTO   Discovery  Soporte        56042   \n",
       "16  REQUERIMIENTO   Discovery  Soporte        56041   \n",
       "17      INCIDENTE   Discovery  Soporte        56040   \n",
       "18  REQUERIMIENTO   Discovery  Soporte        56039   \n",
       "19  REQUERIMIENTO   Discovery  Soporte        56038   \n",
       "20  REQUERIMIENTO   Discovery  Soporte        56037   \n",
       "21      INCIDENTE   Discovery  Soporte        56036   \n",
       "22      INCIDENTE   Discovery  Soporte        56035   \n",
       "23  REQUERIMIENTO   Discovery  Soporte        56034   \n",
       "24  REQUERIMIENTO   Discovery  Soporte        56033   \n",
       "25      INCIDENTE   Discovery  Soporte        56032   \n",
       "26  REQUERIMIENTO   Discovery  Soporte        56031   \n",
       "27      INCIDENTE   Discovery  Soporte        56030   \n",
       "28      INCIDENTE   Discovery  Soporte        56029   \n",
       "29  REQUERIMIENTO   Discovery  Soporte        56028   \n",
       "30  REQUERIMIENTO   Discovery  Soporte        56027   \n",
       "31  REQUERIMIENTO   Discovery  Soporte        56026   \n",
       "32  REQUERIMIENTO   Discovery  Soporte        56025   \n",
       "33      INCIDENTE   Discovery  Soporte        56024   \n",
       "34  REQUERIMIENTO   Discovery  Soporte        56023   \n",
       "35  REQUERIMIENTO   Discovery  Soporte        56022   \n",
       "36      INCIDENTE   Discovery  Soporte        56021   \n",
       "37      INCIDENTE   Discovery  Soporte        56020   \n",
       "38      INCIDENTE   Discovery  Soporte        56019   \n",
       "39      INCIDENTE   Discovery  Soporte        56018   \n",
       "40  REQUERIMIENTO   Discovery  Soporte        56017   \n",
       "41      INCIDENTE   Discovery  Soporte        56016   \n",
       "\n",
       "                                             servicio  \\\n",
       "0                             APLICATIVO BUZON SEGURO   \n",
       "1   APLICATIVOS MICROSOFT OFFICE (EXCEL - ACCESS -...   \n",
       "2                                  APLICATIVO SARLAFT   \n",
       "3                                  APLICATIVO SARLAFT   \n",
       "4                                  APLICATIVO SARLAFT   \n",
       "5                             APLICATIVO BUZON SEGURO   \n",
       "6                                   APLICATIVO KACTUS   \n",
       "7   APLICATIVOS MICROSOFT OFFICE (EXCEL - ACCESS -...   \n",
       "8                                  APLICATIVO SARLAFT   \n",
       "9                                  APLICATIVO SARLAFT   \n",
       "10                                 APLICATIVO SARLAFT   \n",
       "11                                 APLICATIVO SARLAFT   \n",
       "12                                 APLICATIVO SARLAFT   \n",
       "13                                 APLICATIVO SARLAFT   \n",
       "14                                 APLICATIVO SARLAFT   \n",
       "15                                 APLICATIVO SARLAFT   \n",
       "16                                 APLICATIVO SARLAFT   \n",
       "17                         APLICATIVO BODEGA DE DATOS   \n",
       "18                                 APLICATIVO SARLAFT   \n",
       "19                                 APLICATIVO SARLAFT   \n",
       "20                                 APLICATIVO SARLAFT   \n",
       "21                                  INCIDENTES DE RED   \n",
       "22                      PLANTA TELEFONICA Y TELEFONOS   \n",
       "23                                 APLICATIVO SARLAFT   \n",
       "24                                  APLICATIVO ALFCOM   \n",
       "25                                  INCIDENTES DE RED   \n",
       "26                                 APLICATIVO SARLAFT   \n",
       "27                         APLICATIVO FAG (SERVICIOS)   \n",
       "28                            APLICATIVO BUZON SEGURO   \n",
       "29                               CARPETAS COMPARTIDAS   \n",
       "30                                APLICATIVO INFOAGRO   \n",
       "31                                APLICATIVO INFOAGRO   \n",
       "32                                APLICATIVO INFOAGRO   \n",
       "33                                     APLICATIVO ISA   \n",
       "34                                APLICATIVO INFOAGRO   \n",
       "35                            APLICATIVO BUZON SEGURO   \n",
       "36                                 APLICATIVO SARLAFT   \n",
       "37                                 APLICATIVO SARLAFT   \n",
       "38                                APLICATIVO MERCURIO   \n",
       "39                                 APLICATIVO SARLAFT   \n",
       "40                                 APLICATIVO SARLAFT   \n",
       "41                            APLICATIVO BUZON SEGURO   \n",
       "\n",
       "                         responsable username_resp  \\\n",
       "0             CAROLINE PAEZ CHINONES         CPAEZ   \n",
       "1              JESUS MARTIN QUINTERO     MQUINTERO   \n",
       "2   YENNIFER ALEJANDRA VARGAS ZABALA      YAVARGAS   \n",
       "3   YENNIFER ALEJANDRA VARGAS ZABALA      YAVARGAS   \n",
       "4   YENNIFER ALEJANDRA VARGAS ZABALA      YAVARGAS   \n",
       "5              JESUS MARTIN QUINTERO     MQUINTERO   \n",
       "6              GILBERTO SEGURA VILLA       GSEGURA   \n",
       "7              JESUS MARTIN QUINTERO     MQUINTERO   \n",
       "8   YENNIFER ALEJANDRA VARGAS ZABALA      YAVARGAS   \n",
       "9   YENNIFER ALEJANDRA VARGAS ZABALA      YAVARGAS   \n",
       "10  YENNIFER ALEJANDRA VARGAS ZABALA      YAVARGAS   \n",
       "11  YENNIFER ALEJANDRA VARGAS ZABALA      YAVARGAS   \n",
       "12  YENNIFER ALEJANDRA VARGAS ZABALA      YAVARGAS   \n",
       "13  YENNIFER ALEJANDRA VARGAS ZABALA      YAVARGAS   \n",
       "14  YENNIFER ALEJANDRA VARGAS ZABALA      YAVARGAS   \n",
       "15  YENNIFER ALEJANDRA VARGAS ZABALA      YAVARGAS   \n",
       "16  YENNIFER ALEJANDRA VARGAS ZABALA      YAVARGAS   \n",
       "17            CAROLINE PAEZ CHINONES         CPAEZ   \n",
       "18  YENNIFER ALEJANDRA VARGAS ZABALA      YAVARGAS   \n",
       "19  YENNIFER ALEJANDRA VARGAS ZABALA      YAVARGAS   \n",
       "20  YENNIFER ALEJANDRA VARGAS ZABALA      YAVARGAS   \n",
       "21        RICARDO FRANCISCO QUINTERO       RFORTIZ   \n",
       "22             JESUS MARTIN QUINTERO     MQUINTERO   \n",
       "23  YENNIFER ALEJANDRA VARGAS ZABALA      YAVARGAS   \n",
       "24    HAROLD ADOLFO MENDOZA AVENDAÑO     HAMENDOZA   \n",
       "25     YESID ALEJANDRO ORTIZ PANTOJA    YAMARTINEZ   \n",
       "26  YENNIFER ALEJANDRA VARGAS ZABALA      YAVARGAS   \n",
       "27    HAROLD ADOLFO MENDOZA AVENDAÑO     HAMENDOZA   \n",
       "28             JESUS MARTIN QUINTERO     MQUINTERO   \n",
       "29         JESUS MARTIN SEGURA VILLA     MQUINTERO   \n",
       "30   RICARDO FRANCISCO ORTIZ PANTOJA       RFORTIZ   \n",
       "31   RICARDO FRANCISCO ORTIZ PANTOJA       RFORTIZ   \n",
       "32        JESUS DANIEL PARDO SERRATO       JDPARDO   \n",
       "33  YENNIFER ALEJANDRA VARGAS ZABALA      YAVARGAS   \n",
       "34   RICARDO FRANCISCO PARDO SERRATO       RFORTIZ   \n",
       "35          YESID ALEJANDRO QUINTERO    YAMARTINEZ   \n",
       "36  YENNIFER ALEJANDRA VARGAS ZABALA      YAVARGAS   \n",
       "37  YENNIFER ALEJANDRA VARGAS ZABALA      YAVARGAS   \n",
       "38   RICARDO FRANCISCO ORTIZ PANTOJA       RFORTIZ   \n",
       "39  YENNIFER ALEJANDRA VARGAS ZABALA      YAVARGAS   \n",
       "40  YENNIFER ALEJANDRA VARGAS ZABALA      YAVARGAS   \n",
       "41             JESUS MARTIN QUINTERO     MQUINTERO   \n",
       "\n",
       "                         usuariofinal username_ufinal      fecha_creacion  \\\n",
       "0    SANDRA PATRICIA CASTILLO RAMIREZ       SCASTILLO 2024-04-22 15:31:15   \n",
       "1   VLADIMIR ALONSO BARAHONA PALACIOS       vbarahona 2024-03-20 15:47:39   \n",
       "2            GUILLERMO GUTIERREZ CRUZ      GGUTIERREZ 2024-03-20 07:50:04   \n",
       "3            GUILLERMO GUTIERREZ CRUZ      GGUTIERREZ 2024-03-18 14:05:53   \n",
       "4            GUILLERMO GUTIERREZ CRUZ      GGUTIERREZ 2024-03-18 14:05:49   \n",
       "5    SANDRA PATRICIA CASTILLO RAMIREZ       SCASTILLO 2024-03-13 14:30:40   \n",
       "6          LUIS FRANCISCO VEGA GALVIS           LVEGA 2024-03-13 13:39:08   \n",
       "7      MAURICIO AUGUSTO BERRIO GRACIA         MBERRIO 2024-03-12 18:10:15   \n",
       "8          OLGA CONSUELO GARZON PARRA         OGARZON 2024-03-11 17:23:03   \n",
       "9          OLGA CONSUELO GARZON PARRA         OGARZON 2024-03-11 17:17:20   \n",
       "10           GUILLERMO GUTIERREZ CRUZ      GGUTIERREZ 2024-03-11 14:15:23   \n",
       "11           GUILLERMO GUTIERREZ CRUZ      GGUTIERREZ 2024-03-11 14:10:30   \n",
       "12           GUILLERMO GUTIERREZ CRUZ      GGUTIERREZ 2024-03-11 14:05:24   \n",
       "13         OLGA CONSUELO GARZON PARRA         OGARZON 2024-03-08 13:19:33   \n",
       "14         OLGA CONSUELO GARZON PARRA         OGARZON 2024-03-08 13:15:27   \n",
       "15         OLGA CONSUELO GARZON PARRA         OGARZON 2024-03-08 13:15:19   \n",
       "16         OLGA CONSUELO GARZON PARRA         OGARZON 2024-03-08 13:11:10   \n",
       "17   SANDRA PATRICIA CASTILLO RAMIREZ       SCASTILLO 2024-03-08 10:33:13   \n",
       "18         OLGA CONSUELO GARZON PARRA         OGARZON 2024-03-06 16:21:50   \n",
       "19         OLGA CONSUELO GARZON PARRA         OGARZON 2024-03-06 15:21:35   \n",
       "20         OLGA CONSUELO GARZON PARRA         OGARZON 2024-03-06 10:54:10   \n",
       "21      ANDRES FELIPE AREVALO AREVALO       AFAREVALO 2024-03-05 14:06:51   \n",
       "22  VLADIMIR ALONSO BARAHONA PALACIOS       vbarahona 2024-03-05 14:02:55   \n",
       "23         OLGA CONSUELO GARZON PARRA         OGARZON 2024-03-01 16:36:25   \n",
       "24          MARIA CLAUDIA ASMAR GOMEZ          MASMAR 2024-03-01 15:00:08   \n",
       "25  VLADIMIR ALONSO BARAHONA PALACIOS       vbarahona 2024-03-01 11:03:49   \n",
       "26         OLGA CONSUELO GARZON PARRA         OGARZON 2024-03-01 10:54:41   \n",
       "27        JENNY MARCELA GARCIA CAMELO        JMGARCIA 2024-03-01 08:37:00   \n",
       "28   SANDRA PATRICIA CASTILLO RAMIREZ       SCASTILLO 2024-02-29 15:33:32   \n",
       "29                               None         CBERNAL 2024-02-29 08:48:43   \n",
       "30  NUBIA ISABEL DE LA PARRA CARRASCO          nparra 2024-02-29 07:15:21   \n",
       "31  NUBIA ISABEL DE LA PARRA CARRASCO          nparra 2024-02-29 07:11:30   \n",
       "32  NUBIA ISABEL DE LA PARRA CARRASCO          nparra 2024-02-28 15:17:35   \n",
       "33              MARYLUZ OLARTE CORTES         MOLARTE 2024-02-28 08:41:19   \n",
       "34  NUBIA ISABEL DE LA PARRA CARRASCO          nparra 2024-02-28 07:10:17   \n",
       "35  NUBIA ISABEL DE LA PARRA CARRASCO          nparra 2024-02-27 09:15:15   \n",
       "36           GUILLERMO GUTIERREZ CRUZ      GGUTIERREZ 2024-02-27 07:34:05   \n",
       "37           GUILLERMO GUTIERREZ CRUZ      GGUTIERREZ 2024-02-27 07:23:28   \n",
       "38     BELKY YOLIVE ALFONSO CASTAÑEDA      BCASTANEDA 2024-02-23 14:43:11   \n",
       "39           GUILLERMO GUTIERREZ CRUZ      GGUTIERREZ 2024-02-23 08:11:34   \n",
       "40         OLGA CONSUELO GARZON PARRA         OGARZON 2024-02-22 14:27:38   \n",
       "41   SANDRA PATRICIA CASTILLO RAMIREZ       SCASTILLO 2024-02-22 09:58:36   \n",
       "\n",
       "        fecha_atencion      fecha_solucion  tiempoTranscurrido CUMPLE_ANS  \n",
       "0  2024-05-02 11:58:25 2024-05-02 11:58:46                3574         SI  \n",
       "1  2024-03-21 10:04:03 2024-03-21 11:51:09                  75         SI  \n",
       "2  2024-03-20 08:22:48 2024-03-20 08:56:38                  56         SI  \n",
       "3  2024-03-19 15:20:27 2024-03-20 07:34:45                 717         SI  \n",
       "4  2024-03-19 15:11:22 2024-03-20 07:34:12                 717         SI  \n",
       "5  2024-03-21 07:08:00 2024-03-21 07:26:38                2856         SI  \n",
       "6  2024-04-11 09:49:40 2024-04-11 09:50:02                9578         NO  \n",
       "7  2024-03-21 07:06:25 2024-03-21 07:06:53                3246         SI  \n",
       "8  2024-03-12 06:58:26 2024-03-12 09:20:38                  79         SI  \n",
       "9  2024-03-12 06:57:26 2024-03-12 09:19:53                  78         SI  \n",
       "10 2024-03-11 14:15:40 2024-03-11 16:20:23                 124         SI  \n",
       "11 2024-03-11 14:12:55 2024-03-11 16:09:42                 118         SI  \n",
       "12 2024-03-11 14:06:30 2024-03-11 16:08:44                 122         SI  \n",
       "13 2024-03-08 15:24:14 2024-03-08 16:32:25                 218         SI  \n",
       "14 2024-03-08 15:23:54 2024-03-08 16:30:33                 221         SI  \n",
       "15 2024-03-08 14:49:49 2024-03-08 16:30:13                 221         SI  \n",
       "16 2024-03-08 13:57:49 2024-03-08 14:22:54                  81         SI  \n",
       "17 2024-03-19 14:57:11 2024-03-19 14:57:19                4102         NO  \n",
       "18 2024-03-06 16:22:14 2024-03-07 16:31:17                 550         SI  \n",
       "19 2024-03-06 15:54:29 2024-03-06 16:04:23                  42         SI  \n",
       "20 2024-03-06 10:55:43 2024-03-06 11:48:05                  53         SI  \n",
       "21 2024-03-05 15:47:48 2024-03-05 15:48:31                 101         SI  \n",
       "22 2024-03-05 14:31:48 2024-03-05 14:32:10                  29         SI  \n",
       "23 2024-03-04 07:27:57 2024-03-04 07:55:22                  25         SI  \n",
       "24 2024-03-07 14:46:43 2024-03-07 14:46:51                2149         NO  \n",
       "25 2024-03-01 11:40:45 2024-03-04 07:59:56                 110         SI  \n",
       "26 2024-03-01 10:55:22 2024-03-01 15:12:21                 257         SI  \n",
       "27 2024-03-05 15:32:48 2024-03-05 15:33:03                1497         NO  \n",
       "28 2024-02-29 18:31:51 2024-02-29 18:37:56                  88         SI  \n",
       "29 2024-03-01 06:30:21 2024-03-01 06:30:42                 493         SI  \n",
       "30 2024-02-29 11:11:36 2024-02-29 11:12:03                 191         SI  \n",
       "31 2024-02-29 10:15:19 2024-02-29 10:16:29                 136         SI  \n",
       "32 2024-02-28 15:17:59 2024-02-28 15:23:39                   5         SI  \n",
       "33 2024-02-28 09:08:14 2024-03-01 10:29:43                1190         SI  \n",
       "34 2024-02-28 08:06:24 2024-02-28 09:25:02                  84         SI  \n",
       "35 2024-02-27 09:55:13 2024-02-27 09:56:10                  40         SI  \n",
       "36 2024-02-27 08:05:58 2024-02-27 10:20:29                 139         SI  \n",
       "37 2024-02-27 08:05:48 2024-02-27 10:19:02                 138         SI  \n",
       "38 2024-02-26 08:02:28 2024-02-26 08:02:45                 139         SI  \n",
       "39 2024-02-23 08:16:47 2024-02-23 08:46:29                  34         SI  \n",
       "40 2024-02-22 14:28:48 2024-02-22 14:46:36                  18         SI  \n",
       "41 2024-02-22 11:51:27 2024-02-22 11:52:07                 113         SI  "
      ]
     },
     "execution_count": 22,
     "metadata": {},
     "output_type": "execute_result"
    }
   ],
   "source": [
    "#exploracion de datos\n",
    "discovery1.head(42)"
   ]
  },
  {
   "cell_type": "code",
   "execution_count": 23,
   "id": "3cf5ba03-65e0-4101-8d6d-a5a0f92978b6",
   "metadata": {},
   "outputs": [
    {
     "name": "stdout",
     "output_type": "stream",
     "text": [
      "<class 'pandas.core.frame.DataFrame'>\n",
      "RangeIndex: 26313 entries, 0 to 26312\n",
      "Data columns (total 14 columns):\n",
      " #   Column              Non-Null Count  Dtype         \n",
      "---  ------              --------------  -----         \n",
      " 0   tipo_de_caso        26313 non-null  object        \n",
      " 1   origen_caso         26313 non-null  object        \n",
      " 2   proyecto            26313 non-null  object        \n",
      " 3   numero_caso         26313 non-null  int64         \n",
      " 4   servicio            26313 non-null  object        \n",
      " 5   responsable         26312 non-null  object        \n",
      " 6   username_resp       26313 non-null  object        \n",
      " 7   usuariofinal        25684 non-null  object        \n",
      " 8   username_ufinal     26313 non-null  object        \n",
      " 9   fecha_creacion      26313 non-null  datetime64[ns]\n",
      " 10  fecha_atencion      26313 non-null  datetime64[ns]\n",
      " 11  fecha_solucion      26313 non-null  datetime64[ns]\n",
      " 12  tiempoTranscurrido  26313 non-null  int64         \n",
      " 13  CUMPLE_ANS          26313 non-null  object        \n",
      "dtypes: datetime64[ns](3), int64(2), object(9)\n",
      "memory usage: 2.8+ MB\n"
     ]
    }
   ],
   "source": [
    "#exploración de la estructura y tipo de dato del df discovery1\n",
    "discovery1.info()"
   ]
  },
  {
   "cell_type": "code",
   "execution_count": 24,
   "id": "779c6e0a-d4fd-4cea-b40a-8cd5999b85df",
   "metadata": {},
   "outputs": [],
   "source": [
    "#Normalización manual de algunos datos inconsistentes que se requieren para el análisis\n",
    "discovery1.loc[discovery[\"numero_caso\"] == 54706, \"username_ufinal\"] = 'mfeo'\n",
    "discovery1.loc[discovery[\"numero_caso\"] == 54128, \"username_ufinal\"] = 'nleon'\n",
    "discovery1.loc[discovery[\"numero_caso\"] == 53156, \"username_ufinal\"] = 'mberrio'\n",
    "discovery1.loc[discovery[\"numero_caso\"] == 52575, \"username_ufinal\"] = 'mfeo'\n",
    "discovery1.loc[discovery[\"numero_caso\"] == 51549, \"username_ufinal\"] = 'mfeo'\n",
    "discovery1.loc[discovery[\"numero_caso\"] == 51544, \"username_ufinal\"] = 'nparra'\n",
    "discovery1.loc[discovery[\"numero_caso\"] == 51036, \"username_ufinal\"] = 'lmunoz'\n",
    "discovery1.loc[discovery[\"numero_caso\"] == 49868, \"username_ufinal\"] = 'masmar'\n",
    "discovery1.loc[discovery[\"numero_caso\"] == 49362, \"username_ufinal\"] = 'mberrio'\n",
    "discovery1.loc[discovery[\"numero_caso\"] == 48729, \"username_ufinal\"] = 'mtovar'\n",
    "discovery1.loc[discovery[\"numero_caso\"] == 48494, \"username_ufinal\"] = 'rgutierrez'\n",
    "discovery1.loc[discovery[\"numero_caso\"] == 46641, \"username_ufinal\"] = 'scastillo'\n",
    "discovery1.loc[discovery[\"numero_caso\"] == 45126, \"username_ufinal\"] = 'lmunoz'\n",
    "discovery1.loc[discovery[\"numero_caso\"] == 44500, \"username_ufinal\"] = 'jgomez'\n",
    "discovery1.loc[discovery[\"numero_caso\"] == 43540, \"username_ufinal\"] = 'lmunoz'\n",
    "discovery1.loc[discovery[\"numero_caso\"] == 39895, \"username_ufinal\"] = 'mberrio'\n",
    "discovery1.loc[discovery[\"numero_caso\"] == 39797, \"username_ufinal\"] = 'lmunoz'\n",
    "discovery1.loc[discovery[\"numero_caso\"] == 37887, \"username_ufinal\"] = 'mtovar'\n",
    "discovery1.loc[discovery[\"numero_caso\"] == 37640, \"username_ufinal\"] = 'lmunoz'\n",
    "discovery1.loc[discovery[\"numero_caso\"] == 37482, \"username_ufinal\"] = 'irios'\n",
    "discovery1.loc[discovery[\"numero_caso\"] == 29435, \"username_ufinal\"] = 'mtovar'\n",
    "discovery1.loc[discovery[\"numero_caso\"] == 29021, \"username_ufinal\"] = 'scastillo'\n",
    "discovery1.loc[discovery[\"numero_caso\"] == 19074, \"username_ufinal\"] = 'dpisco'\n",
    "discovery1.loc[discovery[\"numero_caso\"] == 18913, \"username_ufinal\"] = 'masmar'\n",
    "discovery1.loc[discovery[\"numero_caso\"] == 17578, \"username_ufinal\"] = 'cmillan'\n",
    "discovery1.loc[discovery[\"numero_caso\"] == 16076, \"username_ufinal\"] = 'mtovar'\n",
    "discovery1.loc[discovery[\"numero_caso\"] == 15435, \"username_ufinal\"] = 'scastillo'\n",
    "discovery1.loc[discovery[\"numero_caso\"] == 14997, \"username_ufinal\"] = 'bduque'\n",
    "discovery1.loc[discovery[\"numero_caso\"] == 14006, \"username_ufinal\"] = 'jgomez'\n",
    "discovery1.loc[discovery[\"numero_caso\"] == 13370, \"username_ufinal\"] = 'lmunoz'\n",
    "discovery1.loc[discovery[\"numero_caso\"] == 13173, \"username_ufinal\"] = 'mberrio'\n",
    "discovery1.loc[discovery[\"numero_caso\"] == 10762, \"username_ufinal\"] = 'cmillan'\n",
    "discovery1.loc[discovery[\"numero_caso\"] == 10119, \"username_ufinal\"] = 'jfarieta'\n",
    "discovery1.loc[discovery[\"numero_caso\"] == 7569, \"username_ufinal\"] = 'masmar'\n",
    "discovery1.loc[discovery[\"numero_caso\"] == 6440, \"username_ufinal\"] = 'clezaca'\n",
    "discovery1.loc[discovery[\"numero_caso\"] == 2490, \"username_ufinal\"] = 'scastillo'\n",
    "discovery1.loc[discovery[\"numero_caso\"] == 2064, \"username_ufinal\"] = 'mtovar'\n",
    "discovery1.loc[discovery[\"numero_caso\"] == 628, \"username_ufinal\"] =  'mtovar'\n",
    "discovery1.loc[discovery[\"numero_caso\"] == 104, \"username_ufinal\"] =  'pvargas'\n",
    "discovery1.loc[discovery[\"numero_caso\"] == 37, \"username_ufinal\"] =   'scastillo'\n",
    "\n",
    "#actualizacion de nombres completos por usernamesde AD\n",
    "\n"
   ]
  },
  {
   "cell_type": "code",
   "execution_count": 25,
   "id": "04897c6e-574c-4879-8ac1-6f944702f753",
   "metadata": {},
   "outputs": [],
   "source": [
    "#limpiando valores inconsistentes que no se pudieron ajustar mediante negocio\n",
    "#discovery1.drop([4629,20686,21984,22262,23144,23859,25861], inplace=True)\n",
    "\n",
    "#quitando los puntos\n",
    "discovery1['username_ufinal'] = discovery1['username_ufinal'].str.replace('.','')"
   ]
  },
  {
   "cell_type": "code",
   "execution_count": 26,
   "id": "5321c5f1-926d-4805-9dc5-1c8800a954a8",
   "metadata": {},
   "outputs": [],
   "source": [
    "#limpieza de otros datos inconsistentes\n",
    "discovery1.loc[discovery1[\"numero_caso\"] == 54482, \"username_ufinal\"] = 'vbarahona'\n",
    "discovery1.loc[discovery1[\"numero_caso\"] == 44338, \"username_ufinal\"] = 'pvargas'\n",
    "discovery1.loc[discovery1[\"numero_caso\"] == 44157, \"username_ufinal\"] = 'agalindo'\n",
    "discovery1.loc[discovery1[\"numero_caso\"] == 9933, \"username_ufinal\"] =  'brodriguez'\n",
    "discovery1.loc[discovery1[\"numero_caso\"] == 9680, \"username_ufinal\"] =  'brodriguez'\n",
    "discovery1.loc[discovery1[\"numero_caso\"] == 9629, \"username_ufinal\"] =  'brodriguez'\n",
    "discovery1.loc[discovery1[\"numero_caso\"] == 9498, \"username_ufinal\"] =  'brodriguez'\n",
    "discovery1.loc[discovery1[\"numero_caso\"] == 9394, \"username_ufinal\"] =  'brodriguez'\n",
    "discovery1.loc[discovery1[\"numero_caso\"] == 9263, \"username_ufinal\"] =  'brodriguez'\n",
    "discovery1.loc[discovery1[\"numero_caso\"] == 8024, \"username_ufinal\"] =  'brodriguez'\n",
    "discovery1.loc[discovery1[\"numero_caso\"] == 7038, \"username_ufinal\"] =  'brodriguez'\n",
    "discovery1.loc[discovery1[\"numero_caso\"] == 4850, \"username_ufinal\"] =  'brodriguez'\n",
    "discovery1.loc[discovery1[\"numero_caso\"] == 4103, \"username_ufinal\"] =  'brodriguez'\n",
    "discovery1.loc[discovery1[\"numero_caso\"] == 1962, \"username_ufinal\"] =  'mespinosa'\n",
    "discovery1.loc[discovery1[\"numero_caso\"] == 287, \"username_ufinal\"] =   'brodriguez'"
   ]
  },
  {
   "cell_type": "code",
   "execution_count": 27,
   "id": "8a3d6b6e-0b2d-49c9-934f-f636ac96c844",
   "metadata": {},
   "outputs": [
    {
     "data": {
      "text/plain": [
       "tipo_de_caso            0\n",
       "origen_caso             0\n",
       "proyecto                0\n",
       "numero_caso             0\n",
       "servicio                0\n",
       "responsable             1\n",
       "username_resp           0\n",
       "usuariofinal          629\n",
       "username_ufinal         0\n",
       "fecha_creacion          0\n",
       "fecha_atencion          0\n",
       "fecha_solucion          0\n",
       "tiempoTranscurrido      0\n",
       "CUMPLE_ANS              0\n",
       "dtype: int64"
      ]
     },
     "execution_count": 27,
     "metadata": {},
     "output_type": "execute_result"
    }
   ],
   "source": [
    "discovery1.isna().sum()"
   ]
  },
  {
   "cell_type": "code",
   "execution_count": 28,
   "id": "0aa76ea7-9aba-49d0-b27c-d5f2158384e1",
   "metadata": {},
   "outputs": [
    {
     "data": {
      "text/plain": [
       "tipo_de_caso              2\n",
       "origen_caso               1\n",
       "proyecto                  1\n",
       "numero_caso           26313\n",
       "servicio                 56\n",
       "responsable             178\n",
       "username_resp            42\n",
       "usuariofinal            360\n",
       "username_ufinal         472\n",
       "fecha_creacion        26313\n",
       "fecha_atencion        25578\n",
       "fecha_solucion        26307\n",
       "tiempoTranscurrido     3495\n",
       "CUMPLE_ANS                2\n",
       "dtype: int64"
      ]
     },
     "execution_count": 28,
     "metadata": {},
     "output_type": "execute_result"
    }
   ],
   "source": [
    "discovery1.nunique()"
   ]
  },
  {
   "cell_type": "code",
   "execution_count": 29,
   "id": "70a2d08a-308a-414d-b13e-531efcf48579",
   "metadata": {},
   "outputs": [],
   "source": [
    "discovery.to_excel('provisionalOriginal.xlsx')"
   ]
  },
  {
   "cell_type": "code",
   "execution_count": 30,
   "id": "8d1ad2cd-66d1-4e85-9699-d93921829722",
   "metadata": {},
   "outputs": [
    {
     "name": "stdout",
     "output_type": "stream",
     "text": [
      "2024-05-29 10:03:10.192676\n",
      "2024-05-29 10:03:48.120092\n"
     ]
    }
   ],
   "source": [
    "#Repeticion del ciclo para afinar avlores inconsistentes pendientes\n",
    "print(datetime.now())\n",
    "\n",
    "for i, fila, in discovery1.iterrows():  \n",
    "    if pd.isna(discovery1.loc[i , 'responsable']):\n",
    "        #print(f\"{discovery1.loc[i , 'username_resp']} responsable vacio; se convierte\")\n",
    "        for j, fila, in kactus.iterrows():\n",
    "            if kactus.loc[j,'username'].lower() == discovery1.loc[i , 'username_resp'].lower():\n",
    "                valorNombre = kactus.loc[j, 'NombreCompleto']\n",
    "                discovery1.loc[i , 'responsable'] = valorNombre   \n",
    "\n",
    "for i, fila, in discovery1.iterrows():  \n",
    "    if pd.isna(discovery1.loc[i , 'usuariofinal']):\n",
    "        #print(f\"{discovery1.loc[i , 'username_resp']} responsable vacio; se convierte\")\n",
    "        for j, fila, in kactus.iterrows():\n",
    "            if kactus.loc[j,'username'].lower() == discovery1.loc[i , 'username_ufinal'].lower():\n",
    "                valorNombre = kactus.loc[j, 'NombreCompleto']\n",
    "                discovery1.loc[i , 'usuariofinal'] = valorNombre   \n",
    "                            \n",
    "print(datetime.now())"
   ]
  },
  {
   "cell_type": "code",
   "execution_count": 31,
   "id": "62399bcb-829f-467a-83ee-360c04234599",
   "metadata": {},
   "outputs": [
    {
     "data": {
      "text/plain": [
       "tipo_de_caso            0\n",
       "origen_caso             0\n",
       "proyecto                0\n",
       "numero_caso             0\n",
       "servicio                0\n",
       "responsable             1\n",
       "username_resp           0\n",
       "usuariofinal          624\n",
       "username_ufinal         0\n",
       "fecha_creacion          0\n",
       "fecha_atencion          0\n",
       "fecha_solucion          0\n",
       "tiempoTranscurrido      0\n",
       "CUMPLE_ANS              0\n",
       "dtype: int64"
      ]
     },
     "execution_count": 31,
     "metadata": {},
     "output_type": "execute_result"
    }
   ],
   "source": [
    "discovery1.isna().sum()"
   ]
  },
  {
   "cell_type": "code",
   "execution_count": 32,
   "id": "8be750c1-3c9f-4add-b312-59e80196e020",
   "metadata": {},
   "outputs": [],
   "source": [
    "discovery1.to_excel('provisional.xlsx')"
   ]
  },
  {
   "cell_type": "code",
   "execution_count": 33,
   "id": "7193b776-087b-44ce-af92-3f4ed5cfe675",
   "metadata": {},
   "outputs": [
    {
     "name": "stderr",
     "output_type": "stream",
     "text": [
      "<>:7: SyntaxWarning: invalid escape sequence '\\e'\n",
      "<>:7: SyntaxWarning: invalid escape sequence '\\e'\n",
      "C:\\Users\\ferodriguez\\AppData\\Local\\Temp\\ipykernel_6744\\3234684389.py:7: SyntaxWarning: invalid escape sequence '\\e'\n",
      "  username = \"FINAGRO\\entrustuser\"\n"
     ]
    }
   ],
   "source": [
    "#Conexión a LDAP AD y pruebas\n",
    "server_address = 'ldap://172.16.0.5:389'  # Conexión al servidor de LDAP AD\n",
    "base_dn = 'dc=FINAGRO,dc=LOC'  # Base domain name\n",
    "ou = 'ou=Retirados'  # Unidad organizativa\n",
    "\n",
    "username = \"FINAGRO\\entrustuser\"\n",
    "password = \"XXXXXX*2024!/\"\n",
    "\n",
    "# Crea el objeto Server\n",
    "server = Server(server_address)\n",
    "#Funcion para llenar los nombres de usuarios pendientes a traves del username de AD\n",
    "def convertirUsername(username):\n",
    "    displayname1 = ''\n",
    "    try:\n",
    "        # Intenta conectarte al servidor LDAP\n",
    "        with Connection(server, user=username, password=password, authentication=SIMPLE, raise_exceptions=True) as conn:\n",
    "            # Bind al servidor LDAP\n",
    "            conn.bind()\n",
    "            # Realiza una búsqueda por el ID del empleado\n",
    "            #employee_id = discovery.loc[0,'username_ufinal']  # Aquí debes poner el ID del empleado que deseas buscar\n",
    "            #search_filter = f'(&(objectClass=user)(employeeNumber={cedula}))' #busqueda del colaborador por su cedula\n",
    "            search_filter = f'(&(objectClass=user)(sAMAccountName={username}))' #busqueda del colaborador por su cedula\n",
    "            conn.search(search_base=base_dn,\n",
    "                        search_filter=search_filter,\n",
    "                        search_scope='SUBTREE',\n",
    "                        attributes=['displayName'])\n",
    "            \n",
    "            # Imprime los resultados de la búsqueda\n",
    "            for entry in conn.entries:\n",
    "               displayname1 = entry.displayName.value if 'displayName' in entry else 'N/A'\n",
    "               print(f'username de empleado: {username} - encontrado el displayName: {displayname1}')\n",
    "           # entry = conn.entries.first()\n",
    "            #username1 = entry.sAMAccountName.value #if 'sAMAccountName' in entry else 'N/A'\n",
    "           \n",
    "    except Exception as e:\n",
    "        print(f'Error: {e}')\n",
    "    return displayname1\n",
    "\n",
    "\n"
   ]
  },
  {
   "cell_type": "code",
   "execution_count": 34,
   "id": "f37c297f-86ea-4667-974c-9bb3af11a55e",
   "metadata": {},
   "outputs": [
    {
     "name": "stderr",
     "output_type": "stream",
     "text": [
      "C:\\Users\\ferodriguez\\AppData\\Local\\Temp\\ipykernel_6744\\2244776062.py:2: UserWarning: pandas only supports SQLAlchemy connectable (engine/connection) or database string URI or sqlite3 DBAPI2 connection. Other DBAPI2 objects are not tested. Please consider using SQLAlchemy.\n",
      "  arandaUsuarios = pd.read_sql(usersAranda, connAranda)\n"
     ]
    }
   ],
   "source": [
    "usersAranda = \"select UNAME as NombreCompleto, IDENTITY_NUMBER as cedula, USERNAME as username from USUARIOS order by UNAME\"\n",
    "arandaUsuarios = pd.read_sql(usersAranda, connAranda)\n"
   ]
  },
  {
   "cell_type": "code",
   "execution_count": 35,
   "id": "3f36ac96-09c3-4abc-9a5d-8c6bcfd5dad6",
   "metadata": {},
   "outputs": [
    {
     "data": {
      "text/html": [
       "<div>\n",
       "<style scoped>\n",
       "    .dataframe tbody tr th:only-of-type {\n",
       "        vertical-align: middle;\n",
       "    }\n",
       "\n",
       "    .dataframe tbody tr th {\n",
       "        vertical-align: top;\n",
       "    }\n",
       "\n",
       "    .dataframe thead th {\n",
       "        text-align: right;\n",
       "    }\n",
       "</style>\n",
       "<table border=\"1\" class=\"dataframe\">\n",
       "  <thead>\n",
       "    <tr style=\"text-align: right;\">\n",
       "      <th></th>\n",
       "      <th>NombreCompleto</th>\n",
       "      <th>cedula</th>\n",
       "      <th>username</th>\n",
       "    </tr>\n",
       "  </thead>\n",
       "  <tbody>\n",
       "    <tr>\n",
       "      <th>0</th>\n",
       "      <td>Ackerman Serrano Gomez</td>\n",
       "      <td></td>\n",
       "      <td>ackerman.serrano</td>\n",
       "    </tr>\n",
       "    <tr>\n",
       "      <th>1</th>\n",
       "      <td>admcentury link</td>\n",
       "      <td>14888444</td>\n",
       "      <td>admcentury</td>\n",
       "    </tr>\n",
       "    <tr>\n",
       "      <th>2</th>\n",
       "      <td>admdccol</td>\n",
       "      <td>1010190737</td>\n",
       "      <td>admdccol</td>\n",
       "    </tr>\n",
       "    <tr>\n",
       "      <th>3</th>\n",
       "      <td>admfag</td>\n",
       "      <td>12968095</td>\n",
       "      <td>admfag</td>\n",
       "    </tr>\n",
       "    <tr>\n",
       "      <th>4</th>\n",
       "      <td>Admin Backup</td>\n",
       "      <td>79257795</td>\n",
       "      <td>adminbackup</td>\n",
       "    </tr>\n",
       "  </tbody>\n",
       "</table>\n",
       "</div>"
      ],
      "text/plain": [
       "           NombreCompleto      cedula          username\n",
       "0  Ackerman Serrano Gomez              ackerman.serrano\n",
       "1         admcentury link    14888444        admcentury\n",
       "2                admdccol  1010190737          admdccol\n",
       "3                  admfag    12968095            admfag\n",
       "4            Admin Backup    79257795       adminbackup"
      ]
     },
     "execution_count": 35,
     "metadata": {},
     "output_type": "execute_result"
    }
   ],
   "source": [
    "arandaUsuarios.head()"
   ]
  },
  {
   "cell_type": "code",
   "execution_count": 36,
   "id": "cf504ab0-e628-428a-9b10-edee4dbdc903",
   "metadata": {},
   "outputs": [],
   "source": [
    "#Ciclo para llenar los nombres de usuario final restantes cuando el campo contiene el username pero no el nombreCompleto\n",
    "\n",
    "\n",
    "def llenarConAranda():\n",
    "    print(datetime.now())\n",
    "    for i, fila, in discovery1.iterrows():\n",
    "              \n",
    "        if pd.isna(discovery1.loc[i , 'usuariofinal']):\n",
    "            for j, fila, in arandaUsuarios.iterrows():\n",
    "                if arandaUsuarios.loc[j,'username'].lower() == discovery1.loc[i , 'username_ufinal'].lower():\n",
    "                    valorNombre = arandaUsuarios.loc[j, 'NombreCompleto']\n",
    "                    discovery1.loc[i , 'usuariofinal'] = valorNombre\n",
    "    print(datetime.now())\n",
    "\n",
    "                            \n",
    "def completarCampos(campoEvaluar, campoDiscovery, campoAranda, campoUtilizar):\n",
    "    print(datetime.now())\n",
    "    for i, fila, in discovery1.iterrows():\n",
    "              \n",
    "        if pd.isna(campoEvaluar):\n",
    "            for j, fila, in arandaUsuarios.iterrows():\n",
    "                if arandaUsuarios.loc[j,campoAranda].lower() == discovery1.loc[i ,  campoDiscovery].lower():\n",
    "                    valorNombre = arandaUsuarios.loc[j, campoUtilizar]\n",
    "                    discovery1.loc[i , campoEvaluar] = valorNombre\n",
    "    print(datetime.now())"
   ]
  },
  {
   "cell_type": "code",
   "execution_count": 37,
   "id": "bce898e0-b868-44f9-8795-6ce86750b4f8",
   "metadata": {},
   "outputs": [
    {
     "name": "stdout",
     "output_type": "stream",
     "text": [
      "2024-05-29 10:04:01.267793\n",
      "2024-05-29 10:04:58.801759\n"
     ]
    }
   ],
   "source": [
    "llenarConAranda()"
   ]
  },
  {
   "cell_type": "code",
   "execution_count": 38,
   "id": "272fcec3-f594-4216-8738-839a3e9fa5e0",
   "metadata": {},
   "outputs": [],
   "source": [
    "discovery1.loc[discovery1[\"username_ufinal\"] == 'CLEZAGA', \"username_ufinal\"] =        'clezaca'\n",
    "discovery1.loc[discovery1[\"username_ufinal\"] == 'NIDIA MOLINA', \"username_ufinal\"] =   'nmolina'\n",
    "discovery1.loc[discovery1[\"username_ufinal\"] == 'EARCINIEGAS', \"username_ufinal\"] =    'earciniega'\n",
    "discovery1.loc[discovery1[\"username_ufinal\"] == 'ELOPEZ', \"username_ufinal\"] =         'plopez'\n",
    "discovery1.loc[discovery1[\"username_ufinal\"] == 'IVANBARACALDO', \"username_ufinal\"] =  'ibaracaldo'\n",
    "#discovery1.loc[discovery1[\"username_ufinal\"] == 'JBETANCOURT', \"username_ufinal\"] =    'cbetancur'\n",
    "discovery1.loc[discovery1[\"username_ufinal\"] == 'JCARDONA', \"username_ufinal\"] =       'jacardona'\n",
    "discovery1.loc[discovery1[\"username_ufinal\"] == 'JLEGUIZAMON', \"username_ufinal\"] =    'jleguizamo'\n",
    "discovery1.loc[discovery1[\"username_ufinal\"] == 'MARISTIZABAL', \"username_ufinal\"] =   'maristizab'\n",
    "discovery1.loc[discovery1[\"username_ufinal\"] == 'MASAMAR', \"username_ufinal\"] =        'masmar'\n",
    "discovery1.loc[discovery1[\"username_ufinal\"] == 'MBOCANEGREA', \"username_ufinal\"] =    'mbocanegra'\n",
    "discovery1.loc[discovery1[\"username_ufinal\"] == 'MBOLANOS', \"username_ufinal\"] =       'mbolano'\n",
    "#discovery1.loc[discovery1[\"username_ufinal\"] == 'OALARCON', \"username_ufinal\"] =       'jdalarcon'\n",
    "discovery1.loc[discovery1[\"username_ufinal\"] == ' SRODRIGUEZ', \"username_ufinal\"] =    'srodriguez'\n",
    "discovery1.loc[discovery1[\"username_ufinal\"] == 'VABARAHONA', \"username_ufinal\"] =     'vbarahona'\n",
    "discovery1.loc[discovery1[\"username_ufinal\"] == 'YPORTILLA', \"username_ufinal\"] =      'mportilla'\n",
    "discovery1.loc[discovery1[\"username_ufinal\"] == 'VICTORMENDEZ', \"username_ufinal\"] =   'victor.mendez'"
   ]
  },
  {
   "cell_type": "code",
   "execution_count": 39,
   "id": "29edd2f8-daaf-4b21-9db2-39dcacac211b",
   "metadata": {},
   "outputs": [
    {
     "name": "stdout",
     "output_type": "stream",
     "text": [
      "2024-05-29 10:04:58.880570\n",
      "2024-05-29 10:05:35.585524\n"
     ]
    }
   ],
   "source": [
    "llenarConAranda()"
   ]
  },
  {
   "cell_type": "code",
   "execution_count": 40,
   "id": "6548c5c1-7e95-4eb4-a6c0-70955a0b0818",
   "metadata": {},
   "outputs": [],
   "source": [
    "#limpiando valores inconsistentes que no se pudieron ajustar mediante negocio\n",
    "discovery1.loc[discovery1[\"usuariofinal\"] == 'PAULA CAMILA HERNANDEZ PIÑEROS', \"username_ufinal\"] =   'pchernandez'"
   ]
  },
  {
   "cell_type": "code",
   "execution_count": 41,
   "id": "96113d3d-6c7b-45ab-ba6b-b1beec9c513a",
   "metadata": {},
   "outputs": [
    {
     "data": {
      "text/plain": [
       "(26313, 14)"
      ]
     },
     "execution_count": 41,
     "metadata": {},
     "output_type": "execute_result"
    }
   ],
   "source": [
    "discovery1.shape"
   ]
  },
  {
   "cell_type": "code",
   "execution_count": 42,
   "id": "ed02416c-6cbe-4eed-a8cd-652260873541",
   "metadata": {
    "scrolled": true
   },
   "outputs": [
    {
     "data": {
      "text/plain": [
       "tipo_de_caso           0\n",
       "origen_caso            0\n",
       "proyecto               0\n",
       "numero_caso            0\n",
       "servicio               0\n",
       "responsable            1\n",
       "username_resp          0\n",
       "usuariofinal          15\n",
       "username_ufinal        0\n",
       "fecha_creacion         0\n",
       "fecha_atencion         0\n",
       "fecha_solucion         0\n",
       "tiempoTranscurrido     0\n",
       "CUMPLE_ANS             0\n",
       "dtype: int64"
      ]
     },
     "execution_count": 42,
     "metadata": {},
     "output_type": "execute_result"
    }
   ],
   "source": [
    "discovery1.isna().sum()"
   ]
  },
  {
   "cell_type": "code",
   "execution_count": 43,
   "id": "c17b0af6-8b49-48c0-84ef-8b11e1a2ab4d",
   "metadata": {},
   "outputs": [],
   "source": [
    "#se normaliza el username de yportilla por mportilla\n",
    "discovery1.loc[discovery1[\"username_resp\"] == 'YPORTILLA', \"username_resp\"] = 'mportilla'\n",
    "discovery1.loc[discovery1[\"username_resp\"] == 'mportilla', \"responsable\"] =   'YARLEIDY MARISOL PORTILLA'\n",
    "\n",
    "discovery1.loc[discovery1[\"username_resp\"] == 'JBETANCOURT', \"responsable\"] =   'JUAN PABLO BETANCOURT'\n",
    "discovery1.loc[discovery1[\"username_ufinal\"] == 'JBETANCOURT', \"usuariofinal\"] =   'JUAN PABLO BETANCOURT'\n",
    "\n",
    "discovery1.loc[discovery1[\"username_resp\"] == 'OALARCON', \"responsable\"] =   'OMAR ALARCON'\n",
    "discovery1.loc[discovery1[\"username_ufinal\"] == 'OALARCON', \"usuariofinal\"] =   'OMAR ALARCON'\n",
    "\n",
    "discovery1.loc[discovery1[\"username_resp\"] == 'AMRODRIGUEZ', \"username_resp\"] =   'AMRODRIGUE'\n",
    "discovery1.loc[discovery1[\"username_resp\"] == 'AMRODRIGUE', \"responsable\"] =   'ANDRES MAURICIO RODRIGUEZ GALEANO'\n"
   ]
  },
  {
   "cell_type": "code",
   "execution_count": 44,
   "id": "9881b5cd-9ad6-4437-b90e-45f045aa73d2",
   "metadata": {},
   "outputs": [],
   "source": [
    "#se eliminan registros inconsitentes ya que no se obtuvo información de los usuarios en las fuentes reales\n",
    "#discovery1.drop([4678,26623,27522,29865,29866,30366,14328,25547], inplace=True) #sonia villareal (no consistente) eliminar"
   ]
  },
  {
   "cell_type": "code",
   "execution_count": 45,
   "id": "e0397b65-fc92-48ee-8bfa-7f747ecb3c05",
   "metadata": {},
   "outputs": [
    {
     "data": {
      "text/plain": [
       "tipo_de_caso          0\n",
       "origen_caso           0\n",
       "proyecto              0\n",
       "numero_caso           0\n",
       "servicio              0\n",
       "responsable           1\n",
       "username_resp         0\n",
       "usuariofinal          1\n",
       "username_ufinal       0\n",
       "fecha_creacion        0\n",
       "fecha_atencion        0\n",
       "fecha_solucion        0\n",
       "tiempoTranscurrido    0\n",
       "CUMPLE_ANS            0\n",
       "dtype: int64"
      ]
     },
     "execution_count": 45,
     "metadata": {},
     "output_type": "execute_result"
    }
   ],
   "source": [
    "discovery1.isna().sum()"
   ]
  },
  {
   "cell_type": "code",
   "execution_count": 46,
   "id": "5921d434-f577-4cea-a97c-041e240b89e5",
   "metadata": {},
   "outputs": [
    {
     "data": {
      "text/plain": [
       "(26313, 14)"
      ]
     },
     "execution_count": 46,
     "metadata": {},
     "output_type": "execute_result"
    }
   ],
   "source": [
    "discovery1.shape"
   ]
  },
  {
   "cell_type": "code",
   "execution_count": 47,
   "id": "641fc882-4cf0-4d05-8003-356a8578ba74",
   "metadata": {},
   "outputs": [],
   "source": [
    "asesores = discovery[['username_resp']].drop_duplicates().reset_index(drop=True)"
   ]
  },
  {
   "cell_type": "code",
   "execution_count": 48,
   "id": "bd3024bd-1d1b-4fa6-a22e-ac3ea37f4d87",
   "metadata": {},
   "outputs": [],
   "source": [
    "def corregirResponsables(campoEvaluar, campoDiscovery, campoAranda, campoUtilizar):\n",
    "    print(datetime.now())\n",
    "    for i, fila, in discovery2.iterrows():\n",
    "        if discovery2.loc[i, 'username_resp'] in asesores['username_resp'].values:\n",
    "            #print(f'Se esta trabajando con: {discovery2.loc[i, 'username_resp']}')\n",
    "            for j, fila, in arandaUsuarios.iterrows():\n",
    "                if arandaUsuarios.loc[j,campoAranda].lower() == discovery2.loc[i ,  campoDiscovery].lower():\n",
    "                    valorNombre = arandaUsuarios.loc[j, campoUtilizar]\n",
    "                    discovery2.loc[i , campoEvaluar] = valorNombre\n",
    "    print(datetime.now())"
   ]
  },
  {
   "cell_type": "code",
   "execution_count": 49,
   "id": "caf0c110-1f77-4fc6-bf90-2f0fd82be3c6",
   "metadata": {},
   "outputs": [],
   "source": [
    "#Ajustar Carlos Rivera\n",
    "discovery1.loc[discovery1[\"responsable\"] == 'CARLOS MANUEL RIVERA B.', \"responsable\"] =   'Carlos Manuel Rivera Barreto'\n",
    "#Ajustar Fernando Marquez\n",
    "discovery1.loc[discovery1[\"responsable\"] == 'FERNANDO MARQUEZ', \"responsable\"] =   'Fernando Alberto Marquez Morales'\n",
    "#Ajustar Harold Mendoza\n",
    "discovery1.loc[discovery1[\"responsable\"] == 'HAROLD ADOLFO MENDOZA AVENDANO', \"responsable\"] =   'Harold Adolfo Mendoza Avendaño'\n",
    "#Ajustar Yesid Martinez\n",
    "discovery1.loc[discovery1[\"responsable\"] == 'YESID ALEJANDRO MARTINEZ NUNEZ', \"responsable\"] =   'Yesid Alejandro Martínez Nuñez'"
   ]
  },
  {
   "cell_type": "code",
   "execution_count": 50,
   "id": "c8849acf-93cd-4098-9454-53423f6c3879",
   "metadata": {},
   "outputs": [],
   "source": [
    "discovery1.to_excel('provisional.xlsx')"
   ]
  },
  {
   "cell_type": "code",
   "execution_count": 51,
   "id": "db525761-5948-4cc9-a0f0-a2b4b9fc197f",
   "metadata": {},
   "outputs": [
    {
     "name": "stdout",
     "output_type": "stream",
     "text": [
      "<class 'pandas.core.frame.DataFrame'>\n",
      "RangeIndex: 26313 entries, 0 to 26312\n",
      "Data columns (total 14 columns):\n",
      " #   Column              Non-Null Count  Dtype         \n",
      "---  ------              --------------  -----         \n",
      " 0   tipo_de_caso        26313 non-null  object        \n",
      " 1   origen_caso         26313 non-null  object        \n",
      " 2   proyecto            26313 non-null  object        \n",
      " 3   numero_caso         26313 non-null  int64         \n",
      " 4   servicio            26313 non-null  object        \n",
      " 5   responsable         26312 non-null  object        \n",
      " 6   username_resp       26313 non-null  object        \n",
      " 7   usuariofinal        26312 non-null  object        \n",
      " 8   username_ufinal     26313 non-null  object        \n",
      " 9   fecha_creacion      26313 non-null  datetime64[ns]\n",
      " 10  fecha_atencion      26313 non-null  datetime64[ns]\n",
      " 11  fecha_solucion      26313 non-null  datetime64[ns]\n",
      " 12  tiempoTranscurrido  26313 non-null  int64         \n",
      " 13  CUMPLE_ANS          26313 non-null  object        \n",
      "dtypes: datetime64[ns](3), int64(2), object(9)\n",
      "memory usage: 2.8+ MB\n"
     ]
    }
   ],
   "source": [
    "discovery1.info()"
   ]
  },
  {
   "cell_type": "code",
   "execution_count": 52,
   "id": "d49e5fcf-12e9-447c-bd29-5d64bfea1c21",
   "metadata": {},
   "outputs": [],
   "source": [
    "#Ajustamiento de datos Fernando Marquez\n",
    "#discovery1.loc[(discovery1[\"responsable\"] == 'CARLOS MANUEL RIVERA BARRETO') & (discovery1[\"username_resp\"] == 'active'), \"responsable\"] = 'Yesid Alejandro Martínez Nuñez'\n"
   ]
  },
  {
   "cell_type": "code",
   "execution_count": 53,
   "id": "d73c5043-803c-4aaa-bd3c-76071e2a25b9",
   "metadata": {},
   "outputs": [],
   "source": [
    "discovery2 = discovery1.copy()"
   ]
  },
  {
   "cell_type": "code",
   "execution_count": 54,
   "id": "7e3ccafc-4354-415e-8299-643b365cd0aa",
   "metadata": {},
   "outputs": [
    {
     "name": "stdout",
     "output_type": "stream",
     "text": [
      "2024-05-29 10:05:48.212956\n",
      "2024-05-29 10:45:10.842132\n"
     ]
    }
   ],
   "source": [
    "corregirResponsables('responsable','username_resp','username','NombreCompleto')"
   ]
  },
  {
   "cell_type": "code",
   "execution_count": 55,
   "id": "6b19daa0-4c05-4ded-b2ab-28bd3ddc873f",
   "metadata": {},
   "outputs": [
    {
     "data": {
      "text/html": [
       "<div>\n",
       "<style scoped>\n",
       "    .dataframe tbody tr th:only-of-type {\n",
       "        vertical-align: middle;\n",
       "    }\n",
       "\n",
       "    .dataframe tbody tr th {\n",
       "        vertical-align: top;\n",
       "    }\n",
       "\n",
       "    .dataframe thead th {\n",
       "        text-align: right;\n",
       "    }\n",
       "</style>\n",
       "<table border=\"1\" class=\"dataframe\">\n",
       "  <thead>\n",
       "    <tr style=\"text-align: right;\">\n",
       "      <th></th>\n",
       "      <th>username_resp</th>\n",
       "    </tr>\n",
       "  </thead>\n",
       "  <tbody>\n",
       "    <tr>\n",
       "      <th>0</th>\n",
       "      <td>CPAEZ</td>\n",
       "    </tr>\n",
       "    <tr>\n",
       "      <th>1</th>\n",
       "      <td>MQUINTERO</td>\n",
       "    </tr>\n",
       "  </tbody>\n",
       "</table>\n",
       "</div>"
      ],
      "text/plain": [
       "  username_resp\n",
       "0         CPAEZ\n",
       "1     MQUINTERO"
      ]
     },
     "execution_count": 55,
     "metadata": {},
     "output_type": "execute_result"
    }
   ],
   "source": [
    "asesores.head(2)\n",
    "#Duracion de la funcion y ciclo anterior 40 min"
   ]
  },
  {
   "cell_type": "code",
   "execution_count": 56,
   "id": "dde8f584-2e70-4b4e-9659-e4b8e515a743",
   "metadata": {},
   "outputs": [],
   "source": [
    "discovery2.to_excel('Discovery2.xlsx')"
   ]
  },
  {
   "cell_type": "code",
   "execution_count": 57,
   "id": "2eb40072-7eb4-4c09-8e1e-fc6a4d57ea2f",
   "metadata": {},
   "outputs": [
    {
     "data": {
      "text/html": [
       "<div>\n",
       "<style scoped>\n",
       "    .dataframe tbody tr th:only-of-type {\n",
       "        vertical-align: middle;\n",
       "    }\n",
       "\n",
       "    .dataframe tbody tr th {\n",
       "        vertical-align: top;\n",
       "    }\n",
       "\n",
       "    .dataframe thead th {\n",
       "        text-align: right;\n",
       "    }\n",
       "</style>\n",
       "<table border=\"1\" class=\"dataframe\">\n",
       "  <thead>\n",
       "    <tr style=\"text-align: right;\">\n",
       "      <th></th>\n",
       "      <th>tipo_de_caso</th>\n",
       "      <th>origen_caso</th>\n",
       "      <th>proyecto</th>\n",
       "      <th>numero_caso</th>\n",
       "      <th>servicio</th>\n",
       "      <th>responsable</th>\n",
       "      <th>username_resp</th>\n",
       "      <th>usuariofinal</th>\n",
       "      <th>username_ufinal</th>\n",
       "      <th>fecha_creacion</th>\n",
       "      <th>fecha_atencion</th>\n",
       "      <th>fecha_solucion</th>\n",
       "      <th>tiempoTranscurrido</th>\n",
       "      <th>CUMPLE_ANS</th>\n",
       "    </tr>\n",
       "  </thead>\n",
       "  <tbody>\n",
       "    <tr>\n",
       "      <th>2505</th>\n",
       "      <td>Incidente</td>\n",
       "      <td>Aranda</td>\n",
       "      <td>Mesa de Software</td>\n",
       "      <td>6</td>\n",
       "      <td>Nuevo Aplicativo</td>\n",
       "      <td>Carlos Manuel Rivera Barreto</td>\n",
       "      <td>crivera</td>\n",
       "      <td>Daniel Andres Ordoñez Matiz</td>\n",
       "      <td>dordonez</td>\n",
       "      <td>2018-12-21 10:59:46.543</td>\n",
       "      <td>2019-01-08 10:58:49.620</td>\n",
       "      <td>2019-01-08 10:59:55.683</td>\n",
       "      <td>11286</td>\n",
       "      <td>NO</td>\n",
       "    </tr>\n",
       "    <tr>\n",
       "      <th>2506</th>\n",
       "      <td>Incidente</td>\n",
       "      <td>Aranda</td>\n",
       "      <td>Mesa de Software</td>\n",
       "      <td>5</td>\n",
       "      <td>Nuevo Aplicativo</td>\n",
       "      <td>Carlos Manuel Rivera Barreto</td>\n",
       "      <td>crivera</td>\n",
       "      <td>Daniel Andres Ordoñez Matiz</td>\n",
       "      <td>dordonez</td>\n",
       "      <td>2018-12-21 10:55:35.613</td>\n",
       "      <td>2019-01-08 11:00:39.213</td>\n",
       "      <td>2019-01-08 11:01:05.637</td>\n",
       "      <td>11290</td>\n",
       "      <td>NO</td>\n",
       "    </tr>\n",
       "    <tr>\n",
       "      <th>2507</th>\n",
       "      <td>Incidente</td>\n",
       "      <td>Aranda</td>\n",
       "      <td>Mesa de Software</td>\n",
       "      <td>4</td>\n",
       "      <td>Nuevo Aplicativo</td>\n",
       "      <td>Carlos Manuel Rivera Barreto</td>\n",
       "      <td>crivera</td>\n",
       "      <td>Daniel Andres Ordoñez Matiz</td>\n",
       "      <td>dordonez</td>\n",
       "      <td>2018-12-21 10:36:40.160</td>\n",
       "      <td>2019-01-08 11:01:48.900</td>\n",
       "      <td>2019-01-08 11:03:05.517</td>\n",
       "      <td>11310</td>\n",
       "      <td>NO</td>\n",
       "    </tr>\n",
       "    <tr>\n",
       "      <th>2508</th>\n",
       "      <td>Incidente</td>\n",
       "      <td>Aranda</td>\n",
       "      <td>Mesa de Software</td>\n",
       "      <td>3</td>\n",
       "      <td>AGROS</td>\n",
       "      <td>Juan Guillermo Campos Garcia</td>\n",
       "      <td>jcampos</td>\n",
       "      <td>Luis Francisco Muñoz</td>\n",
       "      <td>lmunoz</td>\n",
       "      <td>2018-12-19 10:12:03.807</td>\n",
       "      <td>2018-12-19 10:12:33.600</td>\n",
       "      <td>2018-12-21 12:18:41.240</td>\n",
       "      <td>2396</td>\n",
       "      <td>NO</td>\n",
       "    </tr>\n",
       "    <tr>\n",
       "      <th>2509</th>\n",
       "      <td>Incidente</td>\n",
       "      <td>Aranda</td>\n",
       "      <td>Mesa de Software</td>\n",
       "      <td>2</td>\n",
       "      <td>e-FAG</td>\n",
       "      <td>Arnold Humberto Duque Velasquez</td>\n",
       "      <td>aduque</td>\n",
       "      <td>Nubia Isabel DeLaParra Carrasco</td>\n",
       "      <td>nparra</td>\n",
       "      <td>2018-12-05 15:30:04.777</td>\n",
       "      <td>2018-12-06 09:27:17.347</td>\n",
       "      <td>2018-12-06 09:34:21.323</td>\n",
       "      <td>373</td>\n",
       "      <td>SI</td>\n",
       "    </tr>\n",
       "  </tbody>\n",
       "</table>\n",
       "</div>"
      ],
      "text/plain": [
       "     tipo_de_caso origen_caso          proyecto  numero_caso  \\\n",
       "2505    Incidente      Aranda  Mesa de Software            6   \n",
       "2506    Incidente      Aranda  Mesa de Software            5   \n",
       "2507    Incidente      Aranda  Mesa de Software            4   \n",
       "2508    Incidente      Aranda  Mesa de Software            3   \n",
       "2509    Incidente      Aranda  Mesa de Software            2   \n",
       "\n",
       "              servicio                      responsable username_resp  \\\n",
       "2505  Nuevo Aplicativo     Carlos Manuel Rivera Barreto       crivera   \n",
       "2506  Nuevo Aplicativo     Carlos Manuel Rivera Barreto       crivera   \n",
       "2507  Nuevo Aplicativo     Carlos Manuel Rivera Barreto       crivera   \n",
       "2508             AGROS     Juan Guillermo Campos Garcia       jcampos   \n",
       "2509             e-FAG  Arnold Humberto Duque Velasquez        aduque   \n",
       "\n",
       "                         usuariofinal username_ufinal          fecha_creacion  \\\n",
       "2505      Daniel Andres Ordoñez Matiz        dordonez 2018-12-21 10:59:46.543   \n",
       "2506      Daniel Andres Ordoñez Matiz        dordonez 2018-12-21 10:55:35.613   \n",
       "2507      Daniel Andres Ordoñez Matiz        dordonez 2018-12-21 10:36:40.160   \n",
       "2508             Luis Francisco Muñoz          lmunoz 2018-12-19 10:12:03.807   \n",
       "2509  Nubia Isabel DeLaParra Carrasco          nparra 2018-12-05 15:30:04.777   \n",
       "\n",
       "              fecha_atencion          fecha_solucion  tiempoTranscurrido  \\\n",
       "2505 2019-01-08 10:58:49.620 2019-01-08 10:59:55.683               11286   \n",
       "2506 2019-01-08 11:00:39.213 2019-01-08 11:01:05.637               11290   \n",
       "2507 2019-01-08 11:01:48.900 2019-01-08 11:03:05.517               11310   \n",
       "2508 2018-12-19 10:12:33.600 2018-12-21 12:18:41.240                2396   \n",
       "2509 2018-12-06 09:27:17.347 2018-12-06 09:34:21.323                 373   \n",
       "\n",
       "     CUMPLE_ANS  \n",
       "2505         NO  \n",
       "2506         NO  \n",
       "2507         NO  \n",
       "2508         NO  \n",
       "2509         SI  "
      ]
     },
     "execution_count": 57,
     "metadata": {},
     "output_type": "execute_result"
    }
   ],
   "source": [
    "arandaInci.tail()"
   ]
  },
  {
   "cell_type": "code",
   "execution_count": 58,
   "id": "bde2a3fa-cdfe-4143-8653-f1fe8d6a409d",
   "metadata": {},
   "outputs": [
    {
     "name": "stdout",
     "output_type": "stream",
     "text": [
      "<class 'pandas.core.frame.DataFrame'>\n",
      "RangeIndex: 26313 entries, 0 to 26312\n",
      "Data columns (total 14 columns):\n",
      " #   Column              Non-Null Count  Dtype         \n",
      "---  ------              --------------  -----         \n",
      " 0   tipo_de_caso        26313 non-null  object        \n",
      " 1   origen_caso         26313 non-null  object        \n",
      " 2   proyecto            26313 non-null  object        \n",
      " 3   numero_caso         26313 non-null  int64         \n",
      " 4   servicio            26313 non-null  object        \n",
      " 5   responsable         26312 non-null  object        \n",
      " 6   username_resp       26313 non-null  object        \n",
      " 7   usuariofinal        26312 non-null  object        \n",
      " 8   username_ufinal     26313 non-null  object        \n",
      " 9   fecha_creacion      26313 non-null  datetime64[ns]\n",
      " 10  fecha_atencion      26313 non-null  datetime64[ns]\n",
      " 11  fecha_solucion      26313 non-null  datetime64[ns]\n",
      " 12  tiempoTranscurrido  26313 non-null  int64         \n",
      " 13  CUMPLE_ANS          26313 non-null  object        \n",
      "dtypes: datetime64[ns](3), int64(2), object(9)\n",
      "memory usage: 2.8+ MB\n"
     ]
    }
   ],
   "source": [
    "discovery2.info()"
   ]
  },
  {
   "cell_type": "code",
   "execution_count": 59,
   "id": "81c6aa61-b6df-4e8c-941c-c8eb927296f8",
   "metadata": {},
   "outputs": [
    {
     "name": "stdout",
     "output_type": "stream",
     "text": [
      "<class 'pandas.core.frame.DataFrame'>\n",
      "RangeIndex: 2510 entries, 0 to 2509\n",
      "Data columns (total 14 columns):\n",
      " #   Column              Non-Null Count  Dtype         \n",
      "---  ------              --------------  -----         \n",
      " 0   tipo_de_caso        2510 non-null   object        \n",
      " 1   origen_caso         2510 non-null   object        \n",
      " 2   proyecto            2510 non-null   object        \n",
      " 3   numero_caso         2510 non-null   int64         \n",
      " 4   servicio            2510 non-null   object        \n",
      " 5   responsable         2510 non-null   object        \n",
      " 6   username_resp       2510 non-null   object        \n",
      " 7   usuariofinal        2510 non-null   object        \n",
      " 8   username_ufinal     2510 non-null   object        \n",
      " 9   fecha_creacion      2510 non-null   datetime64[ns]\n",
      " 10  fecha_atencion      2510 non-null   datetime64[ns]\n",
      " 11  fecha_solucion      2510 non-null   datetime64[ns]\n",
      " 12  tiempoTranscurrido  2510 non-null   int64         \n",
      " 13  CUMPLE_ANS          2510 non-null   object        \n",
      "dtypes: datetime64[ns](3), int64(2), object(9)\n",
      "memory usage: 274.7+ KB\n"
     ]
    }
   ],
   "source": [
    "#Revisión de los dataframes de Aranda\n",
    "arandaInci.info()"
   ]
  },
  {
   "cell_type": "code",
   "execution_count": 60,
   "id": "05366121-6146-4925-8079-229e885d955c",
   "metadata": {},
   "outputs": [
    {
     "name": "stdout",
     "output_type": "stream",
     "text": [
      "<class 'pandas.core.frame.DataFrame'>\n",
      "RangeIndex: 67 entries, 0 to 66\n",
      "Data columns (total 14 columns):\n",
      " #   Column              Non-Null Count  Dtype         \n",
      "---  ------              --------------  -----         \n",
      " 0   tipo_de_caso        67 non-null     object        \n",
      " 1   origen_caso         67 non-null     object        \n",
      " 2   proyecto            67 non-null     object        \n",
      " 3   numero_caso         67 non-null     int64         \n",
      " 4   servicio            67 non-null     object        \n",
      " 5   responsable         67 non-null     object        \n",
      " 6   username_resp       67 non-null     object        \n",
      " 7   usuariofinal        67 non-null     object        \n",
      " 8   username_ufinal     67 non-null     object        \n",
      " 9   fecha_creacion      67 non-null     datetime64[ns]\n",
      " 10  fecha_atencion      67 non-null     datetime64[ns]\n",
      " 11  fecha_solucion      67 non-null     datetime64[ns]\n",
      " 12  tiempoTranscurrido  67 non-null     int64         \n",
      " 13  CUMPLE_ANS          67 non-null     object        \n",
      "dtypes: datetime64[ns](3), int64(2), object(9)\n",
      "memory usage: 7.5+ KB\n"
     ]
    }
   ],
   "source": [
    "arandaReq.info()"
   ]
  },
  {
   "cell_type": "code",
   "execution_count": 61,
   "id": "5f91a98e-8a25-474e-b9fe-b099462796c8",
   "metadata": {},
   "outputs": [
    {
     "name": "stdout",
     "output_type": "stream",
     "text": [
      "<class 'pandas.core.frame.DataFrame'>\n",
      "RangeIndex: 697 entries, 0 to 696\n",
      "Data columns (total 14 columns):\n",
      " #   Column              Non-Null Count  Dtype         \n",
      "---  ------              --------------  -----         \n",
      " 0   tipo_de_caso        697 non-null    object        \n",
      " 1   origen_caso         697 non-null    object        \n",
      " 2   proyecto            697 non-null    object        \n",
      " 3   numero_caso         697 non-null    int64         \n",
      " 4   servicio            697 non-null    object        \n",
      " 5   responsable         697 non-null    object        \n",
      " 6   username_resp       697 non-null    object        \n",
      " 7   usuariofinal        697 non-null    object        \n",
      " 8   username_ufinal     697 non-null    object        \n",
      " 9   fecha_creacion      697 non-null    datetime64[ns]\n",
      " 10  fecha_atencion      697 non-null    datetime64[ns]\n",
      " 11  fecha_solucion      697 non-null    datetime64[ns]\n",
      " 12  tiempoTranscurrido  697 non-null    int64         \n",
      " 13  CUMPLE_ANS          697 non-null    object        \n",
      "dtypes: datetime64[ns](3), int64(2), object(9)\n",
      "memory usage: 76.4+ KB\n"
     ]
    }
   ],
   "source": [
    "arandaDes.info()"
   ]
  },
  {
   "cell_type": "code",
   "execution_count": 62,
   "id": "0827510e-728b-49ed-b381-4409e5967acb",
   "metadata": {},
   "outputs": [
    {
     "data": {
      "text/plain": [
       "tipo_de_caso          0\n",
       "origen_caso           0\n",
       "proyecto              0\n",
       "numero_caso           0\n",
       "servicio              0\n",
       "responsable           0\n",
       "username_resp         0\n",
       "usuariofinal          0\n",
       "username_ufinal       0\n",
       "fecha_creacion        0\n",
       "fecha_atencion        0\n",
       "fecha_solucion        0\n",
       "tiempoTranscurrido    0\n",
       "CUMPLE_ANS            0\n",
       "dtype: int64"
      ]
     },
     "execution_count": 62,
     "metadata": {},
     "output_type": "execute_result"
    }
   ],
   "source": [
    "#Se valida que la fuente de datos Aranda no contiene data nula o inconsistente\n",
    "arandaDes.isna().sum()"
   ]
  },
  {
   "cell_type": "code",
   "execution_count": 63,
   "id": "63294e63-27e1-4240-839b-ffebd060a26a",
   "metadata": {},
   "outputs": [],
   "source": [
    "arandaDes.to_excel('arandaDes.xlsx')"
   ]
  },
  {
   "cell_type": "markdown",
   "id": "78169c2a-8549-4920-8322-9a1993b3ae37",
   "metadata": {},
   "source": [
    "Lectura de los datos de GLPI en un nuevo dataframe "
   ]
  },
  {
   "cell_type": "code",
   "execution_count": 64,
   "id": "cb233a49-3390-4f27-b341-229652f467f3",
   "metadata": {},
   "outputs": [],
   "source": [
    "glpi = pd.read_csv('GLPI.csv', sep=';', quotechar='\"')"
   ]
  },
  {
   "cell_type": "code",
   "execution_count": 65,
   "id": "4dfd3ea4-15ae-48ea-aa28-350a1fbcc0c8",
   "metadata": {},
   "outputs": [
    {
     "data": {
      "text/plain": [
       "Index(['ID', 'Título', 'Tipo', 'Solicitante - Solicitante',\n",
       "       'Asignado a: - Técnico', 'Estado', 'Categoría', 'Tipo Incidente',\n",
       "       'Aprobación - Estado de aprobación',\n",
       "       'Aprobación - Comentario de la aprobación',\n",
       "       'Asignado a: - Asignado a un proveedor', 'Prioridad',\n",
       "       'Fecha de Apertura', 'Tiempo para adueñarse',\n",
       "       'Estadísticas - Tiempo en atender el servicio',\n",
       "       'Estadísticas - Tiempo de espera', 'Tiempo para poseer excedido',\n",
       "       'Fecha de solución', 'Tiempo de solución',\n",
       "       'Estadísticas - Tiempo de solución', 'Tiempo para resolver excedido',\n",
       "       'Última actualización'],\n",
       "      dtype='object')"
      ]
     },
     "execution_count": 65,
     "metadata": {},
     "output_type": "execute_result"
    }
   ],
   "source": [
    "#identificacion de las columnas del df glpi\n",
    "glpi.columns"
   ]
  },
  {
   "cell_type": "code",
   "execution_count": 66,
   "id": "3efb00ab-95eb-4c84-b8eb-752952b9a8e1",
   "metadata": {},
   "outputs": [
    {
     "data": {
      "text/plain": [
       "(8154, 22)"
      ]
     },
     "execution_count": 66,
     "metadata": {},
     "output_type": "execute_result"
    }
   ],
   "source": [
    "glpi.shape"
   ]
  },
  {
   "cell_type": "code",
   "execution_count": 67,
   "id": "31172b62-6cd1-49c3-9fd9-0e284a06562b",
   "metadata": {},
   "outputs": [],
   "source": [
    "glpi1 = glpi.drop([\n",
    "'Título',\n",
    "'Tipo Incidente',\n",
    "'Aprobación - Estado de aprobación',\n",
    "'Aprobación - Comentario de la aprobación',\n",
    "'Asignado a: - Asignado a un proveedor',\n",
    "'Prioridad',\n",
    "'Estadísticas - Tiempo en atender el servicio',\n",
    "'Estadísticas - Tiempo de espera',\n",
    "'Tiempo para poseer excedido',\n",
    "'Tiempo de solución',\n",
    "#'Unnamed: 22',\n",
    "'Última actualización',\n",
    "    \n",
    "], axis =1)\n",
    "glpi1['Proyecto'] = 'Soporte'\n",
    "glpi1['origen_caso'] = 'GLPI'"
   ]
  },
  {
   "cell_type": "code",
   "execution_count": 68,
   "id": "fbd353df-9cfa-49fb-b024-1696eae8a83a",
   "metadata": {},
   "outputs": [
    {
     "name": "stdout",
     "output_type": "stream",
     "text": [
      "<class 'pandas.core.frame.DataFrame'>\n",
      "RangeIndex: 8154 entries, 0 to 8153\n",
      "Data columns (total 13 columns):\n",
      " #   Column              Non-Null Count  Dtype \n",
      "---  ------              --------------  ----- \n",
      " 0   numero_caso         8154 non-null   int64 \n",
      " 1   tipo_de_caso        8154 non-null   object\n",
      " 2   usuariofinal        8122 non-null   object\n",
      " 3   responsable         8103 non-null   object\n",
      " 4   Estado              8154 non-null   object\n",
      " 5   servicio            8148 non-null   object\n",
      " 6   fecha_creacion      8154 non-null   object\n",
      " 7   fecha_atencion      8152 non-null   object\n",
      " 8   fecha_solucion      8039 non-null   object\n",
      " 9   tiempoTranscurrido  8154 non-null   object\n",
      " 10  CUMPLE_ANS          8154 non-null   object\n",
      " 11  Proyecto            8154 non-null   object\n",
      " 12  origen_caso         8154 non-null   object\n",
      "dtypes: int64(1), object(12)\n",
      "memory usage: 828.3+ KB\n"
     ]
    }
   ],
   "source": [
    "glpi1 = glpi1.rename(columns={\n",
    "    'ID':'numero_caso',\n",
    "    'Tipo':'tipo_de_caso',\n",
    "    'Solicitante - Solicitante':'usuariofinal',\n",
    "    'Asignado a: - Técnico':'responsable',\n",
    "    'Categoría':'servicio',\n",
    "    'Fecha de Apertura':'fecha_creacion',\n",
    "    'Tiempo para adueñarse':'fecha_atencion',\n",
    "    'Fecha de solución':'fecha_solucion',\n",
    "    'Estadísticas - Tiempo de solución':'tiempoTranscurrido',\n",
    "    'Tiempo para resolver excedido':'CUMPLE_ANS'}\n",
    "                    )\n",
    "glpi1.info()"
   ]
  },
  {
   "cell_type": "code",
   "execution_count": 69,
   "id": "cd53e809-8f46-4e5f-9733-2d317530ab64",
   "metadata": {},
   "outputs": [],
   "source": [
    "glpi1.loc[glpi1[\"CUMPLE_ANS\"] == 'Si', \"CUMPLE_ANS\"] =   'NO'\n",
    "glpi1.loc[glpi1[\"CUMPLE_ANS\"] == 'No', \"CUMPLE_ANS\"] =   'SI'"
   ]
  },
  {
   "cell_type": "code",
   "execution_count": 70,
   "id": "6e4d1e8b-902d-4a15-98f1-fd7ce4171291",
   "metadata": {},
   "outputs": [
    {
     "data": {
      "text/html": [
       "<div>\n",
       "<style scoped>\n",
       "    .dataframe tbody tr th:only-of-type {\n",
       "        vertical-align: middle;\n",
       "    }\n",
       "\n",
       "    .dataframe tbody tr th {\n",
       "        vertical-align: top;\n",
       "    }\n",
       "\n",
       "    .dataframe thead th {\n",
       "        text-align: right;\n",
       "    }\n",
       "</style>\n",
       "<table border=\"1\" class=\"dataframe\">\n",
       "  <thead>\n",
       "    <tr style=\"text-align: right;\">\n",
       "      <th></th>\n",
       "      <th>numero_caso</th>\n",
       "      <th>tipo_de_caso</th>\n",
       "      <th>usuariofinal</th>\n",
       "      <th>responsable</th>\n",
       "      <th>Estado</th>\n",
       "      <th>servicio</th>\n",
       "      <th>fecha_creacion</th>\n",
       "      <th>fecha_atencion</th>\n",
       "      <th>fecha_solucion</th>\n",
       "      <th>tiempoTranscurrido</th>\n",
       "      <th>CUMPLE_ANS</th>\n",
       "      <th>Proyecto</th>\n",
       "      <th>origen_caso</th>\n",
       "    </tr>\n",
       "  </thead>\n",
       "  <tbody>\n",
       "    <tr>\n",
       "      <th>8153</th>\n",
       "      <td>8239</td>\n",
       "      <td>Incidencia</td>\n",
       "      <td>Chingate Castañeda Julian Camilo</td>\n",
       "      <td>Triana Sosa Yesid Santiago</td>\n",
       "      <td>En espera</td>\n",
       "      <td>FAG SERVICIOS &gt; MODIFICACION DE DATOS &gt; MODIFI...</td>\n",
       "      <td>22/05/2024 19:53</td>\n",
       "      <td>22/05/2024 20:38</td>\n",
       "      <td>NaN</td>\n",
       "      <td>0 segundos</td>\n",
       "      <td>SI</td>\n",
       "      <td>Soporte</td>\n",
       "      <td>GLPI</td>\n",
       "    </tr>\n",
       "  </tbody>\n",
       "</table>\n",
       "</div>"
      ],
      "text/plain": [
       "      numero_caso tipo_de_caso                      usuariofinal  \\\n",
       "8153         8239   Incidencia  Chingate Castañeda Julian Camilo   \n",
       "\n",
       "                     responsable     Estado  \\\n",
       "8153  Triana Sosa Yesid Santiago  En espera   \n",
       "\n",
       "                                               servicio    fecha_creacion  \\\n",
       "8153  FAG SERVICIOS > MODIFICACION DE DATOS > MODIFI...  22/05/2024 19:53   \n",
       "\n",
       "        fecha_atencion fecha_solucion tiempoTranscurrido CUMPLE_ANS Proyecto  \\\n",
       "8153  22/05/2024 20:38            NaN         0 segundos         SI  Soporte   \n",
       "\n",
       "     origen_caso  \n",
       "8153        GLPI  "
      ]
     },
     "execution_count": 70,
     "metadata": {},
     "output_type": "execute_result"
    }
   ],
   "source": [
    "glpi1.tail(1)"
   ]
  },
  {
   "cell_type": "code",
   "execution_count": 71,
   "id": "f8eed5ca-093b-4ab9-ae30-d9d90f05e7b7",
   "metadata": {},
   "outputs": [],
   "source": [
    "#copia en un nuevo dataframe sin las fechas de solucion vacias; \n",
    "glpi2 = glpi1.dropna(subset=['fecha_solucion'])"
   ]
  },
  {
   "cell_type": "code",
   "execution_count": 72,
   "id": "8c91da42-58a4-4563-8ed2-5040a95a83b3",
   "metadata": {},
   "outputs": [],
   "source": [
    "#lista de usuarios finales que radican tickets del servicio AGROS y FAG para completar datos vacios\n",
    "usuariosFinales = ['CARLOS FABIAN MILLAN SALAZAR','LUIS FRANCISCO MUÑOZ ORTIZ']"
   ]
  },
  {
   "cell_type": "code",
   "execution_count": 73,
   "id": "fc2df3ff-083e-4ff0-9973-bd5ecb831c84",
   "metadata": {},
   "outputs": [],
   "source": [
    "#ajuste de valores inconsistentes en columna usuariofinal\n",
    "glpi2.loc[glpi2[\"usuariofinal\"].isna() & glpi2[\"servicio\"].str.contains('AGROS', na=False), \"usuariofinal\"] =   np.random.choice(usuariosFinales)\n",
    "glpi2.loc[glpi2[\"usuariofinal\"].isna() & glpi2[\"servicio\"].str.contains('FAG', na=False), \"usuariofinal\"] = \"de la Parra Carrasco Nubia Isabel\"\n",
    "glpi2.loc[glpi2[\"usuariofinal\"].isna() & glpi2[\"servicio\"].str.contains('AS400', na=False), \"usuariofinal\"] = \"de la Parra Carrasco Nubia Isabel\"\n",
    "#ajuste de valores inconsistentes en columna responsable\n",
    "glpi2.loc[glpi2[\"responsable\"].isna() & glpi2[\"servicio\"].str.contains('AGROS', na=False), \"responsable\"] =  \"Ricardo Francisco Ortiz Pantoja\"\n",
    "glpi2.loc[glpi2[\"responsable\"].isna() & glpi2[\"servicio\"].str.contains('FAG', na=False), \"responsable\"] = \"Harold Adolfo Mendoza Avendaño\"\n",
    "#Eliminacion ultimos nulos\n",
    "glpi2 = glpi2.dropna(subset=['responsable','fecha_atencion'])"
   ]
  },
  {
   "cell_type": "code",
   "execution_count": 74,
   "id": "a95a5fea-8d0a-4f13-9860-80d5aaada4c5",
   "metadata": {},
   "outputs": [],
   "source": [
    "glpi2.to_excel('glpi2.xlsx')"
   ]
  },
  {
   "cell_type": "code",
   "execution_count": 75,
   "id": "7ce464d7-c54a-4c2e-bc2e-c39f321ef2d0",
   "metadata": {},
   "outputs": [
    {
     "data": {
      "text/plain": [
       "(8030, 13)"
      ]
     },
     "execution_count": 75,
     "metadata": {},
     "output_type": "execute_result"
    }
   ],
   "source": [
    "glpi2.shape"
   ]
  },
  {
   "cell_type": "code",
   "execution_count": 76,
   "id": "b5c9b3ee-23d5-45d4-a93a-585f615b94f0",
   "metadata": {},
   "outputs": [
    {
     "data": {
      "text/plain": [
       "(8025, 13)"
      ]
     },
     "execution_count": 76,
     "metadata": {},
     "output_type": "execute_result"
    }
   ],
   "source": [
    "glpi2 = glpi2.dropna(subset=['servicio'])\n",
    "glpi2.shape"
   ]
  },
  {
   "cell_type": "code",
   "execution_count": 77,
   "id": "0fd91835-7a86-4d96-8075-d2edad04982a",
   "metadata": {},
   "outputs": [
    {
     "data": {
      "text/plain": [
       "numero_caso           0\n",
       "tipo_de_caso          0\n",
       "usuariofinal          0\n",
       "responsable           0\n",
       "Estado                0\n",
       "servicio              0\n",
       "fecha_creacion        0\n",
       "fecha_atencion        0\n",
       "fecha_solucion        0\n",
       "tiempoTranscurrido    0\n",
       "CUMPLE_ANS            0\n",
       "Proyecto              0\n",
       "origen_caso           0\n",
       "dtype: int64"
      ]
     },
     "execution_count": 77,
     "metadata": {},
     "output_type": "execute_result"
    }
   ],
   "source": [
    "glpi2.isna().sum()"
   ]
  },
  {
   "cell_type": "code",
   "execution_count": 78,
   "id": "ae8af699-af4b-4a53-91e3-16dfef63ad47",
   "metadata": {},
   "outputs": [
    {
     "name": "stdout",
     "output_type": "stream",
     "text": [
      "<class 'pandas.core.frame.DataFrame'>\n",
      "Index: 8025 entries, 0 to 8132\n",
      "Data columns (total 13 columns):\n",
      " #   Column              Non-Null Count  Dtype \n",
      "---  ------              --------------  ----- \n",
      " 0   numero_caso         8025 non-null   int64 \n",
      " 1   tipo_de_caso        8025 non-null   object\n",
      " 2   usuariofinal        8025 non-null   object\n",
      " 3   responsable         8025 non-null   object\n",
      " 4   Estado              8025 non-null   object\n",
      " 5   servicio            8025 non-null   object\n",
      " 6   fecha_creacion      8025 non-null   object\n",
      " 7   fecha_atencion      8025 non-null   object\n",
      " 8   fecha_solucion      8025 non-null   object\n",
      " 9   tiempoTranscurrido  8025 non-null   object\n",
      " 10  CUMPLE_ANS          8025 non-null   object\n",
      " 11  Proyecto            8025 non-null   object\n",
      " 12  origen_caso         8025 non-null   object\n",
      "dtypes: int64(1), object(12)\n",
      "memory usage: 877.7+ KB\n"
     ]
    }
   ],
   "source": [
    "glpi2.info()"
   ]
  },
  {
   "cell_type": "code",
   "execution_count": 79,
   "id": "61467b61-f185-4ecd-92d1-0aae9bec8cec",
   "metadata": {},
   "outputs": [
    {
     "name": "stderr",
     "output_type": "stream",
     "text": [
      "C:\\Users\\ferodriguez\\AppData\\Local\\Temp\\ipykernel_6744\\2532489163.py:2: UserWarning: Parsing dates in %d/%m/%Y %H:%M format when dayfirst=False (the default) was specified. Pass `dayfirst=True` or specify a format to silence this warning.\n",
      "  glpi2['fecha_creacion'] = pd.to_datetime(glpi2['fecha_creacion'])\n",
      "C:\\Users\\ferodriguez\\AppData\\Local\\Temp\\ipykernel_6744\\2532489163.py:3: UserWarning: Parsing dates in %d/%m/%Y %H:%M format when dayfirst=False (the default) was specified. Pass `dayfirst=True` or specify a format to silence this warning.\n",
      "  glpi2['fecha_atencion'] = pd.to_datetime(glpi2['fecha_atencion'])\n",
      "C:\\Users\\ferodriguez\\AppData\\Local\\Temp\\ipykernel_6744\\2532489163.py:4: UserWarning: Parsing dates in %d/%m/%Y %H:%M format when dayfirst=False (the default) was specified. Pass `dayfirst=True` or specify a format to silence this warning.\n",
      "  glpi2['fecha_solucion'] = pd.to_datetime(glpi2['fecha_solucion'])\n"
     ]
    }
   ],
   "source": [
    "#conversion de las variables categóricas de fecha a tipo datetime\n",
    "glpi2['fecha_creacion'] = pd.to_datetime(glpi2['fecha_creacion'])\n",
    "glpi2['fecha_atencion'] = pd.to_datetime(glpi2['fecha_atencion'])\n",
    "glpi2['fecha_solucion'] = pd.to_datetime(glpi2['fecha_solucion'])"
   ]
  },
  {
   "cell_type": "code",
   "execution_count": 80,
   "id": "feb3da70-51d9-49a6-8a79-866b689807ae",
   "metadata": {},
   "outputs": [],
   "source": [
    "#eliminacion de los espacios en los numeros de los casos campo numero_caso\n",
    "if glpi2['numero_caso'].dtype == 'object' or isinstance(glpi2['numero_caso'].dtype, pd.StringDtype):\n",
    "    glpi2['numero_caso'] = glpi2['numero_caso'].str.replace(' ', '')\n",
    "glpi2['numero_caso'] = glpi2['numero_caso'].astype(np.int64)"
   ]
  },
  {
   "cell_type": "code",
   "execution_count": 81,
   "id": "75cdb9a6-6039-4f4f-a1df-5a5d82250df0",
   "metadata": {},
   "outputs": [
    {
     "data": {
      "text/html": [
       "<div>\n",
       "<style scoped>\n",
       "    .dataframe tbody tr th:only-of-type {\n",
       "        vertical-align: middle;\n",
       "    }\n",
       "\n",
       "    .dataframe tbody tr th {\n",
       "        vertical-align: top;\n",
       "    }\n",
       "\n",
       "    .dataframe thead th {\n",
       "        text-align: right;\n",
       "    }\n",
       "</style>\n",
       "<table border=\"1\" class=\"dataframe\">\n",
       "  <thead>\n",
       "    <tr style=\"text-align: right;\">\n",
       "      <th></th>\n",
       "      <th>numero_caso</th>\n",
       "      <th>tipo_de_caso</th>\n",
       "      <th>usuariofinal</th>\n",
       "      <th>responsable</th>\n",
       "      <th>Estado</th>\n",
       "      <th>servicio</th>\n",
       "      <th>fecha_creacion</th>\n",
       "      <th>fecha_atencion</th>\n",
       "      <th>fecha_solucion</th>\n",
       "      <th>tiempoTranscurrido</th>\n",
       "      <th>CUMPLE_ANS</th>\n",
       "      <th>Proyecto</th>\n",
       "      <th>origen_caso</th>\n",
       "    </tr>\n",
       "  </thead>\n",
       "  <tbody>\n",
       "    <tr>\n",
       "      <th>0</th>\n",
       "      <td>18</td>\n",
       "      <td>Incidencia</td>\n",
       "      <td>Millan Salazar Carlos Fabian</td>\n",
       "      <td>Davila Parra Lady Lorena</td>\n",
       "      <td>Cerrado</td>\n",
       "      <td>AGROS &gt; MODIFICACION DE DATOS &gt; OPERACIONES NO...</td>\n",
       "      <td>2022-01-18 11:13:00</td>\n",
       "      <td>2022-01-18 11:58:00</td>\n",
       "      <td>2022-01-18 12:47:00</td>\n",
       "      <td>1 horas 34 minutos</td>\n",
       "      <td>SI</td>\n",
       "      <td>Soporte</td>\n",
       "      <td>GLPI</td>\n",
       "    </tr>\n",
       "    <tr>\n",
       "      <th>1</th>\n",
       "      <td>19</td>\n",
       "      <td>Incidencia</td>\n",
       "      <td>Trujillo Patiño Laura M.</td>\n",
       "      <td>Davila Parra Lady Lorena</td>\n",
       "      <td>Cerrado</td>\n",
       "      <td>AGROS &gt; MODIFICACION DE DATOS &gt; SUBSIDIOS VARI...</td>\n",
       "      <td>2022-01-18 14:14:00</td>\n",
       "      <td>2022-01-18 14:59:00</td>\n",
       "      <td>2022-01-18 20:18:00</td>\n",
       "      <td>2 horas 57 minutos</td>\n",
       "      <td>SI</td>\n",
       "      <td>Soporte</td>\n",
       "      <td>GLPI</td>\n",
       "    </tr>\n",
       "    <tr>\n",
       "      <th>2</th>\n",
       "      <td>20</td>\n",
       "      <td>Incidencia</td>\n",
       "      <td>Trujillo Patiño Laura M.</td>\n",
       "      <td>Davila Parra Lady Lorena</td>\n",
       "      <td>Cerrado</td>\n",
       "      <td>AGROS &gt; MODIFICACION DE DATOS &gt; SUBSIDIOS VARI...</td>\n",
       "      <td>2022-01-18 14:18:00</td>\n",
       "      <td>2022-01-18 15:03:00</td>\n",
       "      <td>2022-01-18 20:22:00</td>\n",
       "      <td>2 horas 53 minutos</td>\n",
       "      <td>SI</td>\n",
       "      <td>Soporte</td>\n",
       "      <td>GLPI</td>\n",
       "    </tr>\n",
       "    <tr>\n",
       "      <th>3</th>\n",
       "      <td>21</td>\n",
       "      <td>Incidencia</td>\n",
       "      <td>Trujillo Patiño Laura M.</td>\n",
       "      <td>Davila Parra Lady Lorena</td>\n",
       "      <td>Cerrado</td>\n",
       "      <td>AGROS &gt; MODIFICACION DE DATOS &gt; SUBSIDIOS VARI...</td>\n",
       "      <td>2022-01-18 14:22:00</td>\n",
       "      <td>2022-01-18 15:07:00</td>\n",
       "      <td>2022-01-18 20:22:00</td>\n",
       "      <td>2 horas 50 minutos</td>\n",
       "      <td>SI</td>\n",
       "      <td>Soporte</td>\n",
       "      <td>GLPI</td>\n",
       "    </tr>\n",
       "    <tr>\n",
       "      <th>5</th>\n",
       "      <td>23</td>\n",
       "      <td>Incidencia</td>\n",
       "      <td>Trujillo Patiño Laura M.</td>\n",
       "      <td>Davila Parra Lady Lorena</td>\n",
       "      <td>Cerrado</td>\n",
       "      <td>AGROS &gt; MODIFICACION DE DATOS &gt; SUBSIDIOS VARI...</td>\n",
       "      <td>2022-01-18 14:29:00</td>\n",
       "      <td>2022-01-18 15:14:00</td>\n",
       "      <td>2022-01-18 20:30:00</td>\n",
       "      <td>2 horas 54 minutos</td>\n",
       "      <td>SI</td>\n",
       "      <td>Soporte</td>\n",
       "      <td>GLPI</td>\n",
       "    </tr>\n",
       "  </tbody>\n",
       "</table>\n",
       "</div>"
      ],
      "text/plain": [
       "   numero_caso tipo_de_caso                  usuariofinal  \\\n",
       "0           18   Incidencia  Millan Salazar Carlos Fabian   \n",
       "1           19   Incidencia      Trujillo Patiño Laura M.   \n",
       "2           20   Incidencia      Trujillo Patiño Laura M.   \n",
       "3           21   Incidencia      Trujillo Patiño Laura M.   \n",
       "5           23   Incidencia      Trujillo Patiño Laura M.   \n",
       "\n",
       "                responsable   Estado  \\\n",
       "0  Davila Parra Lady Lorena  Cerrado   \n",
       "1  Davila Parra Lady Lorena  Cerrado   \n",
       "2  Davila Parra Lady Lorena  Cerrado   \n",
       "3  Davila Parra Lady Lorena  Cerrado   \n",
       "5  Davila Parra Lady Lorena  Cerrado   \n",
       "\n",
       "                                            servicio      fecha_creacion  \\\n",
       "0  AGROS > MODIFICACION DE DATOS > OPERACIONES NO... 2022-01-18 11:13:00   \n",
       "1  AGROS > MODIFICACION DE DATOS > SUBSIDIOS VARI... 2022-01-18 14:14:00   \n",
       "2  AGROS > MODIFICACION DE DATOS > SUBSIDIOS VARI... 2022-01-18 14:18:00   \n",
       "3  AGROS > MODIFICACION DE DATOS > SUBSIDIOS VARI... 2022-01-18 14:22:00   \n",
       "5  AGROS > MODIFICACION DE DATOS > SUBSIDIOS VARI... 2022-01-18 14:29:00   \n",
       "\n",
       "       fecha_atencion      fecha_solucion  tiempoTranscurrido CUMPLE_ANS  \\\n",
       "0 2022-01-18 11:58:00 2022-01-18 12:47:00  1 horas 34 minutos         SI   \n",
       "1 2022-01-18 14:59:00 2022-01-18 20:18:00  2 horas 57 minutos         SI   \n",
       "2 2022-01-18 15:03:00 2022-01-18 20:22:00  2 horas 53 minutos         SI   \n",
       "3 2022-01-18 15:07:00 2022-01-18 20:22:00  2 horas 50 minutos         SI   \n",
       "5 2022-01-18 15:14:00 2022-01-18 20:30:00  2 horas 54 minutos         SI   \n",
       "\n",
       "  Proyecto origen_caso  \n",
       "0  Soporte        GLPI  \n",
       "1  Soporte        GLPI  \n",
       "2  Soporte        GLPI  \n",
       "3  Soporte        GLPI  \n",
       "5  Soporte        GLPI  "
      ]
     },
     "execution_count": 81,
     "metadata": {},
     "output_type": "execute_result"
    }
   ],
   "source": [
    "glpi2.head()"
   ]
  },
  {
   "cell_type": "code",
   "execution_count": 82,
   "id": "a417d44e-35a8-4f1e-820f-3aaeccf6b794",
   "metadata": {},
   "outputs": [],
   "source": [
    "def convertir_a_minutos(tiempo_str):\n",
    "    # Expresiones regulares para extraer días, horas y minutos\n",
    "    dias = re.search(r'(\\d+)\\s*d[ií]as?', tiempo_str)\n",
    "    horas = re.search(r'(\\d+)\\s*horas?', tiempo_str)\n",
    "    minutos = re.search(r'(\\d+)\\s*minutos?|min', tiempo_str)\n",
    "    \n",
    "    # Convertir los valores a enteros, o 0 si no están presentes\n",
    "    total_minutos = (int(dias.group(1)) * 1440 if dias else 0) + \\\n",
    "                    (int(horas.group(1)) * 60 if horas else 0) + \\\n",
    "                    (int(minutos.group(1)) if minutos else 0)\n",
    "    return total_minutos\n",
    "\n",
    "# Aplicar la función a la columna 'tiempo'\n",
    "glpi2['tiempoTranscurrido'] = glpi2['tiempoTranscurrido'].apply(convertir_a_minutos)"
   ]
  },
  {
   "cell_type": "code",
   "execution_count": 83,
   "id": "f3b94105-f6f7-4570-a999-d5fd0f21d044",
   "metadata": {},
   "outputs": [],
   "source": [
    "glpi2.to_excel('glpi2.xlsx')"
   ]
  },
  {
   "cell_type": "code",
   "execution_count": 84,
   "id": "e017e0bc-108a-4047-863c-c2d6c78085aa",
   "metadata": {},
   "outputs": [],
   "source": [
    "responsables = pd.DataFrame(glpi2['responsable'].unique())"
   ]
  },
  {
   "cell_type": "code",
   "execution_count": 85,
   "id": "5178c9ac-f0f5-45ad-94fd-ce6738c0de01",
   "metadata": {},
   "outputs": [
    {
     "name": "stdout",
     "output_type": "stream",
     "text": [
      "(78, 1)\n"
     ]
    }
   ],
   "source": [
    "responsables.head()\n",
    "print(responsables.shape)"
   ]
  },
  {
   "cell_type": "code",
   "execution_count": 86,
   "id": "e8cfb3c4-e6d6-4576-9c59-a3e673c1edf4",
   "metadata": {},
   "outputs": [],
   "source": [
    "glpi5 = glpi2.copy()"
   ]
  },
  {
   "cell_type": "code",
   "execution_count": 87,
   "id": "8739c6c5-b276-4f5e-bc7b-7bb60e5752c4",
   "metadata": {},
   "outputs": [],
   "source": [
    "#Teniendo en cuenta que hay casos con mas de un responsable, se toma solo el ultimo responsable\n",
    "#Se define una funcion que divida los caracteres despues del salto de linea (\\n) y retorne solo el ultimo responsable\n",
    "def obtenerResponsable(responsables):\n",
    "    cadena = responsables.split('\\n')\n",
    "    return cadena[-1] if len(cadena) > 1 else responsables"
   ]
  },
  {
   "cell_type": "code",
   "execution_count": 88,
   "id": "52fde570-42dc-456c-8248-47c499cf55d1",
   "metadata": {},
   "outputs": [],
   "source": [
    "#Funcion para reordenar los responsables y usuarios del GLPI ya que la fuente de datos trae estos valores al revés\n",
    "def ordenarResponsables(responsables):\n",
    "    cadena = responsables.split()\n",
    "    if len(cadena) == 6:\n",
    "        resultado = cadena[4:] + cadena[0:4]\n",
    "        resultado = ' '.join(resultado)\n",
    "    elif len(cadena) > 2 and (responsables.lower() != 'CARLOS FABIAN MILLAN SALAZAR'.lower() or responsables != 'Luis Francisco Muñoz Ortiz'.lower() or responsables != 'Carlos Fabian Millan Salazar'.lower()):\n",
    "        resultado = cadena[2:] + cadena[:2]\n",
    "        resultado = ' '.join(resultado)\n",
    "    elif len(cadena) == 2:\n",
    "        resultado = cadena[1] + ' ' + cadena[0]\n",
    "    elif len(cadena) == 5:\n",
    "        resultado = cadena[3:] + cadena[:3]\n",
    "        resultado = ' '.join(resultado)\n",
    "    else:\n",
    "        resultado = responsables\n",
    "    \n",
    "    \n",
    "    return resultado"
   ]
  },
  {
   "cell_type": "code",
   "execution_count": 89,
   "id": "18a7fb35-73b0-4bc4-b52b-ac65affa9118",
   "metadata": {},
   "outputs": [],
   "source": [
    "#ejecucion de función para obtener solamente el responsable principal resolvió el caso\n",
    "glpi5['responsable'] = glpi5['responsable'].apply(obtenerResponsable)\n",
    "#ejecución de función para ordenar los nombres y apellidos de responsables en df GLPI\n",
    "glpi5['responsable'] = glpi5['responsable'].apply(ordenarResponsables)"
   ]
  },
  {
   "cell_type": "code",
   "execution_count": 90,
   "id": "b3ce4e75-45a9-4c63-ac7f-ae643824e3d7",
   "metadata": {},
   "outputs": [],
   "source": [
    "#ejecucion de función para obtener solamente el usuario final principal que escaló el caso\n",
    "glpi5['usuariofinal'] = glpi5['usuariofinal'].apply(obtenerResponsable)\n",
    "#ejecución de función para ordenar los nombres y apellidos de usuarios finales en df GLPI\n",
    "glpi5['usuariofinal'] = glpi5['usuariofinal'].apply(ordenarResponsables)"
   ]
  },
  {
   "cell_type": "code",
   "execution_count": 91,
   "id": "6e92d451-99b2-4114-b3d0-cd7f9dcf6214",
   "metadata": {},
   "outputs": [],
   "source": [
    "#definicion de funcion para seleccionar el nombre del servicio unico (ej: aplicación FAG, AGROS)\n",
    "def seleccionarServicio(servicio):\n",
    "    cadena = servicio.split(' > ')\n",
    "    return cadena[0] if len(cadena) > 1 else servicio"
   ]
  },
  {
   "cell_type": "code",
   "execution_count": 92,
   "id": "816230d2-f16a-45ea-a7a7-a8e99e4080fa",
   "metadata": {},
   "outputs": [],
   "source": [
    "#ejecucion de la funcion seleccionarServicio para \n",
    "glpi5['servicio'] = glpi5['servicio'].apply(seleccionarServicio)"
   ]
  },
  {
   "cell_type": "code",
   "execution_count": 93,
   "id": "c14ca629-b97c-4457-b479-206d5c7acb81",
   "metadata": {},
   "outputs": [],
   "source": [
    "#estandarización del servicio (aplicación) AGROS y FAG\n",
    "glpi5.loc[glpi5[\"servicio\"] == 'FAG RECUPERACIONES', \"servicio\"] = 'FAG SERVICIOS'\n",
    "glpi5.loc[glpi5[\"servicio\"] == 'AGROS QA', \"servicio\"] = 'AGROS'"
   ]
  },
  {
   "cell_type": "code",
   "execution_count": 94,
   "id": "92b5e64e-0bfa-491a-ab46-f52aa6ad5960",
   "metadata": {},
   "outputs": [],
   "source": [
    "glpi5.to_excel('glpi5.xlsx')"
   ]
  },
  {
   "cell_type": "code",
   "execution_count": 95,
   "id": "87b68889-1fc6-4bb8-9c24-b1e8361531d2",
   "metadata": {},
   "outputs": [
    {
     "data": {
      "text/plain": [
       "(8025, 13)"
      ]
     },
     "execution_count": 95,
     "metadata": {},
     "output_type": "execute_result"
    }
   ],
   "source": [
    "glpi5.shape"
   ]
  },
  {
   "cell_type": "code",
   "execution_count": 96,
   "id": "918fb207-40ab-46e5-b7df-6a444ef658ae",
   "metadata": {},
   "outputs": [],
   "source": [
    "glpi5.drop(columns=['Estado'], inplace=True)"
   ]
  },
  {
   "cell_type": "code",
   "execution_count": 97,
   "id": "c86235af-7674-4cb9-ac5a-9e67c2d4074a",
   "metadata": {},
   "outputs": [],
   "source": [
    "glpi5['username_ufinal']= ''\n",
    "glpi5['username_resp'] = ''"
   ]
  },
  {
   "cell_type": "code",
   "execution_count": 98,
   "id": "79dd9eaf-e019-4db5-8835-8ab5bf977ca4",
   "metadata": {},
   "outputs": [
    {
     "name": "stdout",
     "output_type": "stream",
     "text": [
      "<class 'pandas.core.frame.DataFrame'>\n",
      "RangeIndex: 2510 entries, 0 to 2509\n",
      "Data columns (total 14 columns):\n",
      " #   Column              Non-Null Count  Dtype         \n",
      "---  ------              --------------  -----         \n",
      " 0   tipo_de_caso        2510 non-null   object        \n",
      " 1   origen_caso         2510 non-null   object        \n",
      " 2   proyecto            2510 non-null   object        \n",
      " 3   numero_caso         2510 non-null   int64         \n",
      " 4   servicio            2510 non-null   object        \n",
      " 5   responsable         2510 non-null   object        \n",
      " 6   username_resp       2510 non-null   object        \n",
      " 7   usuariofinal        2510 non-null   object        \n",
      " 8   username_ufinal     2510 non-null   object        \n",
      " 9   fecha_creacion      2510 non-null   datetime64[ns]\n",
      " 10  fecha_atencion      2510 non-null   datetime64[ns]\n",
      " 11  fecha_solucion      2510 non-null   datetime64[ns]\n",
      " 12  tiempoTranscurrido  2510 non-null   int64         \n",
      " 13  CUMPLE_ANS          2510 non-null   object        \n",
      "dtypes: datetime64[ns](3), int64(2), object(9)\n",
      "memory usage: 274.7+ KB\n"
     ]
    }
   ],
   "source": [
    "arandaInci.info()"
   ]
  },
  {
   "cell_type": "code",
   "execution_count": 99,
   "id": "ffffb6f8-24bd-4d00-b766-b57a2e7439e8",
   "metadata": {},
   "outputs": [],
   "source": [
    "columnasMaestras = discovery2.columns"
   ]
  },
  {
   "cell_type": "code",
   "execution_count": 100,
   "id": "e1cbcdd1-5522-43ce-8305-9d09ddc6c1e3",
   "metadata": {},
   "outputs": [],
   "source": [
    "glpi5 = glpi5.rename(columns={'Proyecto':'proyecto'})"
   ]
  },
  {
   "cell_type": "code",
   "execution_count": 101,
   "id": "9146448f-2142-4e6e-af6e-311ae023c325",
   "metadata": {},
   "outputs": [],
   "source": [
    "glpi5 = glpi5[columnasMaestras]"
   ]
  },
  {
   "cell_type": "code",
   "execution_count": 102,
   "id": "06eed0df-fce5-494d-b25e-88fa58bdd037",
   "metadata": {},
   "outputs": [
    {
     "name": "stdout",
     "output_type": "stream",
     "text": [
      "<class 'pandas.core.frame.DataFrame'>\n",
      "Index: 8025 entries, 0 to 8132\n",
      "Data columns (total 14 columns):\n",
      " #   Column              Non-Null Count  Dtype         \n",
      "---  ------              --------------  -----         \n",
      " 0   tipo_de_caso        8025 non-null   object        \n",
      " 1   origen_caso         8025 non-null   object        \n",
      " 2   proyecto            8025 non-null   object        \n",
      " 3   numero_caso         8025 non-null   int64         \n",
      " 4   servicio            8025 non-null   object        \n",
      " 5   responsable         8025 non-null   object        \n",
      " 6   username_resp       8025 non-null   object        \n",
      " 7   usuariofinal        8025 non-null   object        \n",
      " 8   username_ufinal     8025 non-null   object        \n",
      " 9   fecha_creacion      8025 non-null   datetime64[ns]\n",
      " 10  fecha_atencion      8025 non-null   datetime64[ns]\n",
      " 11  fecha_solucion      8025 non-null   datetime64[ns]\n",
      " 12  tiempoTranscurrido  8025 non-null   int64         \n",
      " 13  CUMPLE_ANS          8025 non-null   object        \n",
      "dtypes: datetime64[ns](3), int64(2), object(9)\n",
      "memory usage: 940.4+ KB\n"
     ]
    }
   ],
   "source": [
    "glpi5.info()"
   ]
  },
  {
   "cell_type": "code",
   "execution_count": 103,
   "id": "9851ff66-850d-4526-8397-b9a8c98b908a",
   "metadata": {},
   "outputs": [],
   "source": [
    "#Definición de función para llenar los nombres usernames de responsables y usuarios finales en df GLPI\n",
    "def completarUsernames(dataframe, campoEvaluar, campoGLPI, campoAranda, campoUtilizar):\n",
    "    print(datetime.now())\n",
    "    for i, fila, in dataframe.iterrows():        \n",
    "            for j, fila, in arandaUsuarios.iterrows():\n",
    "                valor_aranda = unidecode(arandaUsuarios.loc[j, campoAranda]).lower()\n",
    "                valor_glpi = unidecode(dataframe.loc[i, campoGLPI]).lower()\n",
    "                #if unidecode(arandaUsuarios.loc[j,campoAranda]).lower() == unidecode(dataframe.loc[i ,  campoGLPI]).lower():\n",
    "                if valor_aranda in valor_glpi:\n",
    "                    valorNombre = arandaUsuarios.loc[j, campoUtilizar]\n",
    "                    displayName = arandaUsuarios.loc[j, 'NombreCompleto']\n",
    "                    dataframe.loc[i , campoEvaluar] = valorNombre\n",
    "                    dataframe.loc[i, campoGLPI]= displayName\n",
    "                                   \n",
    "    print(datetime.now())"
   ]
  },
  {
   "cell_type": "code",
   "execution_count": 104,
   "id": "685c3670-efcb-4737-b863-df51f516b07e",
   "metadata": {},
   "outputs": [
    {
     "name": "stdout",
     "output_type": "stream",
     "text": [
      "2024-05-29 10:45:47.937291\n",
      "2024-05-29 11:00:36.406818\n"
     ]
    }
   ],
   "source": [
    "glpi6 = glpi5.copy()\n",
    "#completar usuarios finales\n",
    "completarUsernames(glpi6, 'username_ufinal', 'usuariofinal', 'NombreCompleto','username')"
   ]
  },
  {
   "cell_type": "code",
   "execution_count": 105,
   "id": "5d284873-c07c-4fb6-b5a1-815f9551435f",
   "metadata": {},
   "outputs": [],
   "source": [
    "#Estandarización de usuarios inconsistentes de la fuente de origen con respecto a nombres y apellidos\n",
    "glpi6.loc[glpi6[\"usuariofinal\"] == \"Luis Francisco Muñoz Ortiz\", [\"usuariofinal\",\"username_ufinal\"]] = ['Luis Francisco Muñoz','lmunoz']\n",
    "glpi6.loc[glpi6[\"usuariofinal\"] == \"Angiee Lorena Martinez Hormanza\", [\"usuariofinal\",\"username_ufinal\"]] = ['Angiee Lorena Martinez Hormanza','anlomartinez']\n",
    "glpi6.loc[glpi6[\"usuariofinal\"] == \"Astrid Alicia Gutiérrez Perez\", [\"usuariofinal\",\"username_ufinal\"]] = ['Astrid Gutierrez','agutierrez']\n",
    "glpi6.loc[glpi6[\"usuariofinal\"] == \"Augusto Tovar Cesar\", [\"usuariofinal\",\"username_ufinal\"]] = ['Cesar Augusto Tovar','ctovar']\n",
    "glpi6.loc[glpi6[\"usuariofinal\"] == \"Eduardo Guerra\", [\"usuariofinal\",\"username_ufinal\"]] = ['Eduardo A. Guerra Rivera','eduardo_guerra']\n",
    "glpi6.loc[glpi6[\"usuariofinal\"] == \"Ivette Liliana Rios Polanía\", [\"usuariofinal\",\"username_ufinal\"]] = ['Ivette Rios Polania','irios']\n",
    "glpi6.loc[glpi6[\"usuariofinal\"] == \"Jenny Maryeth Borbon López\", [\"usuariofinal\",\"username_ufinal\"]] = ['Jenny Borbon','jborbon']\n",
    "glpi6.loc[glpi6[\"usuariofinal\"] == \"Maryluz Cortes Olarte\", [\"usuariofinal\",\"username_ufinal\"]] = ['Jenny Borbon','molarte']\n",
    "glpi6.loc[glpi6[\"usuariofinal\"] == \"Mauricio Dominguez\", [\"usuariofinal\",\"username_ufinal\"]] = ['Daniel Mauricio Dominguez','daniel_dominguez']\n",
    "glpi6.loc[glpi6[\"usuariofinal\"] == \"Nubia Isabel de la Parra Carrasco\", [\"usuariofinal\",\"username_ufinal\"]] = ['Nubia Isabel DeLaParra Carrasco','nparra']\n",
    "glpi6.loc[glpi6[\"usuariofinal\"] == \"Omar Dario Yepes Cardona\", [\"usuariofinal\",\"username_ufinal\"]] = ['Omar Dario Yepes Cardona','omar_yepes']\n",
    "glpi6.loc[glpi6[\"usuariofinal\"] == \"Parra Dávila\", [\"usuariofinal\",\"username_ufinal\"]] = ['Lady Lorena Davila Parra','lady_davila']\n",
    "glpi6.loc[glpi6[\"usuariofinal\"] == \"Victor Alfonso Diaz León\", [\"usuariofinal\",\"username_ufinal\"]] = ['Victor Alonso Diaz Leon','vdiaz']\n"
   ]
  },
  {
   "cell_type": "code",
   "execution_count": 169,
   "id": "2431f053-503f-4943-a80e-ecb0923bcf98",
   "metadata": {},
   "outputs": [
    {
     "name": "stdout",
     "output_type": "stream",
     "text": [
      "2024-05-29 12:40:50.005792\n",
      "2024-05-29 12:53:19.411984\n"
     ]
    }
   ],
   "source": [
    "#mediante la funcion completarUsernames llenar la lista de nombres de usuario y username AD de los responsables de los casos\n",
    "completarUsernames(glpi6, 'username_resp', 'responsable', 'NombreCompleto','username')"
   ]
  },
  {
   "cell_type": "code",
   "execution_count": 171,
   "id": "166884de-48bd-4fa4-86b8-62f41a138d32",
   "metadata": {},
   "outputs": [],
   "source": [
    "#Estandarización de usuarios responsables inconsistentes desde la fuente de origen con respecto a nombres y apellidos\n",
    "glpi6.loc[glpi6[\"responsable\"] == \"Victor Alfonso Diaz León\", [\"responsable\",\"username_resp\"]] = ['Victor Alonso Diaz Leon','vdiaz']\n",
    "glpi6.loc[glpi6[\"responsable\"] == \"Angie Viviana Roncancio Pinzon\", [\"responsable\",\"username_resp\"]] = ['Angie Viviana Roncancio Pinzon','angie_roncancio']\n",
    "glpi6.loc[glpi6[\"responsable\"] == \"Eduardo Guerra\", [\"responsable\",\"username_resp\"]] = ['Eduardo A. Guerra Rivera','eduardo_guerra']\n",
    "glpi6.loc[glpi6[\"responsable\"] == \"Erik Esneider Vasquez Patino\", [\"responsable\",\"username_resp\"]] = ['Erik Esneider Vasquez Patino','erik_patino']\n",
    "glpi6.loc[glpi6[\"responsable\"] == \"Fabián Aleán\", [\"responsable\",\"username_resp\"]] = ['Fabian Javier Alean Peña','fabian_alean']\n",
    "glpi6.loc[glpi6[\"responsable\"] == \"José Raúl Pulido Tique\", [\"responsable\",\"username_resp\"]] = ['Jose R. Pulido Tique','jose_pulido']\n",
    "glpi6.loc[glpi6[\"responsable\"] == \"Libardo Castillo\", [\"responsable\",\"username_resp\"]] = ['Libardo Castillo Marin','libardo_castillo']\n",
    "glpi6.loc[glpi6[\"responsable\"] == \"Marisol Nieto\", [\"responsable\",\"username_resp\"]] = ['Marisol Nieto Gutierrez','marisol_nieto']\n",
    "glpi6.loc[glpi6[\"responsable\"] == \"Mauricio Dominguez\", [\"responsable\",\"username_resp\"]] = ['Daniel Mauricio Dominguez','daniel_dominguez']\n",
    "glpi6.loc[glpi6[\"responsable\"] == \"Mendoza Avendaño Harold Adolfo\", [\"responsable\",\"username_resp\"]] = ['Harold Adolfo Mendoza Avendaño','hamendoza']\n",
    "glpi6.loc[glpi6[\"responsable\"] == \"Orlando Bolanos\", [\"responsable\",\"username_resp\"]] = ['Orlando Bolanos','orlando_bolanos']\n",
    "glpi6.loc[glpi6[\"responsable\"] == \"Ortiz Pantoja Ricardo Francisco\", [\"responsable\",\"username_resp\"]] = ['Ricardo Francisco Ortiz Pantoja','rfortiz']\n",
    "glpi6.loc[glpi6[\"responsable\"] == \"Parra Dávila\", [\"responsable\",\"username_resp\"]] = ['Lady Lorena Davila Parra','lady_davila']\n",
    "glpi6.loc[glpi6[\"responsable\"] == \"Victor Alfonso Ruiz Garcia\", [\"responsable\",\"username_resp\"]] = ['Victor Alfonso Ruiz Garcia','victor_ruiz']"
   ]
  },
  {
   "cell_type": "code",
   "execution_count": 172,
   "id": "778d2277-9a9c-48ad-acd7-d33cbf5781c2",
   "metadata": {},
   "outputs": [],
   "source": [
    "# Ejemplo de definición de función para llenar los nombres de usuarios responsables y usuarios finales en el DataFrame GLPI\n",
    "def completarUsernames1(dataframe, arandaUsuarios, campoEvaluar, campoGLPI, campoAranda, campoUtilizar):\n",
    "    print(datetime.now())\n",
    "    for i, fila_glpi in dataframe.iterrows():\n",
    "        for j, fila_aranda in arandaUsuarios.iterrows():\n",
    "            valor_aranda = unidecode(arandaUsuarios.loc[j, campoAranda]).lower()\n",
    "            valor_glpi = unidecode(dataframe.loc[i, campoGLPI]).lower()\n",
    "            \n",
    "            # Comparar si valor_aranda está contenido en valor_glpi y si campoEvaluar está vacío o contiene solo espacios\n",
    "            if (dataframe.loc[i, campoEvaluar] == '' or dataframe.loc[i, campoEvaluar].isspace()) and valor_aranda in valor_glpi:\n",
    "                valorNombre = arandaUsuarios.loc[j, campoUtilizar]\n",
    "                displayName = arandaUsuarios.loc[j, 'NombreCompleto']\n",
    "                dataframe.loc[i, campoEvaluar] = valorNombre\n",
    "                dataframe.loc[i, campoGLPI] = displayName\n",
    "    print(datetime.now())\n"
   ]
  },
  {
   "cell_type": "code",
   "execution_count": 173,
   "id": "f2c7b79c-25b9-45d8-a7ac-40b1cca08292",
   "metadata": {},
   "outputs": [
    {
     "data": {
      "text/html": [
       "<div>\n",
       "<style scoped>\n",
       "    .dataframe tbody tr th:only-of-type {\n",
       "        vertical-align: middle;\n",
       "    }\n",
       "\n",
       "    .dataframe tbody tr th {\n",
       "        vertical-align: top;\n",
       "    }\n",
       "\n",
       "    .dataframe thead th {\n",
       "        text-align: right;\n",
       "    }\n",
       "</style>\n",
       "<table border=\"1\" class=\"dataframe\">\n",
       "  <thead>\n",
       "    <tr style=\"text-align: right;\">\n",
       "      <th></th>\n",
       "      <th>tipo_de_caso</th>\n",
       "      <th>origen_caso</th>\n",
       "      <th>proyecto</th>\n",
       "      <th>numero_caso</th>\n",
       "      <th>servicio</th>\n",
       "      <th>responsable</th>\n",
       "      <th>username_resp</th>\n",
       "      <th>usuariofinal</th>\n",
       "      <th>username_ufinal</th>\n",
       "      <th>fecha_creacion</th>\n",
       "      <th>fecha_atencion</th>\n",
       "      <th>fecha_solucion</th>\n",
       "      <th>tiempoTranscurrido</th>\n",
       "      <th>CUMPLE_ANS</th>\n",
       "    </tr>\n",
       "  </thead>\n",
       "  <tbody>\n",
       "    <tr>\n",
       "      <th>0</th>\n",
       "      <td>Incidente</td>\n",
       "      <td>GLPI</td>\n",
       "      <td>Soporte</td>\n",
       "      <td>18</td>\n",
       "      <td>AGROS</td>\n",
       "      <td>Lady Lorena Davila Parra</td>\n",
       "      <td>lady_davila</td>\n",
       "      <td>Carlos Fabian Millan Salazar</td>\n",
       "      <td>cmillan</td>\n",
       "      <td>2022-01-18 11:13:00</td>\n",
       "      <td>2022-01-18 11:58:00</td>\n",
       "      <td>2022-01-18 12:47:00</td>\n",
       "      <td>94</td>\n",
       "      <td>SI</td>\n",
       "    </tr>\n",
       "    <tr>\n",
       "      <th>1</th>\n",
       "      <td>Incidente</td>\n",
       "      <td>GLPI</td>\n",
       "      <td>Soporte</td>\n",
       "      <td>19</td>\n",
       "      <td>AGROS</td>\n",
       "      <td>Lady Lorena Davila Parra</td>\n",
       "      <td>lady_davila</td>\n",
       "      <td>Laura M. Trujillo Patiño</td>\n",
       "      <td>lmtrujillo</td>\n",
       "      <td>2022-01-18 14:14:00</td>\n",
       "      <td>2022-01-18 14:59:00</td>\n",
       "      <td>2022-01-18 20:18:00</td>\n",
       "      <td>177</td>\n",
       "      <td>SI</td>\n",
       "    </tr>\n",
       "    <tr>\n",
       "      <th>2</th>\n",
       "      <td>Incidente</td>\n",
       "      <td>GLPI</td>\n",
       "      <td>Soporte</td>\n",
       "      <td>20</td>\n",
       "      <td>AGROS</td>\n",
       "      <td>Lady Lorena Davila Parra</td>\n",
       "      <td>lady_davila</td>\n",
       "      <td>Laura M. Trujillo Patiño</td>\n",
       "      <td>lmtrujillo</td>\n",
       "      <td>2022-01-18 14:18:00</td>\n",
       "      <td>2022-01-18 15:03:00</td>\n",
       "      <td>2022-01-18 20:22:00</td>\n",
       "      <td>173</td>\n",
       "      <td>SI</td>\n",
       "    </tr>\n",
       "    <tr>\n",
       "      <th>3</th>\n",
       "      <td>Incidente</td>\n",
       "      <td>GLPI</td>\n",
       "      <td>Soporte</td>\n",
       "      <td>21</td>\n",
       "      <td>AGROS</td>\n",
       "      <td>Lady Lorena Davila Parra</td>\n",
       "      <td>lady_davila</td>\n",
       "      <td>Laura M. Trujillo Patiño</td>\n",
       "      <td>lmtrujillo</td>\n",
       "      <td>2022-01-18 14:22:00</td>\n",
       "      <td>2022-01-18 15:07:00</td>\n",
       "      <td>2022-01-18 20:22:00</td>\n",
       "      <td>170</td>\n",
       "      <td>SI</td>\n",
       "    </tr>\n",
       "    <tr>\n",
       "      <th>4</th>\n",
       "      <td>Incidente</td>\n",
       "      <td>GLPI</td>\n",
       "      <td>Soporte</td>\n",
       "      <td>23</td>\n",
       "      <td>AGROS</td>\n",
       "      <td>Lady Lorena Davila Parra</td>\n",
       "      <td>lady_davila</td>\n",
       "      <td>Laura M. Trujillo Patiño</td>\n",
       "      <td>lmtrujillo</td>\n",
       "      <td>2022-01-18 14:29:00</td>\n",
       "      <td>2022-01-18 15:14:00</td>\n",
       "      <td>2022-01-18 20:30:00</td>\n",
       "      <td>174</td>\n",
       "      <td>SI</td>\n",
       "    </tr>\n",
       "  </tbody>\n",
       "</table>\n",
       "</div>"
      ],
      "text/plain": [
       "  tipo_de_caso origen_caso proyecto  numero_caso servicio  \\\n",
       "0    Incidente        GLPI  Soporte           18    AGROS   \n",
       "1    Incidente        GLPI  Soporte           19    AGROS   \n",
       "2    Incidente        GLPI  Soporte           20    AGROS   \n",
       "3    Incidente        GLPI  Soporte           21    AGROS   \n",
       "4    Incidente        GLPI  Soporte           23    AGROS   \n",
       "\n",
       "                responsable username_resp                  usuariofinal  \\\n",
       "0  Lady Lorena Davila Parra   lady_davila  Carlos Fabian Millan Salazar   \n",
       "1  Lady Lorena Davila Parra   lady_davila      Laura M. Trujillo Patiño   \n",
       "2  Lady Lorena Davila Parra   lady_davila      Laura M. Trujillo Patiño   \n",
       "3  Lady Lorena Davila Parra   lady_davila      Laura M. Trujillo Patiño   \n",
       "4  Lady Lorena Davila Parra   lady_davila      Laura M. Trujillo Patiño   \n",
       "\n",
       "  username_ufinal      fecha_creacion      fecha_atencion      fecha_solucion  \\\n",
       "0         cmillan 2022-01-18 11:13:00 2022-01-18 11:58:00 2022-01-18 12:47:00   \n",
       "1      lmtrujillo 2022-01-18 14:14:00 2022-01-18 14:59:00 2022-01-18 20:18:00   \n",
       "2      lmtrujillo 2022-01-18 14:18:00 2022-01-18 15:03:00 2022-01-18 20:22:00   \n",
       "3      lmtrujillo 2022-01-18 14:22:00 2022-01-18 15:07:00 2022-01-18 20:22:00   \n",
       "4      lmtrujillo 2022-01-18 14:29:00 2022-01-18 15:14:00 2022-01-18 20:30:00   \n",
       "\n",
       "   tiempoTranscurrido CUMPLE_ANS  \n",
       "0                  94         SI  \n",
       "1                 177         SI  \n",
       "2                 173         SI  \n",
       "3                 170         SI  \n",
       "4                 174         SI  "
      ]
     },
     "execution_count": 173,
     "metadata": {},
     "output_type": "execute_result"
    }
   ],
   "source": [
    "glpi6.head()"
   ]
  },
  {
   "cell_type": "code",
   "execution_count": 174,
   "id": "dbef0c86-304c-4af4-a4cb-a86af7125120",
   "metadata": {},
   "outputs": [],
   "source": [
    "glpi6.loc[glpi6[\"tipo_de_caso\"] == 'Incidencia', \"tipo_de_caso\"] =   'Incidente'"
   ]
  },
  {
   "cell_type": "code",
   "execution_count": 175,
   "id": "5890d09b-4d4c-41ce-bce6-044a1c185237",
   "metadata": {},
   "outputs": [],
   "source": [
    "glpi6.to_excel('glpi6.xlsx')"
   ]
  },
  {
   "cell_type": "code",
   "execution_count": 176,
   "id": "82099489-29a8-4931-bb13-891fc2b8f896",
   "metadata": {},
   "outputs": [
    {
     "name": "stderr",
     "output_type": "stream",
     "text": [
      "C:\\Users\\ferodriguez\\AppData\\Local\\miniconda3\\envs\\lapby\\Lib\\site-packages\\openpyxl\\worksheet\\_reader.py:329: UserWarning: Data Validation extension is not supported and will be removed\n",
      "  warn(msg)\n"
     ]
    }
   ],
   "source": [
    "geus = pd.read_excel('GEUS.xlsx')"
   ]
  },
  {
   "cell_type": "code",
   "execution_count": 177,
   "id": "659695c9-b95e-4f5f-9f0e-be1e8c9f1090",
   "metadata": {},
   "outputs": [],
   "source": [
    "geus.rename(columns={'Fecha de creación':'fecha_creacion',\n",
    "                    'Fecha de modificación':'fecha_atencion',\n",
    "                    '(No modificar) Fecha de modificación':'fecha_solucion',\n",
    "                    'Autor':'usuariofinal',\n",
    "                     'Tipo de Requerimiento':'servicio',\n",
    "                     'Número de solicitud':'numero_caso',\n",
    "                     'Usuario que Gestiona':'responsable',\n",
    "                          }, inplace=True)"
   ]
  },
  {
   "cell_type": "code",
   "execution_count": 178,
   "id": "127227c7-7924-49e7-8780-e242754515ae",
   "metadata": {},
   "outputs": [],
   "source": [
    "#Agregación de campos requeridos para la posterior contatenación\n",
    "geus['tipo_de_caso'] = 'Requerimiento'\n",
    "geus['origen_caso'] = 'GEUS'\n",
    "geus['proyecto'] = 'Soporte'\n",
    "geus['CUMPLE_ANS'] = 'SI'"
   ]
  },
  {
   "cell_type": "code",
   "execution_count": 179,
   "id": "14a7340c-70eb-4f51-bf95-0595e6c16188",
   "metadata": {},
   "outputs": [],
   "source": [
    "#Agregar una columna tiempoTranscurrido restando la diferencia entre la fecha de solución y la fecha de creación \n",
    "#usando la funcion dt.seconds y pasandolo a minutos\n",
    "geus['tiempoTranscurrido'] = (geus['fecha_solucion'] - geus['fecha_atencion']).dt.total_seconds() / 60"
   ]
  },
  {
   "cell_type": "code",
   "execution_count": 180,
   "id": "de570dc8-9041-46bf-bbc9-41409acfdb74",
   "metadata": {},
   "outputs": [],
   "source": [
    "#eliminación de las filas con responsable nulo, ya que no existe un criterio que se pueda utilizar para completar los datos\n",
    "geus.dropna(subset=['responsable'], inplace=True)"
   ]
  },
  {
   "cell_type": "code",
   "execution_count": 181,
   "id": "d3175ab5-5f14-4c4b-93d0-1e17db01e5dd",
   "metadata": {},
   "outputs": [],
   "source": [
    "#conversión del campo de tiempo transcurrido de string a int\n",
    "geus['tiempoTranscurrido'] = geus['tiempoTranscurrido'].astype(str)\n",
    "geus['tiempoTranscurrido'] = '300'\n",
    "geus['tiempoTranscurrido'] = geus['tiempoTranscurrido'].astype(np.int64)"
   ]
  },
  {
   "cell_type": "code",
   "execution_count": 182,
   "id": "60b9f277-796d-441f-8650-531d3f42411d",
   "metadata": {},
   "outputs": [],
   "source": [
    "#se genera copia para trabajar con geus1 sin dañar la data original<\n",
    "geus1 = geus.copy()"
   ]
  },
  {
   "cell_type": "code",
   "execution_count": 183,
   "id": "3be7fbc5-fc9f-4e6e-86c6-d52f4f883ed0",
   "metadata": {},
   "outputs": [],
   "source": [
    "#eliminacion de los caracteres 'SO-'\n",
    "geus1['numero_caso'] = geus1['numero_caso'].astype(str)\n",
    "geus1['numero_caso'] = geus1['numero_caso'].str.replace('SO-','', regex=False)\n",
    "#se convierte el campo numero_caso a tipo entero\n",
    "geus1['numero_caso'] = geus1['numero_caso'].astype(np.int64)"
   ]
  },
  {
   "cell_type": "code",
   "execution_count": 184,
   "id": "a04f96f8-1009-46a7-9b4a-e9148fa06568",
   "metadata": {},
   "outputs": [],
   "source": [
    "#Se agregan las columnas pendientes para los usuarios AD de GEUS\n",
    "geus1['username_ufinal'] = ''\n",
    "geus1['username_resp'] = ''\n",
    "geus1.rename(columns={'Proyecto':'proyecto'}, inplace=True)"
   ]
  },
  {
   "cell_type": "code",
   "execution_count": 185,
   "id": "fb0ce957-e707-4587-b7ea-51b5030ebef7",
   "metadata": {},
   "outputs": [],
   "source": [
    "#reordenamiento de las columnas del df geus1\n",
    "geus1 = geus1[columnasMaestras]"
   ]
  },
  {
   "cell_type": "code",
   "execution_count": 186,
   "id": "290d704f-eef1-4c91-944a-cc35771b7023",
   "metadata": {},
   "outputs": [
    {
     "name": "stdout",
     "output_type": "stream",
     "text": [
      "<class 'pandas.core.frame.DataFrame'>\n",
      "Index: 821 entries, 1 to 1759\n",
      "Data columns (total 14 columns):\n",
      " #   Column              Non-Null Count  Dtype         \n",
      "---  ------              --------------  -----         \n",
      " 0   tipo_de_caso        821 non-null    object        \n",
      " 1   origen_caso         821 non-null    object        \n",
      " 2   proyecto            821 non-null    object        \n",
      " 3   numero_caso         821 non-null    int64         \n",
      " 4   servicio            731 non-null    object        \n",
      " 5   responsable         821 non-null    object        \n",
      " 6   username_resp       821 non-null    object        \n",
      " 7   usuariofinal        821 non-null    object        \n",
      " 8   username_ufinal     821 non-null    object        \n",
      " 9   fecha_creacion      821 non-null    datetime64[ns]\n",
      " 10  fecha_atencion      821 non-null    datetime64[ns]\n",
      " 11  fecha_solucion      821 non-null    datetime64[ns]\n",
      " 12  tiempoTranscurrido  821 non-null    int64         \n",
      " 13  CUMPLE_ANS          821 non-null    object        \n",
      "dtypes: datetime64[ns](3), int64(2), object(9)\n",
      "memory usage: 96.2+ KB\n"
     ]
    }
   ],
   "source": [
    "geus1.info()"
   ]
  },
  {
   "cell_type": "code",
   "execution_count": 187,
   "id": "2dade632-45c7-49ed-bb4f-0cd095471b2b",
   "metadata": {},
   "outputs": [],
   "source": [
    "#definicion de función para llenar los usuarios de directorio activo para responsable y usuario final en GEUS\n",
    "def completarUsernamesGEUS(dataframe, campoEvaluar, campoGEUS, campoAranda, campoUtilizar):\n",
    "    print(datetime.now())\n",
    "    for i, fila, in dataframe.iterrows():        \n",
    "            for j, fila, in arandaUsuarios.iterrows():\n",
    "                valor_aranda = unidecode(arandaUsuarios.loc[j, campoAranda]).lower()\n",
    "                valor_glpi = unidecode(dataframe.loc[i, campoGEUS]).lower()\n",
    "                #if unidecode(arandaUsuarios.loc[j,campoAranda]).lower() == unidecode(dataframe.loc[i ,  campoGEUS]).lower():\n",
    "                if valor_aranda in valor_glpi:\n",
    "                    valorNombre = arandaUsuarios.loc[j, campoUtilizar]\n",
    "                    #displayName = arandaUsuarios.loc[j, 'NombreCompleto']\n",
    "                    dataframe.loc[i , campoEvaluar] = valorNombre\n",
    "                    #dataframe.loc[i, campoGEUS]= displayName\n",
    "                                   \n",
    "    print(datetime.now())"
   ]
  },
  {
   "cell_type": "code",
   "execution_count": 188,
   "id": "a85aca52-eae6-4874-9cb6-1b00836d9797",
   "metadata": {},
   "outputs": [
    {
     "name": "stdout",
     "output_type": "stream",
     "text": [
      "2024-05-29 12:59:42.669987\n",
      "2024-05-29 13:01:13.605725\n"
     ]
    }
   ],
   "source": [
    "#ejecución de la función para usuarios finales\n",
    "completarUsernamesGEUS(geus1, 'username_ufinal', 'usuariofinal', 'NombreCompleto', 'username')"
   ]
  },
  {
   "cell_type": "code",
   "execution_count": 189,
   "id": "86276c9d-62c8-4145-9180-d7cda78a104b",
   "metadata": {},
   "outputs": [
    {
     "name": "stdout",
     "output_type": "stream",
     "text": [
      "2024-05-29 13:03:16.047011\n",
      "2024-05-29 13:04:41.340460\n"
     ]
    }
   ],
   "source": [
    "#ejecución de la función para responsables\n",
    "completarUsernamesGEUS(geus1, 'username_resp', 'responsable', 'NombreCompleto', 'username')"
   ]
  },
  {
   "cell_type": "code",
   "execution_count": 190,
   "id": "d0705275-9010-43c4-bcaf-9df80968b67f",
   "metadata": {},
   "outputs": [
    {
     "data": {
      "text/plain": [
       "tipo_de_caso           0\n",
       "origen_caso            0\n",
       "proyecto               0\n",
       "numero_caso            0\n",
       "servicio              90\n",
       "responsable            0\n",
       "username_resp          0\n",
       "usuariofinal           0\n",
       "username_ufinal        0\n",
       "fecha_creacion         0\n",
       "fecha_atencion         0\n",
       "fecha_solucion         0\n",
       "tiempoTranscurrido     0\n",
       "CUMPLE_ANS             0\n",
       "dtype: int64"
      ]
     },
     "execution_count": 190,
     "metadata": {},
     "output_type": "execute_result"
    }
   ],
   "source": [
    "#validacion de datos nulos\n",
    "geus1.isna().sum()"
   ]
  },
  {
   "cell_type": "code",
   "execution_count": 191,
   "id": "da77083a-12e0-4b02-b932-d9cae30baae8",
   "metadata": {},
   "outputs": [],
   "source": [
    "#ajuste ultimos usuarios inconsistentes de username\n",
    "geus1.loc[geus1[\"usuariofinal\"] == 'Jenny Maryeth Borbon López', \"username_ufinal\"] = 'jborbon'\n",
    "geus1.loc[geus1[\"usuariofinal\"] == 'Angela María Pardo Ramirez', \"username_ufinal\"] = 'apardo'\n",
    "geus1.loc[geus1[\"responsable\"] == 'Angela María Pardo Ramirez', \"username_resp\"] = 'apardo'\n",
    "geus1.loc[geus1[\"usuariofinal\"] == 'Victor Alfonso Diaz León', \"username_ufinal\"] = 'vdiaz'"
   ]
  },
  {
   "cell_type": "code",
   "execution_count": 192,
   "id": "a4de6830-2724-4615-a6e0-f552881ec379",
   "metadata": {},
   "outputs": [],
   "source": [
    "#exportacion del \n",
    "geus1.to_excel('geus1.xlsx')"
   ]
  },
  {
   "cell_type": "code",
   "execution_count": 193,
   "id": "6b10ea52-8104-4a13-8820-93b0e3c3635f",
   "metadata": {},
   "outputs": [],
   "source": [
    "#preparacion de los dataframes resultantes finales para la concatenación\n",
    "arandadf = pd.concat([arandaDes, arandaReq, arandaInci], ignore_index=True)"
   ]
  },
  {
   "cell_type": "code",
   "execution_count": 194,
   "id": "fa90f629-2340-45a1-82c2-aa2ab738bc33",
   "metadata": {},
   "outputs": [
    {
     "data": {
      "text/plain": [
       "(3274, 14)"
      ]
     },
     "execution_count": 194,
     "metadata": {},
     "output_type": "execute_result"
    }
   ],
   "source": [
    "arandadf.shape"
   ]
  },
  {
   "cell_type": "code",
   "execution_count": 195,
   "id": "e63a990f-d2e4-457a-8b09-6869dda65adb",
   "metadata": {},
   "outputs": [],
   "source": [
    "#reset index de los df discovery2, glpi6, geus1\n",
    "geus1 = geus1.reset_index(drop=True)\n",
    "glpi6 = glpi6.reset_index(drop=True)\n",
    "discovery2 = discovery2.reset_index(drop=True)"
   ]
  },
  {
   "cell_type": "code",
   "execution_count": 196,
   "id": "d940fa76-7ab3-4355-9514-a95caf0106fd",
   "metadata": {},
   "outputs": [],
   "source": [
    "indicadores = pd.concat([discovery2, arandadf, glpi6, geus1], ignore_index=True)"
   ]
  },
  {
   "cell_type": "code",
   "execution_count": 197,
   "id": "7b80b21f-4969-4362-8bde-495e121a6fb8",
   "metadata": {},
   "outputs": [
    {
     "data": {
      "text/plain": [
       "tipo_de_caso              4\n",
       "origen_caso               4\n",
       "proyecto                  2\n",
       "numero_caso           31429\n",
       "servicio                130\n",
       "responsable              72\n",
       "username_resp            94\n",
       "usuariofinal            648\n",
       "username_ufinal         655\n",
       "fecha_creacion        38319\n",
       "fecha_atencion        37578\n",
       "fecha_solucion        37865\n",
       "tiempoTranscurrido     5008\n",
       "CUMPLE_ANS                2\n",
       "dtype: int64"
      ]
     },
     "execution_count": 197,
     "metadata": {},
     "output_type": "execute_result"
    }
   ],
   "source": [
    "indicadores.nunique()"
   ]
  },
  {
   "cell_type": "code",
   "execution_count": 198,
   "id": "43ccefeb-e62e-49df-8862-df1896959a9b",
   "metadata": {},
   "outputs": [
    {
     "data": {
      "text/plain": [
       "(38433, 14)"
      ]
     },
     "execution_count": 198,
     "metadata": {},
     "output_type": "execute_result"
    }
   ],
   "source": [
    "indicadores.shape"
   ]
  },
  {
   "cell_type": "code",
   "execution_count": 199,
   "id": "10035269-f959-4b7b-9511-a79fbf8a12d0",
   "metadata": {},
   "outputs": [],
   "source": [
    "indicadores.to_excel('indicadores.xlsx')"
   ]
  },
  {
   "cell_type": "code",
   "execution_count": 200,
   "id": "ec792c27-dfcc-43f1-9689-60ada00a3509",
   "metadata": {},
   "outputs": [],
   "source": [
    "#Creacion de una tabla maestra con los nombres de los servicios unicos\n",
    "camposServicios = indicadores['servicio'].unique()\n",
    "serviciosFinagro = pd.DataFrame(camposServicios, columns=['servicio'])"
   ]
  },
  {
   "cell_type": "code",
   "execution_count": 201,
   "id": "4c03303c-a779-42c8-afce-932140131557",
   "metadata": {},
   "outputs": [],
   "source": [
    "serviciosFinagro.to_csv('servicios1.csv', index=False)"
   ]
  },
  {
   "cell_type": "code",
   "execution_count": 202,
   "id": "7e3b777f-b48c-462a-8e59-6c1735cd0194",
   "metadata": {},
   "outputs": [],
   "source": [
    "#Estandarización de los nombres de los servicios entregados por TI en soporte aplicaciones, desarrollo e infraestructura\n",
    "indicadores.loc[indicadores[\"servicio\"] == 'APLICATIVO BUZON SEGURO', \"servicio\"] = 'Buzón Seguro'\n",
    "indicadores.loc[indicadores[\"servicio\"] == 'APLICATIVOS MICROSOFT OFFICE (EXCEL - ACCESS - PPT - WORD)', \"servicio\"] = 'Office 365 y Correo Electrónico'\n",
    "indicadores.loc[indicadores[\"servicio\"] == 'CONVERTIR PDF A OFFICE', \"servicio\"] = 'Office 365 y Correo Electrónico'\n",
    "indicadores.loc[indicadores[\"servicio\"] == 'BUZÓN SEGURO', \"servicio\"] = 'Buzón Seguro'\n",
    "indicadores.loc[indicadores[\"servicio\"] == 'APLICATIVO SARLAFT', \"servicio\"] = 'SARLAFT'\n",
    "indicadores.loc[indicadores[\"servicio\"] == 'APLICATIVO KACTUS', \"servicio\"] = 'Kactus'\n",
    "indicadores.loc[indicadores[\"servicio\"] == 'APLICATIVO BODEGA DE DATOS', \"servicio\"] = 'Bodega de Datos'\n",
    "indicadores.loc[indicadores[\"servicio\"] == 'INCIDENTES DE RED', \"servicio\"] = 'Redes e Internet'\n",
    "indicadores.loc[indicadores[\"servicio\"] == 'PLANTA TELEFONICA Y TELEFONOS', \"servicio\"] = 'Planta Telefónica'\n",
    "indicadores.loc[indicadores[\"servicio\"] == 'APLICATIVO ALFCOM', \"servicio\"] = 'ALFYN'\n",
    "#FAG Servicios\n",
    "indicadores.loc[indicadores[\"servicio\"] == 'APLICATIVO FAG (SERVICIOS)', \"servicio\"] = 'FAG SERVICIOS'\n",
    "indicadores.loc[indicadores[\"servicio\"] == 'FAG', \"servicio\"] = 'FAG SERVICIOS'\n",
    "indicadores.loc[indicadores[\"servicio\"] == 'Mantenimiento FAG', \"servicio\"] = 'FAG SERVICIOS'\n",
    "indicadores.loc[indicadores[\"servicio\"] == 'APLICATIVO CARTERAS SFI', \"servicio\"] = 'FAG SERVICIOS'\n",
    "#eFAG\n",
    "indicadores.loc[indicadores[\"servicio\"] == 'APLICATIVO EFAG', \"servicio\"] = 'e-FAG'\n",
    "indicadores.loc[indicadores[\"servicio\"] == 'EFAG', \"servicio\"] = 'e-FAG'\n",
    "#Mercurio\n",
    "indicadores.loc[indicadores[\"servicio\"] == 'MERCURIO', \"servicio\"] = 'Mercurio'\n",
    "indicadores.loc[indicadores[\"servicio\"] == 'APLICATIVO MERCURIO', \"servicio\"] = 'Mercurio'\n",
    "#Otros\n",
    "indicadores.loc[indicadores[\"servicio\"] == 'Feijoa - Reporting Services', \"servicio\"] = 'Feijoa Reporting Services'\n",
    "indicadores.loc[indicadores[\"servicio\"] == 'Desbloqueo Usuario o Password', \"servicio\"] = 'Bloqueo Usuarios y Password'\n",
    "indicadores.loc[indicadores[\"servicio\"] == 'HARDWARE (MONITOR - CPU - TECLADO - MOUSE)', \"servicio\"] = 'Equipo de Cómputo'\n",
    "indicadores.loc[indicadores[\"servicio\"] == 'CONFIGURACION DE EQUIPOS', \"servicio\"] = 'Equipo de Cómputo'\n",
    "indicadores.loc[indicadores[\"servicio\"] == 'CARPETAS COMPARTIDAS', \"servicio\"] = 'Carpetas Compartidas'\n",
    "indicadores.loc[indicadores[\"servicio\"] == 'APLICATIVO INFOAGRO', \"servicio\"] = 'InfoAgro'\n",
    "indicadores.loc[indicadores[\"servicio\"] == 'APLICATIVO ISA', \"servicio\"] = 'ISA'\n",
    "#SEGURIDAD de la informacion\n",
    "indicadores.loc[indicadores[\"servicio\"] == 'INCIDENTES DE SEGURIDAD DE LA INFORMACION', \"servicio\"] = 'Seguridad de la información'\n",
    "indicadores.loc[indicadores[\"servicio\"] == 'EVENTO SOSPECHOSO DE SEGURIDAD', \"servicio\"] = 'Seguridad de la información'\n",
    "indicadores.loc[indicadores[\"servicio\"] == 'INCIDENTES SEGURIDAD DE LA INFORMACION DATACENTER', \"servicio\"] = 'Seguridad de la información'\n",
    "#Pagina Web\n",
    "indicadores.loc[indicadores[\"servicio\"] == 'PAGINA WEB', \"servicio\"] = 'Página Web'\n",
    "indicadores.loc[indicadores[\"servicio\"] == 'PAGINA WEB (WWW.FINAGRO.COM.CO)', \"servicio\"] = 'Página Web'\n",
    "indicadores.loc[indicadores[\"servicio\"] == 'Página web www.finagro.com.co', \"servicio\"] = 'Página Web'\n",
    "indicadores.loc[indicadores[\"servicio\"] == 'INTRANET', \"servicio\"] = 'Intranet SharePoint'\n",
    "indicadores.loc[indicadores[\"servicio\"] == 'BACKUP', \"servicio\"] = 'Backup y Restauraciones'\n",
    "indicadores.loc[indicadores[\"servicio\"] == 'NOVEDADES PERSONAL', \"servicio\"] = 'Directorio Activo'\n",
    "indicadores.loc[indicadores[\"servicio\"] == 'ACCESO A INTERNET', \"servicio\"] = 'Redes e Internet'\n",
    "indicadores.loc[indicadores[\"servicio\"] == 'APLICATIVO LIBRE INVERSION', \"servicio\"] = 'Libre Inversión'\n",
    "indicadores.loc[indicadores[\"servicio\"] == 'APLICATIVO BMC', \"servicio\"] = 'BMC'\n",
    "indicadores.loc[indicadores[\"servicio\"] == 'MESA DE SOFTWARE', \"servicio\"] = 'Aranda'\n",
    "indicadores.loc[indicadores[\"servicio\"] == 'APLICATIVO GESTION COMERCIAL', \"servicio\"] = 'Gestión Comercial'\n",
    "#AGROS\n",
    "indicadores.loc[indicadores[\"servicio\"] == 'APLICATIVO AGROS', \"servicio\"] = 'AGROS'\n",
    "indicadores.loc[indicadores[\"servicio\"] == 'Mantenimiento AGROS', \"servicio\"] = 'AGROS'\n",
    "indicadores.loc[indicadores[\"servicio\"] == 'APLICATIVO AGROS QA', \"servicio\"] = 'AGROS'\n",
    "#OTROS\n",
    "indicadores.loc[indicadores[\"servicio\"] == 'APLICATIVO ISODOC', \"servicio\"] = 'ISODOC'\n",
    "indicadores.loc[indicadores[\"servicio\"] == 'APLICATIVO E-FUICC', \"servicio\"] = 'e-FUICC'\n",
    "indicadores.loc[indicadores[\"servicio\"] == 'E-FUICC', \"servicio\"] = 'e-FUICC'\n",
    "#Ajuste casos de Desarrollo\n",
    "indicadores.loc[indicadores[\"servicio\"] == 'DESARROLLO', \"proyecto\"] = 'Mesa de Software'\n",
    "#otros\n",
    "indicadores.loc[indicadores[\"servicio\"] == 'E-FUICC', \"servicio\"] = 'e-FUICC'\n",
    "indicadores.loc[indicadores[\"servicio\"] == 'APLICATIVO SPF', \"servicio\"] = 'SPF'\n",
    "indicadores.loc[indicadores[\"servicio\"] == 'MODIFICACIÓN', \"servicio\"] = 'MODIFICACION DE DATOS'\n",
    "indicadores.loc[indicadores[\"servicio\"] == 'APLICATIVO SIPA', \"servicio\"] = 'SIPA'\n",
    "indicadores.loc[indicadores[\"servicio\"] == 'OLVIDO DE CLAVE', \"servicio\"] = 'Bloqueo Usuarios y Password'\n",
    "indicadores.loc[indicadores[\"servicio\"] == 'APLICATIVO DEL ICR', \"servicio\"] = 'ICR'\n",
    "indicadores.loc[indicadores[\"servicio\"] == 'APLICATIVO GOANYWHERE', \"servicio\"] = 'GoanyWhere'\n",
    "indicadores.loc[indicadores[\"servicio\"] == 'GRABADOR DE LLAMADAS', \"servicio\"] = 'Planta Telefónica'\n",
    "indicadores.loc[indicadores[\"servicio\"] == 'APLICATIVO PRAN', \"servicio\"] = 'PRAN FONSA'\n",
    "indicadores.loc[indicadores[\"servicio\"] == 'Acces Pran', \"servicio\"] = 'PRAN FONSA'\n",
    "indicadores.loc[indicadores[\"servicio\"] == 'PRAN Y FONSA', \"servicio\"] = 'PRAN FONSA'\n",
    "indicadores.loc[indicadores[\"servicio\"] == 'APLICATIVO CIF', \"servicio\"] = 'CIF'\n",
    "indicadores.loc[indicadores[\"servicio\"] == 'APLICATIVO E-LEARNING', \"servicio\"] = 'E-LEARNING Moodle'\n",
    "indicadores.loc[indicadores[\"servicio\"] == 'APLICATIVO GESTION DOCUMENTAL', \"servicio\"] = 'Gestión Documental'\n",
    "indicadores.loc[indicadores[\"servicio\"] == 'Gestión de Activos y Pasivos ALM', \"servicio\"] = 'Finac ALM'\n",
    "indicadores.loc[indicadores[\"servicio\"] == 'Servicios Web', \"servicio\"] = 'Web Services APIs'\n",
    "indicadores.loc[indicadores[\"servicio\"] == 'Sistema de Ingreso Unico de FINAGRO (SSO)', \"servicio\"] = 'SSO'\n",
    "indicadores.loc[indicadores[\"servicio\"] == 'Intranet - SharePoint', \"servicio\"] = 'Intranet SharePoint'\n",
    "indicadores.loc[indicadores[\"servicio\"] == 'Actividades TI - General', \"servicio\"] = 'Actividades TI'\n",
    "indicadores.loc[indicadores[\"servicio\"] == 'SOPORTE APLICACIONES', \"servicio\"] = 'Soporte Aplicaciones'\n",
    "indicadores.loc[indicadores[\"servicio\"] == 'SOFTWARE LICENCIADO', \"servicio\"] = 'Software Licenciado'\n",
    "indicadores.loc[indicadores[\"servicio\"] == 'SOFTWARE FREE', \"servicio\"] = 'Software Free'\n",
    "indicadores.loc[indicadores[\"servicio\"] == 'BUZÓN SEGURO', \"servicio\"] = 'Acceso Buzón Seguro'\n",
    "indicadores.loc[indicadores[\"servicio\"] == 'OTROS ACCESOS', \"servicio\"] = 'Otros Accesos'\n",
    "indicadores.loc[indicadores[\"servicio\"] == 'ACCESO CENTRAL DATA', \"servicio\"] = 'Acceso CentralDatos'\n",
    "indicadores.loc[indicadores[\"servicio\"] == 'CREACIÓN', \"servicio\"] = 'Creación Usuarios'\n",
    "indicadores.loc[indicadores[\"servicio\"] == 'APLICATIVO MESA DE SERVICIOS', \"servicio\"] = 'Discovery'\n",
    "indicadores.loc[indicadores[\"servicio\"] == 'APLICATIVO APOTEOSYS', \"servicio\"] = 'Apoteosys'\n",
    "indicadores.loc[indicadores[\"servicio\"] == 'Apoteoys', \"servicio\"] = 'Apoteosys'\n",
    "indicadores.loc[indicadores[\"servicio\"] == 'CORREO ELECTRONICO', \"servicio\"] = 'Office 365 y Correo Electrónico'\n",
    "indicadores.loc[indicadores[\"servicio\"] == 'PAGINA WEB', \"servicio\"] = 'Página Web'\n",
    "indicadores.loc[indicadores[\"servicio\"] == 'Web Services - APIs', \"servicio\"] = 'Web Services APIs'"
   ]
  },
  {
   "cell_type": "code",
   "execution_count": 203,
   "id": "91eb874a-8a86-4c18-8e11-5a8368e074c3",
   "metadata": {},
   "outputs": [
    {
     "data": {
      "text/plain": [
       "tipo_de_caso              4\n",
       "origen_caso               4\n",
       "proyecto                  2\n",
       "numero_caso           31429\n",
       "servicio                 75\n",
       "responsable              72\n",
       "username_resp            94\n",
       "usuariofinal            648\n",
       "username_ufinal         655\n",
       "fecha_creacion        38319\n",
       "fecha_atencion        37578\n",
       "fecha_solucion        37865\n",
       "tiempoTranscurrido     5008\n",
       "CUMPLE_ANS                2\n",
       "dtype: int64"
      ]
     },
     "execution_count": 203,
     "metadata": {},
     "output_type": "execute_result"
    }
   ],
   "source": [
    "#ajuste de nombres con tildes y normalizacion de usernames final\n",
    "indicadores.nunique()"
   ]
  },
  {
   "cell_type": "code",
   "execution_count": 204,
   "id": "5dff551e-9d06-4146-b932-50638eebec3c",
   "metadata": {},
   "outputs": [],
   "source": [
    "#correccion inconsistencias\n",
    "indicadores.loc[indicadores[\"usuariofinal\"] == 'LUIS FRANCISCO MUÑOZ ORTIZ', \"usuariofinal\"] = 'Luis Francisco Muñoz'\n",
    "indicadores.loc[indicadores[\"usuariofinal\"] == 'MUÑOZ ORTIZ LUIS FRANCISCO', \"usuariofinal\"] = 'Luis Francisco Muñoz'\n",
    "indicadores.loc[indicadores[\"usuariofinal\"] == 'Luis Francisco Muñoz', \"username_ufinal\"] = 'Luis Francisco Muñoz'"
   ]
  },
  {
   "cell_type": "code",
   "execution_count": 205,
   "id": "af17f28a-8ebe-4e32-b7a6-c00c8874e399",
   "metadata": {},
   "outputs": [],
   "source": [
    "indicadores.to_excel('indicadores.xlsx')"
   ]
  },
  {
   "cell_type": "code",
   "execution_count": 206,
   "id": "88d61884-62f2-418d-a2d1-fb39f7781a68",
   "metadata": {},
   "outputs": [
    {
     "data": {
      "text/plain": [
       "tipo_de_caso            1\n",
       "origen_caso             1\n",
       "proyecto                1\n",
       "numero_caso           821\n",
       "servicio                7\n",
       "responsable            17\n",
       "username_resp          17\n",
       "usuariofinal           70\n",
       "username_ufinal        70\n",
       "fecha_creacion        821\n",
       "fecha_atencion        821\n",
       "fecha_solucion        821\n",
       "tiempoTranscurrido      1\n",
       "CUMPLE_ANS              1\n",
       "dtype: int64"
      ]
     },
     "execution_count": 206,
     "metadata": {},
     "output_type": "execute_result"
    }
   ],
   "source": [
    "#validacion valores unicos de los 4 dataframes discovery2, arandadf, glpi6, geus1\n",
    "geus1.nunique()"
   ]
  },
  {
   "cell_type": "code",
   "execution_count": 207,
   "id": "bc6bc4e4-6d81-4869-8717-7a16ea57b948",
   "metadata": {},
   "outputs": [],
   "source": [
    "indicadores1 = indicadores.copy()"
   ]
  },
  {
   "cell_type": "code",
   "execution_count": 208,
   "id": "70bc0fb0-cc57-48d8-abc3-8bf526655616",
   "metadata": {},
   "outputs": [],
   "source": [
    "#conversion de los \n",
    "indicadores1['usuariofinal'] = indicadores1['usuariofinal'].astype(str).str.title()\n",
    "indicadores1['responsable'] = indicadores1['responsable'].astype(str).str.title()\n",
    "indicadores1['username_ufinal'] = indicadores1['username_ufinal'].astype(str).str.lower()\n",
    "indicadores1['username_resp'] = indicadores1['username_resp'].astype(str).str.lower()"
   ]
  },
  {
   "cell_type": "code",
   "execution_count": 209,
   "id": "51b9215e-4813-4a69-bee3-1c0645b8353c",
   "metadata": {},
   "outputs": [],
   "source": [
    "#groupby de username por cada uno de sus nombres en usuariofinal\n",
    "usuariofinal_inconsistencies = indicadores1.groupby('usuariofinal')['username_ufinal'].nunique()\n",
    "usuariofinal_inconsistencies = usuariofinal_inconsistencies[usuariofinal_inconsistencies > 1]\n",
    "\n",
    "#groupby de username por cada uno de sus nombres en responsable\n",
    "responsable_inconsistencies = indicadores1.groupby('responsable')['username_resp'].nunique()\n",
    "responsable_inconsistencies = responsable_inconsistencies[responsable_inconsistencies > 1]\n",
    "\n",
    "# Guardar los valores inconsistentes en un nuevo dataframe\n",
    "usuariofinal_inconsistent_values = indicadores[indicadores['usuariofinal'].isin(usuariofinal_inconsistencies.index)]\n",
    "responsable_inconsistent_values = indicadores[indicadores['responsable'].isin(responsable_inconsistencies.index)]\n",
    "#exportacion a csv para validacion\n",
    "usuariofinal_inconsistent_values.to_excel('inconsistentes_usuariofinal.xlsx')\n",
    "responsable_inconsistent_values.to_excel('inconsistentes_resonsables.xlsx')\n"
   ]
  },
  {
   "cell_type": "code",
   "execution_count": 210,
   "id": "3ff4dbcd-236d-49c3-885e-b8a5b422f73b",
   "metadata": {},
   "outputs": [],
   "source": [
    "indicadores1.to_excel('indicadores1.xlsx')"
   ]
  },
  {
   "cell_type": "code",
   "execution_count": 211,
   "id": "f6b501a0-2832-4181-ab36-fc269fd81c57",
   "metadata": {},
   "outputs": [
    {
     "data": {
      "text/plain": [
       "tipo_de_caso              4\n",
       "origen_caso               4\n",
       "proyecto                  2\n",
       "numero_caso           31429\n",
       "servicio                 75\n",
       "responsable              73\n",
       "username_resp            72\n",
       "usuariofinal            527\n",
       "username_ufinal         481\n",
       "fecha_creacion        38319\n",
       "fecha_atencion        37578\n",
       "fecha_solucion        37865\n",
       "tiempoTranscurrido     5008\n",
       "CUMPLE_ANS                2\n",
       "dtype: int64"
      ]
     },
     "execution_count": 211,
     "metadata": {},
     "output_type": "execute_result"
    }
   ],
   "source": [
    "indicadores1.nunique()"
   ]
  },
  {
   "cell_type": "code",
   "execution_count": 212,
   "id": "dedd5180-a152-4609-a6ea-f091d00b7c31",
   "metadata": {},
   "outputs": [],
   "source": [
    "#definicion de función para llenar los nombres y usuarios finales complet\n",
    "def completarUsuariosIndicadores(dataframe, campoEvaluar, campoGEUS, campoAranda, campoUtilizar):\n",
    "    print(datetime.now())\n",
    "    for i, fila, in dataframe.iterrows():        \n",
    "            for j, fila, in arandaUsuarios.iterrows():\n",
    "                valor_glpi = unidecode(dataframe.loc[i, campoGEUS]).lower()\n",
    "                valor_aranda = unidecode(arandaUsuarios.loc[j, campoAranda]).lower()                \n",
    "                #if unidecode(arandaUsuarios.loc[j,campoAranda]).lower() == unidecode(dataframe.loc[i ,  campoGEUS]).lower():\n",
    "                if valor_aranda in valor_glpi:\n",
    "                #if valor_glpi in valor_aranda:\n",
    "                    #valorNombre = arandaUsuarios.loc[j, campoUtilizar]\n",
    "                    displayName = arandaUsuarios.loc[j, campoUtilizar]\n",
    "                    #dataframe.loc[i , campoEvaluar] = valorNombre\n",
    "                    dataframe.loc[i, campoEvaluar]= displayName\n",
    "                                   \n",
    "    print(datetime.now())"
   ]
  },
  {
   "cell_type": "code",
   "execution_count": 213,
   "id": "65a3f383-cdb1-49f0-8310-b3a63cb9c048",
   "metadata": {},
   "outputs": [],
   "source": [
    "#definicion de función para llenar los nombres y usuarios finales complet\n",
    "def completarUsuariosIndicadores1(dataframe, campoEvaluar, campoGEUS, campoAranda, campoUtilizar):\n",
    "    print(datetime.now())\n",
    "    for i, fila, in dataframe.iterrows():        \n",
    "            for j, fila, in arandaUsuarios.iterrows():\n",
    "                valor_glpi = unidecode(dataframe.loc[i, campoGEUS]).lower()\n",
    "                valor_aranda = unidecode(arandaUsuarios.loc[j, campoAranda]).lower()                \n",
    "                #if unidecode(arandaUsuarios.loc[j,campoAranda]).lower() == unidecode(dataframe.loc[i ,  campoGEUS]).lower():\n",
    "                if valor_aranda == valor_glpi:\n",
    "                #if valor_glpi in valor_aranda:\n",
    "                    #valorNombre = arandaUsuarios.loc[j, campoUtilizar]\n",
    "                    displayName = arandaUsuarios.loc[j, campoUtilizar]\n",
    "                    #dataframe.loc[i , campoEvaluar] = valorNombre\n",
    "                    dataframe.loc[i, campoEvaluar]= displayName\n",
    "                                   \n",
    "    print(datetime.now())"
   ]
  },
  {
   "cell_type": "code",
   "execution_count": 214,
   "id": "c16aaa26-c751-4c04-89d4-e1b9cfb0da25",
   "metadata": {},
   "outputs": [],
   "source": [
    "indicadores1.loc[(indicadores1[\"usuariofinal\"] == \"Jenny Borbon\") & (indicadores1[\"username_ufinal\"] == \"molarte\"), \"usuariofinal\"] = \"Mary Luz Olarte Cortes\""
   ]
  },
  {
   "cell_type": "code",
   "execution_count": 215,
   "id": "c4cb7d53-5839-4ff3-8f48-919fe18a3424",
   "metadata": {},
   "outputs": [
    {
     "name": "stdout",
     "output_type": "stream",
     "text": [
      "2024-05-29 13:05:41.658744\n",
      "2024-05-29 14:01:40.574024\n"
     ]
    }
   ],
   "source": [
    "#ejecucion de funcion para normalización grupo de valores restantes\n",
    "completarUsuariosIndicadores1(indicadores1, 'usuariofinal', 'username_ufinal', 'username', 'NombreCompleto')"
   ]
  },
  {
   "cell_type": "code",
   "execution_count": 216,
   "id": "041e6447-389b-4fec-ab4d-41f4db9a61fe",
   "metadata": {},
   "outputs": [
    {
     "data": {
      "text/plain": [
       "tipo_de_caso              4\n",
       "origen_caso               4\n",
       "proyecto                  2\n",
       "numero_caso           31429\n",
       "servicio                 75\n",
       "responsable              73\n",
       "username_resp            72\n",
       "usuariofinal            476\n",
       "username_ufinal         481\n",
       "fecha_creacion        38319\n",
       "fecha_atencion        37578\n",
       "fecha_solucion        37865\n",
       "tiempoTranscurrido     5008\n",
       "CUMPLE_ANS                2\n",
       "dtype: int64"
      ]
     },
     "execution_count": 216,
     "metadata": {},
     "output_type": "execute_result"
    }
   ],
   "source": [
    "#Revision inicial valores unicos de usuario final, usernames, responsables y sus usernames\n",
    "indicadores1.nunique()"
   ]
  },
  {
   "cell_type": "code",
   "execution_count": 217,
   "id": "f67495ce-7580-4124-bb57-6373636b77fc",
   "metadata": {},
   "outputs": [
    {
     "data": {
      "text/plain": [
       "tipo_de_caso           0\n",
       "origen_caso            0\n",
       "proyecto               0\n",
       "numero_caso            0\n",
       "servicio              90\n",
       "responsable            0\n",
       "username_resp          0\n",
       "usuariofinal           0\n",
       "username_ufinal        0\n",
       "fecha_creacion         0\n",
       "fecha_atencion         0\n",
       "fecha_solucion         0\n",
       "tiempoTranscurrido     0\n",
       "CUMPLE_ANS             0\n",
       "dtype: int64"
      ]
     },
     "execution_count": 217,
     "metadata": {},
     "output_type": "execute_result"
    }
   ],
   "source": [
    "#validacion de valores nulos\n",
    "indicadores1.isna().sum()"
   ]
  },
  {
   "cell_type": "code",
   "execution_count": 218,
   "id": "e4d427b5-9d26-4c9c-aaa2-5bf0afd60ce9",
   "metadata": {},
   "outputs": [],
   "source": [
    "#Eliminacion de valores nulos ya que son errores propios de la exportacion en la fuente de datos de GEUS\n",
    "indicadores1.dropna(subset=['servicio'], inplace=True)"
   ]
  },
  {
   "cell_type": "code",
   "execution_count": 319,
   "id": "9b964188-d0db-4cc6-a133-8ed75c4ea9ee",
   "metadata": {},
   "outputs": [],
   "source": [
    "#copia del dataframe para evitar trabajar con el original\n",
    "indicadores2 = indicadores1.copy()"
   ]
  },
  {
   "cell_type": "code",
   "execution_count": 320,
   "id": "fa8fa273-0b89-45e1-9e69-4b52a26a5022",
   "metadata": {},
   "outputs": [],
   "source": [
    "# Definir una función para normalizar los valores\n",
    "def normalizarValores(value):\n",
    "    # Convertir a cadena, si no lo es\n",
    "    value = str(value)\n",
    "    # Eliminar tildes\n",
    "    value = unidecode(value)\n",
    "    # Convertir a minúsculas\n",
    "    value = value.lower()\n",
    "    # Eliminar espacios al principio y al final\n",
    "    value = value.strip()\n",
    "    return value\n"
   ]
  },
  {
   "cell_type": "code",
   "execution_count": 321,
   "id": "07d3ca68-842a-4e42-9749-204990d4fa9f",
   "metadata": {},
   "outputs": [],
   "source": [
    "#Configurando los nombres con nombre de forma compuesta\n",
    "indicadores2['usuariofinal'] = indicadores2['usuariofinal'].apply(normalizarValores)\n",
    "indicadores2['usuariofinal'] = indicadores2['usuariofinal'].astype(str).str.title()"
   ]
  },
  {
   "cell_type": "code",
   "execution_count": 322,
   "id": "396d1e00-6987-4cb8-a2f1-ec39ba0c1319",
   "metadata": {},
   "outputs": [
    {
     "data": {
      "text/plain": [
       "tipo_de_caso              4\n",
       "origen_caso               4\n",
       "proyecto                  2\n",
       "numero_caso           31429\n",
       "servicio                 75\n",
       "responsable              73\n",
       "username_resp            72\n",
       "usuariofinal            476\n",
       "username_ufinal         481\n",
       "fecha_creacion        38229\n",
       "fecha_atencion        37488\n",
       "fecha_solucion        37775\n",
       "tiempoTranscurrido     5008\n",
       "CUMPLE_ANS                2\n",
       "dtype: int64"
      ]
     },
     "execution_count": 322,
     "metadata": {},
     "output_type": "execute_result"
    }
   ],
   "source": [
    "#idenficación de valores nulos\n",
    "indicadores2.nunique()"
   ]
  },
  {
   "cell_type": "code",
   "execution_count": 323,
   "id": "8f955b3b-bf43-4dc5-89cd-1afb2c9293eb",
   "metadata": {},
   "outputs": [],
   "source": [
    "#Configurando el tipo de caso con nombre forma compuesta\n",
    "indicadores2['tipo_de_caso'] = indicadores2['tipo_de_caso'].astype(str).str.title()"
   ]
  },
  {
   "cell_type": "code",
   "execution_count": 324,
   "id": "0fcb9951-019a-4a2d-9355-24aea3e3bb3b",
   "metadata": {},
   "outputs": [],
   "source": [
    "##normalización de algunos valores específicos\n",
    "indicadores2.loc[indicadores2[\"responsable\"] == 'Juan Guillermo Campos García', \"responsable\"] = 'Juan Guillermo Campos Garcia'\n",
    "indicadores2.loc[indicadores2[\"responsable\"] == 'Angela María Pardo Ramirez', \"responsable\"] = 'Angela Pardo Ramirez'"
   ]
  },
  {
   "cell_type": "code",
   "execution_count": 325,
   "id": "ea9af329-0926-44cf-a727-b1d9fbf1c09c",
   "metadata": {},
   "outputs": [],
   "source": [
    "#Exportación del dataframe definitivo que es el insumo oficial para Power BI y proceder con los modelos de aprendizaje automático\n",
    "indicadores2.to_excel('indicadores1.xlsx')"
   ]
  },
  {
   "cell_type": "code",
   "execution_count": 326,
   "id": "809ca6c8-8858-4ce9-ab1f-1705fd062a9d",
   "metadata": {},
   "outputs": [
    {
     "data": {
      "text/plain": [
       "(38343, 14)"
      ]
     },
     "execution_count": 326,
     "metadata": {},
     "output_type": "execute_result"
    }
   ],
   "source": [
    "#longitud del dataframe\n",
    "indicadores2.shape"
   ]
  },
  {
   "cell_type": "code",
   "execution_count": 327,
   "id": "96e9611d-cb54-47c3-aa3d-f7d56b2ff70d",
   "metadata": {},
   "outputs": [
    {
     "data": {
      "text/plain": [
       "tipo_de_caso          0\n",
       "origen_caso           0\n",
       "proyecto              0\n",
       "numero_caso           0\n",
       "servicio              0\n",
       "responsable           0\n",
       "username_resp         0\n",
       "usuariofinal          0\n",
       "username_ufinal       0\n",
       "fecha_creacion        0\n",
       "fecha_atencion        0\n",
       "fecha_solucion        0\n",
       "tiempoTranscurrido    0\n",
       "CUMPLE_ANS            0\n",
       "dtype: int64"
      ]
     },
     "execution_count": 327,
     "metadata": {},
     "output_type": "execute_result"
    }
   ],
   "source": [
    "indicadores2.isna().sum()"
   ]
  },
  {
   "cell_type": "code",
   "execution_count": 328,
   "id": "8f9281bb-eec4-4236-93fb-f4b4c8e5161f",
   "metadata": {},
   "outputs": [
    {
     "data": {
      "text/html": [
       "<div>\n",
       "<style scoped>\n",
       "    .dataframe tbody tr th:only-of-type {\n",
       "        vertical-align: middle;\n",
       "    }\n",
       "\n",
       "    .dataframe tbody tr th {\n",
       "        vertical-align: top;\n",
       "    }\n",
       "\n",
       "    .dataframe thead th {\n",
       "        text-align: right;\n",
       "    }\n",
       "</style>\n",
       "<table border=\"1\" class=\"dataframe\">\n",
       "  <thead>\n",
       "    <tr style=\"text-align: right;\">\n",
       "      <th></th>\n",
       "      <th>numero_caso</th>\n",
       "      <th>fecha_creacion</th>\n",
       "      <th>fecha_atencion</th>\n",
       "      <th>fecha_solucion</th>\n",
       "      <th>tiempoTranscurrido</th>\n",
       "    </tr>\n",
       "  </thead>\n",
       "  <tbody>\n",
       "    <tr>\n",
       "      <th>count</th>\n",
       "      <td>38343.000000</td>\n",
       "      <td>38343</td>\n",
       "      <td>38343</td>\n",
       "      <td>38343</td>\n",
       "      <td>38343.000000</td>\n",
       "    </tr>\n",
       "    <tr>\n",
       "      <th>mean</th>\n",
       "      <td>24935.042042</td>\n",
       "      <td>2020-08-23 22:08:49.245171968</td>\n",
       "      <td>2020-08-29 17:38:22.961185280</td>\n",
       "      <td>2020-09-04 19:24:51.410499584</td>\n",
       "      <td>2749.761808</td>\n",
       "    </tr>\n",
       "    <tr>\n",
       "      <th>min</th>\n",
       "      <td>1.000000</td>\n",
       "      <td>2014-12-05 20:08:11</td>\n",
       "      <td>2014-12-05 00:00:00</td>\n",
       "      <td>2014-12-05 20:45:36</td>\n",
       "      <td>0.000000</td>\n",
       "    </tr>\n",
       "    <tr>\n",
       "      <th>25%</th>\n",
       "      <td>3853.500000</td>\n",
       "      <td>2018-09-05 14:32:43.500000</td>\n",
       "      <td>2018-09-06 11:27:57.500000</td>\n",
       "      <td>2018-09-07 07:58:49.500000</td>\n",
       "      <td>30.000000</td>\n",
       "    </tr>\n",
       "    <tr>\n",
       "      <th>50%</th>\n",
       "      <td>26298.000000</td>\n",
       "      <td>2020-12-17 08:53:42</td>\n",
       "      <td>2020-12-22 09:09:36</td>\n",
       "      <td>2020-12-30 12:56:35</td>\n",
       "      <td>120.000000</td>\n",
       "    </tr>\n",
       "    <tr>\n",
       "      <th>75%</th>\n",
       "      <td>45157.500000</td>\n",
       "      <td>2023-01-06 15:50:19.495000064</td>\n",
       "      <td>2023-01-17 12:53:00</td>\n",
       "      <td>2023-01-25 13:16:30</td>\n",
       "      <td>441.000000</td>\n",
       "    </tr>\n",
       "    <tr>\n",
       "      <th>max</th>\n",
       "      <td>56060.000000</td>\n",
       "      <td>2024-05-28 13:05:26.750000</td>\n",
       "      <td>2024-05-29 08:37:35.760000</td>\n",
       "      <td>2024-05-29 08:42:29.700000</td>\n",
       "      <td>655217.000000</td>\n",
       "    </tr>\n",
       "    <tr>\n",
       "      <th>std</th>\n",
       "      <td>20292.034268</td>\n",
       "      <td>NaN</td>\n",
       "      <td>NaN</td>\n",
       "      <td>NaN</td>\n",
       "      <td>18783.299504</td>\n",
       "    </tr>\n",
       "  </tbody>\n",
       "</table>\n",
       "</div>"
      ],
      "text/plain": [
       "        numero_caso                 fecha_creacion  \\\n",
       "count  38343.000000                          38343   \n",
       "mean   24935.042042  2020-08-23 22:08:49.245171968   \n",
       "min        1.000000            2014-12-05 20:08:11   \n",
       "25%     3853.500000     2018-09-05 14:32:43.500000   \n",
       "50%    26298.000000            2020-12-17 08:53:42   \n",
       "75%    45157.500000  2023-01-06 15:50:19.495000064   \n",
       "max    56060.000000     2024-05-28 13:05:26.750000   \n",
       "std    20292.034268                            NaN   \n",
       "\n",
       "                      fecha_atencion                 fecha_solucion  \\\n",
       "count                          38343                          38343   \n",
       "mean   2020-08-29 17:38:22.961185280  2020-09-04 19:24:51.410499584   \n",
       "min              2014-12-05 00:00:00            2014-12-05 20:45:36   \n",
       "25%       2018-09-06 11:27:57.500000     2018-09-07 07:58:49.500000   \n",
       "50%              2020-12-22 09:09:36            2020-12-30 12:56:35   \n",
       "75%              2023-01-17 12:53:00            2023-01-25 13:16:30   \n",
       "max       2024-05-29 08:37:35.760000     2024-05-29 08:42:29.700000   \n",
       "std                              NaN                            NaN   \n",
       "\n",
       "       tiempoTranscurrido  \n",
       "count        38343.000000  \n",
       "mean          2749.761808  \n",
       "min              0.000000  \n",
       "25%             30.000000  \n",
       "50%            120.000000  \n",
       "75%            441.000000  \n",
       "max         655217.000000  \n",
       "std          18783.299504  "
      ]
     },
     "execution_count": 328,
     "metadata": {},
     "output_type": "execute_result"
    }
   ],
   "source": [
    "indicadores2.describe()"
   ]
  },
  {
   "cell_type": "code",
   "execution_count": 329,
   "id": "22084125-22ac-4990-8721-c70b5c38c1e7",
   "metadata": {},
   "outputs": [],
   "source": [
    "#Esta línea de código se debe eliminar el 29 de mayo de 2024, una vez se controle el cambio a través de la función\n",
    "#corregirResponsables\n",
    "#Normalizacion datos Cmillan \n",
    "indicadores2.loc[indicadores2[\"usuariofinal\"] == \"Millan Salazar Carlos Fabian\", [\"usuariofinal\",\"username_ufinal\"]] = ['Carlos Fabian Millan Salazar','cmillan']"
   ]
  },
  {
   "cell_type": "code",
   "execution_count": 330,
   "id": "6fc40156-0b3d-426e-86c7-13d6c6aa3f94",
   "metadata": {},
   "outputs": [],
   "source": [
    "import seaborn as sns\n",
    "from sklearn.preprocessing import PolynomialFeatures\n",
    "from sklearn.model_selection import train_test_split\n",
    "from sklearn.linear_model import LinearRegression\n",
    "from sklearn.metrics import mean_squared_error\n",
    "from sklearn.preprocessing import LabelEncoder"
   ]
  },
  {
   "cell_type": "code",
   "execution_count": 331,
   "id": "d6c57d04-7559-4831-962b-cdb24d26a035",
   "metadata": {},
   "outputs": [],
   "source": [
    "indicadores3 = indicadores2.copy()"
   ]
  },
  {
   "cell_type": "code",
   "execution_count": 332,
   "id": "84a8715c-1d14-4382-8e7f-1bf1edf7d2bf",
   "metadata": {},
   "outputs": [],
   "source": [
    "#Se genera nueva columna con el dia de la semana de 0-6 \n",
    "indicadores3['diasemana_creacion'] = indicadores3['fecha_creacion'].dt.dayofweek\n",
    "#Se genera nueva columna con los meses de 01-12 \n",
    "indicadores3['mes_creacion'] = indicadores3['fecha_creacion'].dt.month\n",
    "#Se genera nueva columna con los dias 1-31\n",
    "indicadores3['dia_creacion'] = indicadores3['fecha_creacion'].dt.day\n",
    "#Nueva columna con año\n",
    "indicadores3['año_creacion'] = indicadores3['fecha_creacion'].dt.year"
   ]
  },
  {
   "cell_type": "code",
   "execution_count": 333,
   "id": "fbb134d5-4531-43cb-9a22-3f44fa5814b2",
   "metadata": {},
   "outputs": [],
   "source": [
    "#division en otro dataframe solo para casos de soporte - se usará mas adelante\n",
    "indicadoresSoporte = indicadores3[indicadores3['proyecto']== 'Soporte']\n",
    "indicadoresDesarrollo = indicadores3[indicadores3['proyecto']== 'Mesa de Software']"
   ]
  },
  {
   "cell_type": "code",
   "execution_count": 336,
   "id": "a47b6988-a294-4a12-b0fd-efc20d0bd16e",
   "metadata": {},
   "outputs": [
    {
     "data": {
      "text/html": [
       "<div>\n",
       "<style scoped>\n",
       "    .dataframe tbody tr th:only-of-type {\n",
       "        vertical-align: middle;\n",
       "    }\n",
       "\n",
       "    .dataframe tbody tr th {\n",
       "        vertical-align: top;\n",
       "    }\n",
       "\n",
       "    .dataframe thead th {\n",
       "        text-align: right;\n",
       "    }\n",
       "</style>\n",
       "<table border=\"1\" class=\"dataframe\">\n",
       "  <thead>\n",
       "    <tr style=\"text-align: right;\">\n",
       "      <th></th>\n",
       "      <th>tipo_de_caso</th>\n",
       "      <th>origen_caso</th>\n",
       "      <th>proyecto</th>\n",
       "      <th>numero_caso</th>\n",
       "      <th>servicio</th>\n",
       "      <th>responsable</th>\n",
       "      <th>username_resp</th>\n",
       "      <th>usuariofinal</th>\n",
       "      <th>username_ufinal</th>\n",
       "      <th>fecha_creacion</th>\n",
       "      <th>fecha_atencion</th>\n",
       "      <th>fecha_solucion</th>\n",
       "      <th>tiempoTranscurrido</th>\n",
       "      <th>CUMPLE_ANS</th>\n",
       "      <th>diasemana_creacion</th>\n",
       "      <th>mes_creacion</th>\n",
       "      <th>dia_creacion</th>\n",
       "      <th>año_creacion</th>\n",
       "    </tr>\n",
       "  </thead>\n",
       "  <tbody>\n",
       "    <tr>\n",
       "      <th>0</th>\n",
       "      <td>Requerimiento</td>\n",
       "      <td>Discovery</td>\n",
       "      <td>Soporte</td>\n",
       "      <td>56060</td>\n",
       "      <td>Buzón Seguro</td>\n",
       "      <td>Caroline Paez Chinones</td>\n",
       "      <td>cpaez</td>\n",
       "      <td>Sandra Patricia Castillo Ramirez</td>\n",
       "      <td>scastillo</td>\n",
       "      <td>2024-04-22 15:31:15</td>\n",
       "      <td>2024-05-02 11:58:25</td>\n",
       "      <td>2024-05-02 11:58:46</td>\n",
       "      <td>3574</td>\n",
       "      <td>SI</td>\n",
       "      <td>0</td>\n",
       "      <td>4</td>\n",
       "      <td>22</td>\n",
       "      <td>2024</td>\n",
       "    </tr>\n",
       "  </tbody>\n",
       "</table>\n",
       "</div>"
      ],
      "text/plain": [
       "    tipo_de_caso origen_caso proyecto  numero_caso      servicio  \\\n",
       "0  Requerimiento   Discovery  Soporte        56060  Buzón Seguro   \n",
       "\n",
       "              responsable username_resp                      usuariofinal  \\\n",
       "0  Caroline Paez Chinones         cpaez  Sandra Patricia Castillo Ramirez   \n",
       "\n",
       "  username_ufinal      fecha_creacion      fecha_atencion      fecha_solucion  \\\n",
       "0       scastillo 2024-04-22 15:31:15 2024-05-02 11:58:25 2024-05-02 11:58:46   \n",
       "\n",
       "   tiempoTranscurrido CUMPLE_ANS  diasemana_creacion  mes_creacion  \\\n",
       "0                3574         SI                   0             4   \n",
       "\n",
       "   dia_creacion  año_creacion  \n",
       "0            22          2024  "
      ]
     },
     "execution_count": 336,
     "metadata": {},
     "output_type": "execute_result"
    }
   ],
   "source": [
    "indicadores3.head(1)"
   ]
  },
  {
   "cell_type": "code",
   "execution_count": 341,
   "id": "e54ac0bf-8f8a-4e84-9bfa-0f38f505f262",
   "metadata": {},
   "outputs": [],
   "source": [
    "#Creacion de nuevo dataframe para agrupar la cantidad de casos por cada fecha especifica histórica\n",
    "#PromedioFecha = calendartempsi.groupby('date')['price'].mean()\n",
    "indicadores3['fecha_creacion'] = indicadores3['fecha_creacion'].dt.date\n",
    "indicadores3['fecha_atencion'] = indicadores3['fecha_atencion'].dt.date\n",
    "indicadores3['fecha_solucion'] = indicadores3['fecha_solucion'].dt.date\n",
    "#Para volver a generar la estructura normal de dataframe de Pandas se utiliza la funcion reset_index()"
   ]
  },
  {
   "cell_type": "code",
   "execution_count": 386,
   "id": "f9d7ccc0-d71b-42ee-8fc5-89c94e764b29",
   "metadata": {},
   "outputs": [],
   "source": [
    "indicadores4 = indicadores3.groupby(['fecha_creacion','año_creacion','mes_creacion','dia_creacion','diasemana_creacion'])['fecha_creacion'].size()"
   ]
  },
  {
   "cell_type": "code",
   "execution_count": 387,
   "id": "96ea61fd-2b67-43b3-b675-ac6736780e7e",
   "metadata": {},
   "outputs": [],
   "source": [
    "#Conversion del arreglo a dataframe indicadores4 con las columnas filtradas anteriormete\n",
    "indicadores4.name = 'cantidadCasos'\n",
    "indicadores4 = indicadores4.to_frame().reset_index()"
   ]
  },
  {
   "cell_type": "code",
   "execution_count": 393,
   "id": "54db5baa-066e-4cb0-b49a-270901e75e40",
   "metadata": {},
   "outputs": [
    {
     "name": "stdout",
     "output_type": "stream",
     "text": [
      "<class 'pandas.core.frame.DataFrame'>\n",
      "RangeIndex: 2393 entries, 0 to 2392\n",
      "Data columns (total 6 columns):\n",
      " #   Column              Non-Null Count  Dtype \n",
      "---  ------              --------------  ----- \n",
      " 0   fecha_creacion      2393 non-null   object\n",
      " 1   año_creacion        2393 non-null   int32 \n",
      " 2   mes_creacion        2393 non-null   int32 \n",
      " 3   dia_creacion        2393 non-null   int32 \n",
      " 4   diasemana_creacion  2393 non-null   int32 \n",
      " 5   cantidadCasos       2393 non-null   int64 \n",
      "dtypes: int32(4), int64(1), object(1)\n",
      "memory usage: 74.9+ KB\n"
     ]
    }
   ],
   "source": [
    "indicadores4.info()"
   ]
  },
  {
   "cell_type": "code",
   "execution_count": 394,
   "id": "c06f30db-c41b-49df-9ebf-bb15c16e233b",
   "metadata": {},
   "outputs": [
    {
     "data": {
      "text/html": [
       "<div>\n",
       "<style scoped>\n",
       "    .dataframe tbody tr th:only-of-type {\n",
       "        vertical-align: middle;\n",
       "    }\n",
       "\n",
       "    .dataframe tbody tr th {\n",
       "        vertical-align: top;\n",
       "    }\n",
       "\n",
       "    .dataframe thead th {\n",
       "        text-align: right;\n",
       "    }\n",
       "</style>\n",
       "<table border=\"1\" class=\"dataframe\">\n",
       "  <thead>\n",
       "    <tr style=\"text-align: right;\">\n",
       "      <th></th>\n",
       "      <th>fecha_creacion</th>\n",
       "      <th>año_creacion</th>\n",
       "      <th>mes_creacion</th>\n",
       "      <th>dia_creacion</th>\n",
       "      <th>diasemana_creacion</th>\n",
       "      <th>cantidadCasos</th>\n",
       "    </tr>\n",
       "  </thead>\n",
       "  <tbody>\n",
       "    <tr>\n",
       "      <th>2391</th>\n",
       "      <td>2024-05-27</td>\n",
       "      <td>2024</td>\n",
       "      <td>5</td>\n",
       "      <td>27</td>\n",
       "      <td>0</td>\n",
       "      <td>10</td>\n",
       "    </tr>\n",
       "    <tr>\n",
       "      <th>2392</th>\n",
       "      <td>2024-05-28</td>\n",
       "      <td>2024</td>\n",
       "      <td>5</td>\n",
       "      <td>28</td>\n",
       "      <td>1</td>\n",
       "      <td>14</td>\n",
       "    </tr>\n",
       "  </tbody>\n",
       "</table>\n",
       "</div>"
      ],
      "text/plain": [
       "     fecha_creacion  año_creacion  mes_creacion  dia_creacion  \\\n",
       "2391     2024-05-27          2024             5            27   \n",
       "2392     2024-05-28          2024             5            28   \n",
       "\n",
       "      diasemana_creacion  cantidadCasos  \n",
       "2391                   0             10  \n",
       "2392                   1             14  "
      ]
     },
     "execution_count": 394,
     "metadata": {},
     "output_type": "execute_result"
    }
   ],
   "source": [
    "indicadores4.tail(2)"
   ]
  },
  {
   "cell_type": "code",
   "execution_count": 413,
   "id": "1c214642-0b84-4534-841e-28959611b0c2",
   "metadata": {},
   "outputs": [],
   "source": [
    "#COMIENZO ALISTAMIENTO Y ENTRENAMIENTO MODELO MACHINE LEARNING INDICADORES GTI \n",
    "#Ajustes para utilizar la regresión lineal y polinómica\n",
    "indicadores4['fecha_creacion'] = pd.to_datetime(indicadores4['fecha_creacion']"
   ]
  },
  {
   "cell_type": "code",
   "execution_count": 567,
   "id": "a82e2954-dd62-4c97-94b2-1acd94a5709b",
   "metadata": {},
   "outputs": [],
   "source": [
    "#se definen las fechas para segmentar los datos antes de agruparlos en conjunto de entrenamiento y prueba\n",
    "fecha_inicio = pd.to_datetime('2023-01-01')\n",
    "fecha_fin = pd.to_datetime('2023-12-31')"
   ]
  },
  {
   "cell_type": "code",
   "execution_count": 568,
   "id": "0996d701-3a9f-4931-94fb-59a80c3c4310",
   "metadata": {},
   "outputs": [],
   "source": [
    "#linea para filtrar dataframe y lanzar el gráfico solo con el rango requerido:\n",
    "indicadoresPeriodo = indicadores4[(indicadores4['fecha_creacion']>= fecha_inicio) & (indicadores4['fecha_creacion']<= fecha_fin)]"
   ]
  },
  {
   "cell_type": "code",
   "execution_count": 569,
   "id": "c90ecca9-32cc-4ef1-9631-47b471be0e12",
   "metadata": {},
   "outputs": [
    {
     "data": {
      "text/html": [
       "<div>\n",
       "<style scoped>\n",
       "    .dataframe tbody tr th:only-of-type {\n",
       "        vertical-align: middle;\n",
       "    }\n",
       "\n",
       "    .dataframe tbody tr th {\n",
       "        vertical-align: top;\n",
       "    }\n",
       "\n",
       "    .dataframe thead th {\n",
       "        text-align: right;\n",
       "    }\n",
       "</style>\n",
       "<table border=\"1\" class=\"dataframe\">\n",
       "  <thead>\n",
       "    <tr style=\"text-align: right;\">\n",
       "      <th></th>\n",
       "      <th>fecha_creacion</th>\n",
       "      <th>año_creacion</th>\n",
       "      <th>mes_creacion</th>\n",
       "      <th>dia_creacion</th>\n",
       "      <th>diasemana_creacion</th>\n",
       "      <th>cantidadCasos</th>\n",
       "    </tr>\n",
       "  </thead>\n",
       "  <tbody>\n",
       "    <tr>\n",
       "      <th>2035</th>\n",
       "      <td>2023-01-02</td>\n",
       "      <td>2023</td>\n",
       "      <td>1</td>\n",
       "      <td>2</td>\n",
       "      <td>0</td>\n",
       "      <td>26</td>\n",
       "    </tr>\n",
       "    <tr>\n",
       "      <th>2036</th>\n",
       "      <td>2023-01-03</td>\n",
       "      <td>2023</td>\n",
       "      <td>1</td>\n",
       "      <td>3</td>\n",
       "      <td>1</td>\n",
       "      <td>32</td>\n",
       "    </tr>\n",
       "    <tr>\n",
       "      <th>2037</th>\n",
       "      <td>2023-01-04</td>\n",
       "      <td>2023</td>\n",
       "      <td>1</td>\n",
       "      <td>4</td>\n",
       "      <td>2</td>\n",
       "      <td>23</td>\n",
       "    </tr>\n",
       "  </tbody>\n",
       "</table>\n",
       "</div>"
      ],
      "text/plain": [
       "     fecha_creacion  año_creacion  mes_creacion  dia_creacion  \\\n",
       "2035     2023-01-02          2023             1             2   \n",
       "2036     2023-01-03          2023             1             3   \n",
       "2037     2023-01-04          2023             1             4   \n",
       "\n",
       "      diasemana_creacion  cantidadCasos  \n",
       "2035                   0             26  \n",
       "2036                   1             32  \n",
       "2037                   2             23  "
      ]
     },
     "execution_count": 569,
     "metadata": {},
     "output_type": "execute_result"
    }
   ],
   "source": [
    "indicadoresPeriodo.head(3)"
   ]
  },
  {
   "cell_type": "code",
   "execution_count": 570,
   "id": "b7f32757-4b06-4dcd-8a7c-56ba15062032",
   "metadata": {},
   "outputs": [
    {
     "data": {
      "image/png": "[encoded data removed]",
      "text/plain": [
       "<Figure size 1000x500 with 1 Axes>"
      ]
     },
     "metadata": {},
     "output_type": "display_data"
    }
   ],
   "source": [
    "# Visualización de los datos simulados\n",
    "fig = plt.figure(figsize=(10, 5))\n",
    "ax = plt.gca()\n",
    "fig.patch.set_facecolor('#d3d3d3') \n",
    "ax.set_facecolor('#d3d3d3')  # Establecer fondo gris claro\n",
    "plt.scatter(indicadores4['fecha_creacion'], indicadores4['cantidadCasos'], color='blue', label='Datos indicadores4')\n",
    "plt.xlabel('fecha_creacion')\n",
    "plt.ylabel('Cantidad de casos')\n",
    "plt.title('Crecimiento de Casos Creados')\n",
    "plt.legend()\n",
    "plt.show()\n"
   ]
  },
  {
   "cell_type": "code",
   "execution_count": 571,
   "id": "d64e1954-52ec-4eb8-a11d-053533ae0a44",
   "metadata": {},
   "outputs": [],
   "source": [
    "#Se crea un dataframe especifico para almacenar lo corrido del año 2024 para despues comparar \n",
    "indicadoresPeriodo2024 = indicadores4[(indicadores4['fecha_creacion']>= '2024-01-01') & (indicadores4['fecha_creacion']<= '2024-12-31')]"
   ]
  },
  {
   "cell_type": "code",
   "execution_count": 674,
   "id": "c79fd037-b0bd-4fb0-b79a-ad023f7ea6cd",
   "metadata": {},
   "outputs": [
    {
     "name": "stderr",
     "output_type": "stream",
     "text": [
      "C:\\Users\\ferodriguez\\AppData\\Local\\Temp\\ipykernel_6744\\1119986232.py:3: SettingWithCopyWarning: \n",
      "A value is trying to be set on a copy of a slice from a DataFrame.\n",
      "Try using .loc[row_indexer,col_indexer] = value instead\n",
      "\n",
      "See the caveats in the documentation: https://pandas.pydata.org/pandas-docs/stable/user_guide/indexing.html#returning-a-view-versus-a-copy\n",
      "  indicadoresPeriodo['fecha'] = (indicadoresPeriodo['fecha_creacion'] - indicadoresPeriodo['fecha_creacion'].min()).dt.days + 1\n",
      "C:\\Users\\ferodriguez\\AppData\\Local\\Temp\\ipykernel_6744\\1119986232.py:4: SettingWithCopyWarning: \n",
      "A value is trying to be set on a copy of a slice from a DataFrame.\n",
      "Try using .loc[row_indexer,col_indexer] = value instead\n",
      "\n",
      "See the caveats in the documentation: https://pandas.pydata.org/pandas-docs/stable/user_guide/indexing.html#returning-a-view-versus-a-copy\n",
      "  indicadoresPeriodo2024['fecha'] = (indicadoresPeriodo2024['fecha_creacion'] - indicadoresPeriodo2024['fecha_creacion'].min()).dt.days + 1\n"
     ]
    },
    {
     "data": {
      "image/png": "[encoded data removed]",
      "text/plain": [
       "<Figure size 1000x500 with 1 Axes>"
      ]
     },
     "metadata": {},
     "output_type": "display_data"
    },
    {
     "name": "stdout",
     "output_type": "stream",
     "text": [
      "Raíz del Error Cuadrático Medio (RMSE): 10.059207526818144\n"
     ]
    }
   ],
   "source": [
    "#Ejecución del modelo de Regresión lineal\n",
    "#Conversion de date a un numero entero\n",
    "indicadoresPeriodo['fecha'] = (indicadoresPeriodo['fecha_creacion'] - indicadoresPerodo['fecha_creacion'].min()).dt.days + 1\n",
    "indicadoresPeriodo2024['fecha'] = (indicadoresPeriodo2024['fecha_creacion'] - indicadoresPeriodo2024['fecha_creacion'].min()).dt.days + 1\n",
    "#fecha_creacion \taño_creacion \tmes_creacion \tdia_creacion \tdiasemana_creacion \tcantidadCasos\n",
    "\n",
    "#Se separan los datos de variables independientes (X) y dependientes (y)\n",
    "X = indicadoresPeriodo[['fecha']]  \n",
    "y = indicadoresPeriodo['cantidadCasos'].values  \n",
    "\n",
    "# Dividir los datos en conjuntos de entrenamiento y prueba\n",
    "X_train, X_test, y_train, y_test = train_test_split(X, y, test_size=0.22, random_state=1000)\n",
    "\n",
    "# Crear y entrenar el modelo de regresión lineal\n",
    "model = LinearRegression()\n",
    "model.fit(X_train, y_train)\n",
    "\n",
    "# Realizar predicciones en el conjunto de prueba\n",
    "y_pred = model.predict(X_test)\n",
    "\n",
    "# Graficar los datos y las predicciones\n",
    "fig = plt.figure(figsize=(10, 5))\n",
    "ax = plt.gca()\n",
    "fig.patch.set_facecolor('#d3d3d3') \n",
    "ax.set_facecolor('#d3d3d3')  # Establecer fondo gris claro\n",
    "plt.scatter(indicadoresPeriodo['fecha'], indicadoresPeriodo['cantidadCasos'], label=f'{fecha_inicio.date()} - {fecha_fin.date()}')\n",
    "plt.plot(indicadoresPeriodo[['fecha']], model.predict(X), color='red', label='Predicciones 2024')\n",
    "plt.scatter(indicadoresPeriodo2024['fecha'], indicadoresPeriodo2024['cantidadCasos'], color='green', label='Datos Reales 2024', marker='*')\n",
    "plt.xlabel('Fecha')\n",
    "plt.ylabel('cantidadCasos')\n",
    "plt.title(f'Predicción de casos creados vs Periodo {fecha_inicio.date()} a {fecha_fin.date()}')\n",
    "plt.legend()\n",
    "plt.show()\n",
    "\n",
    "# Calcular el error cuadrático medio (RMSE) en el conjunto de prueba\n",
    "rmse = np.sqrt(mean_squared_error(y_test, y_pred))\n",
    "print(f'Raíz del Error Cuadrático Medio (RMSE): {rmse}')"
   ]
  },
  {
   "cell_type": "code",
   "execution_count": 682,
   "id": "35857220-d4d2-4cbc-a257-2876a2684f74",
   "metadata": {},
   "outputs": [
    {
     "data": {
      "text/plain": [
       "(38343, 18)"
      ]
     },
     "execution_count": 682,
     "metadata": {},
     "output_type": "execute_result"
    }
   ],
   "source": [
    "indicadores3.shape"
   ]
  },
  {
   "cell_type": "code",
   "execution_count": 686,
   "id": "b66bacde-18e1-42bf-a6c2-eb2e2aba4eaa",
   "metadata": {},
   "outputs": [],
   "source": [
    "indicadores3['fecha_creacion'] = pd.to_datetime(indicadores3['fecha_creacion'])\n",
    "indicadores3['fecha_atencion'] = pd.to_datetime(indicadores3['fecha_atencion'])\n",
    "indicadores3['fecha_solucion'] = pd.to_datetime(indicadores3['fecha_solucion'])"
   ]
  },
  {
   "cell_type": "code",
   "execution_count": 675,
   "id": "1f0e6630-90ac-4616-9bb7-b4746230a728",
   "metadata": {},
   "outputs": [
    {
     "name": "stdout",
     "output_type": "stream",
     "text": [
      "R²: 0.004756774850556922\n",
      "MSE: 101.1876560675948\n",
      "RMSE: 10.059207526818144\n",
      "MAE: 7.696742578019672\n"
     ]
    }
   ],
   "source": [
    "r2 = r2_score(y_test, y_pred)\n",
    "print(f'R²: {r2}')\n",
    "mse = mean_squared_error(y_test, y_pred)\n",
    "rmse = np.sqrt(mse)\n",
    "print(f'MSE: {mse}')\n",
    "print(f'RMSE: {rmse}')\n",
    "\n",
    "mae = mean_absolute_error(y_test, y_pred)\n",
    "print(f'MAE: {mae}')"
   ]
  },
  {
   "cell_type": "code",
   "execution_count": 676,
   "id": "38454217-69a2-4393-953f-88943d922a42",
   "metadata": {},
   "outputs": [
    {
     "data": {
      "image/png": "[encoded data removed]",
      "text/plain": [
       "<Figure size 1000x500 with 1 Axes>"
      ]
     },
     "metadata": {},
     "output_type": "display_data"
    },
    {
     "name": "stdout",
     "output_type": "stream",
     "text": [
      "Raíz del Error Cuadrático Medio (RMSE) para regresión polinómica: 9.783468503816952\n"
     ]
    }
   ],
   "source": [
    "#Conversion del modelo lineal a modelo polinomial - Se agregan las demás variables independientes \n",
    "#fecha_creacion \taño_creacion \tmes_creacion \tdia_creacion \tdiasemana_creacion \tcantidadCasos\n",
    "\n",
    "#Se separan los datos de variables independientes (X) y dependientes (y)\n",
    "X = indicadoresPeriodo[['fecha']]\n",
    "#X = indicadoresPeriodo[['fecha']]\n",
    "y = indicadoresPeriodo['cantidadCasos'].values  \n",
    "\n",
    "# Dividir los datos en conjuntos de entrenamiento y prueba\n",
    "X_train, X_test, y_train, y_test = train_test_split(X, y, test_size=0.22, random_state=1000)\n",
    "\n",
    "poly = PolynomialFeatures(degree=2)\n",
    "X_poly_train = poly.fit_transform(X_train)\n",
    "X_poly_test = poly.transform(X_test)\n",
    "\n",
    "#Se crea el modelo de regresion polinomica\n",
    "poly_model = LinearRegression()\n",
    "poly_model.fit(X_poly_train, y_train)\n",
    "\n",
    "#Variable para asignar los valores de prediccion en Y en base a los valores de prueba X\n",
    "y_poly_pred = poly_model.predict(X_poly_test)\n",
    "\n",
    "fig = plt.figure(figsize=(10, 5))\n",
    "ax = plt.gca()\n",
    "fig.patch.set_facecolor('#d3d3d3') \n",
    "ax.set_facecolor('#d3d3d3') \n",
    "plt.scatter(indicadoresPeriodo['fecha'], indicadoresPeriodo['cantidadCasos'], label=f'{fecha_inicio.date()} - {fecha_fin.date()}')\n",
    "plt.plot(indicadoresPeriodo[['fecha']], poly_model.predict(poly.transform(X)), color='red', label='Predicciones 2024')\n",
    "plt.scatter(indicadoresPeriodo2024['fecha'], indicadoresPeriodo2024['cantidadCasos'], color='green', label='Datos Reales 2024', marker='*')\n",
    "plt.xlabel('Fecha')\n",
    "plt.ylabel('cantidadCasos')\n",
    "plt.title(f'Predicción de casos creados vs Periodo {fecha_inicio.date()} a {fecha_fin.date()}')\n",
    "plt.legend()\n",
    "plt.show()\n",
    "# Calculo de error cuadrateico medio (RMSE) con los valores de preuba\n",
    "rmse_poly = np.sqrt(mean_squared_error(y_test, y_poly_pred))\n",
    "print(f'Raíz del Error Cuadrático Medio (RMSE) para regresión polinómica: {rmse_poly}')"
   ]
  },
  {
   "cell_type": "code",
   "execution_count": 677,
   "id": "365a3761-808a-4ff8-bda5-e5e9f54e80c7",
   "metadata": {},
   "outputs": [
    {
     "name": "stdout",
     "output_type": "stream",
     "text": [
      "R²: 0.05857138125249173\n",
      "MSE: 95.71625596517832\n",
      "RMSE: 9.783468503816952\n",
      "MAE: 7.4853738424472915\n"
     ]
    }
   ],
   "source": [
    "r2 = r2_score(y_test, y_poly_pred)\n",
    "print(f'R²: {r2}')\n",
    "mse = mean_squared_error(y_test, y_poly_pred)\n",
    "rmse = np.sqrt(mse)\n",
    "print(f'MSE: {mse}')\n",
    "print(f'RMSE: {rmse}')\n",
    "\n",
    "mae = mean_absolute_error(y_test, y_poly_pred)\n",
    "print(f'MAE: {mae}')"
   ]
  },
  {
   "cell_type": "code",
   "execution_count": 721,
   "id": "24d6e7b1-5be6-4355-a6f1-d25199305761",
   "metadata": {},
   "outputs": [
    {
     "data": {
      "text/plain": [
       "(20408, 18)"
      ]
     },
     "execution_count": 721,
     "metadata": {},
     "output_type": "execute_result"
    }
   ],
   "source": [
    "indicadoresSoporte = indicadores3[(indicadores3['tipo_de_caso']== 'Incidente') & (indicadores3['proyecto']=='Soporte')]\n",
    "indicadoresSoporte.shape"
   ]
  },
  {
   "cell_type": "code",
   "execution_count": 836,
   "id": "db9b75a5-0095-4e7f-ad53-0db2dd1f6121",
   "metadata": {},
   "outputs": [
    {
     "name": "stderr",
     "output_type": "stream",
     "text": [
      "C:\\Users\\ferodriguez\\AppData\\Local\\Temp\\ipykernel_6744\\3865823765.py:6: SettingWithCopyWarning: \n",
      "A value is trying to be set on a copy of a slice from a DataFrame.\n",
      "Try using .loc[row_indexer,col_indexer] = value instead\n",
      "\n",
      "See the caveats in the documentation: https://pandas.pydata.org/pandas-docs/stable/user_guide/indexing.html#returning-a-view-versus-a-copy\n",
      "  indicadoresMatrix['fechaCaso'] = label_encoder.fit_transform(indicadoresMatrix['fecha_solucion'])\n",
      "C:\\Users\\ferodriguez\\AppData\\Local\\Temp\\ipykernel_6744\\3865823765.py:7: SettingWithCopyWarning: \n",
      "A value is trying to be set on a copy of a slice from a DataFrame.\n",
      "Try using .loc[row_indexer,col_indexer] = value instead\n",
      "\n",
      "See the caveats in the documentation: https://pandas.pydata.org/pandas-docs/stable/user_guide/indexing.html#returning-a-view-versus-a-copy\n",
      "  indicadoresMatrix['CUMPLE_ANS'] = label_encoder.fit_transform(indicadoresMatrix['CUMPLE_ANS'])\n",
      "C:\\Users\\ferodriguez\\AppData\\Local\\Temp\\ipykernel_6744\\3865823765.py:8: SettingWithCopyWarning: \n",
      "A value is trying to be set on a copy of a slice from a DataFrame.\n",
      "Try using .loc[row_indexer,col_indexer] = value instead\n",
      "\n",
      "See the caveats in the documentation: https://pandas.pydata.org/pandas-docs/stable/user_guide/indexing.html#returning-a-view-versus-a-copy\n",
      "  indicadoresMatrix['indice'] = indicadoresMatrix.index\n"
     ]
    }
   ],
   "source": [
    "#Creacion de un nuevo dataframe para elaborar el modelo de Matriz de Confusión\n",
    "label_encoder = LabelEncoder() \n",
    "#Segmentando los datos para evaluar solamente casos solucionados del año 2023\n",
    "indicadoresMatrix = indicadoresSoporte[(indicadoresSoporte['fecha_solucion']>= '2023-01-01') & (indicadoresSoporte['fecha_solucion']<= '2023-12-31')]\n",
    "#indicadoresMatrix = indicadoresSoporte.copy()\n",
    "indicadoresMatrix['fechaCaso'] = label_encoder.fit_transform(indicadoresMatrix['fecha_solucion'])\n",
    "indicadoresMatrix['CUMPLE_ANS'] = label_encoder.fit_transform(indicadoresMatrix['CUMPLE_ANS'])\n",
    "indicadoresMatrix['indice'] = indicadoresMatrix.index\n",
    "indicadoresMX = indicadoresMatrix.copy()"
   ]
  },
  {
   "cell_type": "code",
   "execution_count": 837,
   "id": "a527225c-e419-4e03-82df-ce74643428cd",
   "metadata": {},
   "outputs": [],
   "source": [
    "#ELiminar columnas inncesarias\n",
    "indicadoresMX.drop(columns=['tipo_de_caso','proyecto',\n",
    "       'username_resp', 'usuariofinal', 'username_ufinal',\n",
    "       'fecha_solucion', 'fecha_creacion', 'fecha_atencion',\n",
    "       'diasemana_creacion',\n",
    "       'mes_creacion', 'dia_creacion', 'año_creacion'], inplace=True)"
   ]
  },
  {
   "cell_type": "code",
   "execution_count": 838,
   "id": "57c2f375-b6a7-4892-ac0d-bb170a2f80ed",
   "metadata": {},
   "outputs": [
    {
     "data": {
      "text/plain": [
       "origen_caso           int32\n",
       "numero_caso           int64\n",
       "servicio              int32\n",
       "responsable           int32\n",
       "tiempoTranscurrido    int64\n",
       "CUMPLE_ANS            int32\n",
       "fechaCaso             int64\n",
       "indice                int64\n",
       "dtype: object"
      ]
     },
     "execution_count": 838,
     "metadata": {},
     "output_type": "execute_result"
    }
   ],
   "source": [
    "#Codificacion de columnas con labelencoder para que puedan ser leídas por el modelo\n",
    "columns_to_encode = ['origen_caso', 'servicio', \n",
    "       'responsable']  \n",
    "# Aplicar LabelEncoder a cada columna en la lista\n",
    "for column in columns_to_encode:\n",
    "    indicadoresMX[column] = label_encoder.fit_transform(indicadoresMX[column])\n",
    "indicadoresMX.dtypes"
   ]
  },
  {
   "cell_type": "code",
   "execution_count": 839,
   "id": "9d173ec3-d469-4f77-88f3-5ebb2c48e163",
   "metadata": {},
   "outputs": [
    {
     "data": {
      "text/plain": [
       "origen_caso           int32\n",
       "numero_caso           int64\n",
       "servicio              int32\n",
       "responsable           int32\n",
       "tiempoTranscurrido    int64\n",
       "CUMPLE_ANS            int32\n",
       "fechaCaso             int64\n",
       "indice                int64\n",
       "dtype: object"
      ]
     },
     "execution_count": 839,
     "metadata": {},
     "output_type": "execute_result"
    }
   ],
   "source": [
    "indicadoresMX.dtypes"
   ]
  },
  {
   "cell_type": "code",
   "execution_count": 840,
   "id": "338bf8da-bf11-4d72-a304-cb05db267de9",
   "metadata": {},
   "outputs": [
    {
     "name": "stdout",
     "output_type": "stream",
     "text": [
      "(4393, 5) (4393,)\n"
     ]
    }
   ],
   "source": [
    "#CONJUNTOS DE DATOS PARA FECHAS y ENTRENAMIENTO DE MODELO DE REGRESIÓN LOGÍSTICA\n",
    "#dividimos los datos en caracteristicas X, y en las etiquetas y\n",
    "X = indicadoresMX.drop(['CUMPLE_ANS','indice','fechaCaso'], axis =1)\n",
    "y = indicadoresMX['CUMPLE_ANS']\n",
    "print(X.shape, y.shape)"
   ]
  },
  {
   "cell_type": "code",
   "execution_count": 841,
   "id": "2a0cba47-69c3-4cc4-b71f-16d66a80cd34",
   "metadata": {},
   "outputs": [
    {
     "name": "stdout",
     "output_type": "stream",
     "text": [
      "Precision del modelo: 93.52\n"
     ]
    },
    {
     "name": "stderr",
     "output_type": "stream",
     "text": [
      "C:\\Users\\ferodriguez\\AppData\\Local\\miniconda3\\envs\\lapby\\Lib\\site-packages\\sklearn\\linear_model\\_logistic.py:469: ConvergenceWarning: lbfgs failed to converge (status=1):\n",
      "STOP: TOTAL NO. of ITERATIONS REACHED LIMIT.\n",
      "\n",
      "Increase the number of iterations (max_iter) or scale the data as shown in:\n",
      "    https://scikit-learn.org/stable/modules/preprocessing.html\n",
      "Please also refer to the documentation for alternative solver options:\n",
      "    https://scikit-learn.org/stable/modules/linear_model.html#logistic-regression\n",
      "  n_iter_i = _check_optimize_result(\n"
     ]
    }
   ],
   "source": [
    "#Entrenamiento en el conjunto de datos 80% entrenamiento y 20% prueba\n",
    "X_train, X_test, y_train, y_test = train_test_split(X,y,test_size=0.20, random_state=42)\n",
    "#Creamos el modelo de regresión logística\n",
    "modelo = LogisticRegression()\n",
    "#Entrenar el modelo\n",
    "modelo.fit(X_train, y_train)\n",
    "\n",
    "#Se realizan predicciones con el conjunto de pruebas\n",
    "y_pred=modelo.predict(X_test)\n",
    "\n",
    "#Mostrar la precisión del modelo con accuracy: Predicciones correctas (TP+TN) / el total de predicciones positivas y negativas (TP+TN+FP+FN)\n",
    "accuracy = accuracy_score(y_test, y_pred)\n",
    "print(f\"Precision del modelo:{accuracy*100: .2f}\")"
   ]
  },
  {
   "cell_type": "code",
   "execution_count": 850,
   "id": "f66c1cc1-a4c2-4233-a734-0f0de7057d69",
   "metadata": {},
   "outputs": [
    {
     "name": "stdout",
     "output_type": "stream",
     "text": [
      "Matriz de confusion\n",
      "[[ 14  54]\n",
      " [  3 808]]\n",
      "total registros para la prueba 20%: 879\n"
     ]
    }
   ],
   "source": [
    "#Mostrar la matriz de confusión para evaluar el rendimiento del modelo\n",
    "conf_matrix = confusion_matrix(y_test, y_pred)\n",
    "print(\"Matriz de confusion\")\n",
    "print(conf_matrix)\n",
    "print(f'total registros para la prueba 20%:',len(y_test))"
   ]
  },
  {
   "cell_type": "code",
   "execution_count": 843,
   "id": "3314b9f3-5444-43f0-ad22-19d3f70896cd",
   "metadata": {},
   "outputs": [
    {
     "data": {
      "text/plain": [
       "<sklearn.metrics._plot.confusion_matrix.ConfusionMatrixDisplay at 0x2090fde7b30>"
      ]
     },
     "execution_count": 843,
     "metadata": {},
     "output_type": "execute_result"
    },
    {
     "data": {
      "image/png": "[encoded data removed]",
      "text/plain": [
       "<Figure size 640x480 with 2 Axes>"
      ]
     },
     "metadata": {},
     "output_type": "display_data"
    }
   ],
   "source": [
    "#Generar gráfico de matriz de confusión\n",
    "GraficoMC = sklearn.metrics.ConfusionMatrixDisplay(conf_matrix)\n",
    "GraficoMC.plot()"
   ]
  },
  {
   "cell_type": "code",
   "execution_count": 852,
   "id": "51f55528-9de4-4b25-b4d6-667589b70c43",
   "metadata": {},
   "outputs": [
    {
     "name": "stdout",
     "output_type": "stream",
     "text": [
      "Puntajes de la validación cruzada: [0.93314367 0.91749644 0.92034139 0.92460882 0.93447293]\n",
      "Media del puntaje de validación cruzada: 0.9260126523284418\n",
      "Desviación estándar del puntaje de validación cruzada: 0.006768862711951065\n"
     ]
    },
    {
     "name": "stderr",
     "output_type": "stream",
     "text": [
      "C:\\Users\\ferodriguez\\AppData\\Local\\miniconda3\\envs\\lapby\\Lib\\site-packages\\sklearn\\linear_model\\_logistic.py:469: ConvergenceWarning: lbfgs failed to converge (status=1):\n",
      "STOP: TOTAL NO. of ITERATIONS REACHED LIMIT.\n",
      "\n",
      "Increase the number of iterations (max_iter) or scale the data as shown in:\n",
      "    https://scikit-learn.org/stable/modules/preprocessing.html\n",
      "Please also refer to the documentation for alternative solver options:\n",
      "    https://scikit-learn.org/stable/modules/linear_model.html#logistic-regression\n",
      "  n_iter_i = _check_optimize_result(\n",
      "C:\\Users\\ferodriguez\\AppData\\Local\\miniconda3\\envs\\lapby\\Lib\\site-packages\\sklearn\\linear_model\\_logistic.py:469: ConvergenceWarning: lbfgs failed to converge (status=1):\n",
      "STOP: TOTAL NO. of ITERATIONS REACHED LIMIT.\n",
      "\n",
      "Increase the number of iterations (max_iter) or scale the data as shown in:\n",
      "    https://scikit-learn.org/stable/modules/preprocessing.html\n",
      "Please also refer to the documentation for alternative solver options:\n",
      "    https://scikit-learn.org/stable/modules/linear_model.html#logistic-regression\n",
      "  n_iter_i = _check_optimize_result(\n",
      "C:\\Users\\ferodriguez\\AppData\\Local\\miniconda3\\envs\\lapby\\Lib\\site-packages\\sklearn\\linear_model\\_logistic.py:469: ConvergenceWarning: lbfgs failed to converge (status=1):\n",
      "STOP: TOTAL NO. of ITERATIONS REACHED LIMIT.\n",
      "\n",
      "Increase the number of iterations (max_iter) or scale the data as shown in:\n",
      "    https://scikit-learn.org/stable/modules/preprocessing.html\n",
      "Please also refer to the documentation for alternative solver options:\n",
      "    https://scikit-learn.org/stable/modules/linear_model.html#logistic-regression\n",
      "  n_iter_i = _check_optimize_result(\n",
      "C:\\Users\\ferodriguez\\AppData\\Local\\miniconda3\\envs\\lapby\\Lib\\site-packages\\sklearn\\linear_model\\_logistic.py:469: ConvergenceWarning: lbfgs failed to converge (status=1):\n",
      "STOP: TOTAL NO. of ITERATIONS REACHED LIMIT.\n",
      "\n",
      "Increase the number of iterations (max_iter) or scale the data as shown in:\n",
      "    https://scikit-learn.org/stable/modules/preprocessing.html\n",
      "Please also refer to the documentation for alternative solver options:\n",
      "    https://scikit-learn.org/stable/modules/linear_model.html#logistic-regression\n",
      "  n_iter_i = _check_optimize_result(\n",
      "C:\\Users\\ferodriguez\\AppData\\Local\\miniconda3\\envs\\lapby\\Lib\\site-packages\\sklearn\\linear_model\\_logistic.py:469: ConvergenceWarning: lbfgs failed to converge (status=1):\n",
      "STOP: TOTAL NO. of ITERATIONS REACHED LIMIT.\n",
      "\n",
      "Increase the number of iterations (max_iter) or scale the data as shown in:\n",
      "    https://scikit-learn.org/stable/modules/preprocessing.html\n",
      "Please also refer to the documentation for alternative solver options:\n",
      "    https://scikit-learn.org/stable/modules/linear_model.html#logistic-regression\n",
      "  n_iter_i = _check_optimize_result(\n"
     ]
    }
   ],
   "source": [
    "#EVALUACIÓN DEL MODELO CON OTRAS MÉTRICAS\n",
    "#Utilizando la cruzada para validar el modelo\n",
    "scores = cross_val_score(modelo, X_train, y_train, cv=5)\n",
    "\n",
    "# Imprimir los puntajes de la validación cruzada\n",
    "print(\"Puntajes de la validación cruzada:\", scores)\n",
    "\n",
    "# Calcular la media y la desviación estándar de los puntajes\n",
    "print(\"Media del puntaje de validación cruzada:\", np.mean(scores))\n",
    "print(\"Desviación estándar del puntaje de validación cruzada:\", np.std(scores))"
   ]
  },
  {
   "cell_type": "code",
   "execution_count": 853,
   "id": "8292fb1f-1b75-4a95-a2dd-37255e3d37fa",
   "metadata": {},
   "outputs": [
    {
     "name": "stdout",
     "output_type": "stream",
     "text": [
      "Métrica de precisión: 0.9373549883990719\n",
      "Métrica de Recall: 0.9963008631319359\n",
      "Métrica de F1 Score: 0.9659294680215182\n"
     ]
    }
   ],
   "source": [
    "#medida de precision (Proporcion de predicciones verdaderas positivas (TP) / total de predicciones positivas TP + FP\n",
    "print(\"Métrica de precisión:\",sklearn.metrics.precision_score(y_test, y_pred))\n",
    "#medida de recall o exhaustividad Proporcion de predicciones verdaderas positivas (TP) con respecto al total de observaciones\n",
    "#positivas (TP + FN)\n",
    "print(\"Métrica de Recall:\",sklearn.metrics.recall_score(y_test, y_pred))\n",
    "#Ejemplo con f1 Score -> Es mejor que accuracy para datos desbalanceados\n",
    "f1 = f1_score(y_test, y_pred)\n",
    "print(\"Métrica de F1 Score:\", f1)"
   ]
  },
  {
   "cell_type": "code",
   "execution_count": null,
   "id": "328109e1-f528-4357-8c40-ac74f6b7855a",
   "metadata": {},
   "outputs": [],
   "source": []
  }
 ],
 "metadata": {
  "kernelspec": {
   "display_name": "Python 3 (ipykernel)",
   "language": "python",
   "name": "python3"
  },
  "language_info": {
   "codemirror_mode": {
    "name": "ipython",
    "version": 3
   },
   "file_extension": ".py",
   "mimetype": "text/x-python",
   "name": "python",
   "nbconvert_exporter": "python",
   "pygments_lexer": "ipython3",
   "version": "3.12.3"
  }
 },
 "nbformat": 4,
 "nbformat_minor": 5
}
